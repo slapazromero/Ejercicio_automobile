{
  "nbformat": 4,
  "nbformat_minor": 0,
  "metadata": {
    "colab": {
      "provenance": [],
      "include_colab_link": true
    },
    "kernelspec": {
      "name": "python3",
      "display_name": "Python 3"
    },
    "language_info": {
      "name": "python"
    }
  },
  "cells": [
    {
      "cell_type": "markdown",
      "metadata": {
        "id": "view-in-github",
        "colab_type": "text"
      },
      "source": [
        "<a href=\"https://colab.research.google.com/github/slapazromero/Ejercicio_automobile/blob/main/Automobile_red_neuronal.ipynb\" target=\"_parent\"><img src=\"https://colab.research.google.com/assets/colab-badge.svg\" alt=\"Open In Colab\"/></a>"
      ]
    },
    {
      "cell_type": "markdown",
      "source": [
        "# Importación de datos"
      ],
      "metadata": {
        "id": "fawZtFO9Bhlg"
      }
    },
    {
      "cell_type": "markdown",
      "source": [
        "## Descargar dataset"
      ],
      "metadata": {
        "id": "QegUqCW5BZZc"
      }
    },
    {
      "cell_type": "markdown",
      "source": [
        "Fuente: https://archive.ics.uci.edu/ml/datasets/automobile\n",
        "\n",
        "Datos: https://archive.ics.uci.edu/ml/machine-learning-databases/autos/imports-85.data\n",
        "\n",
        "Atributos: https://archive.ics.uci.edu/ml/machine-learning-databases/autos/imports-85.names"
      ],
      "metadata": {
        "id": "7EgpExVAHYAV"
      }
    },
    {
      "cell_type": "code",
      "execution_count": null,
      "metadata": {
        "id": "HOOViqU2BUv4"
      },
      "outputs": [],
      "source": [
        "!wget -qP datasets/ https://archive.ics.uci.edu/ml/machine-learning-databases/autos/imports-85.data\n",
        "\n",
        "!wget -qP datasets/ https://archive.ics.uci.edu/ml/machine-learning-databases/autos/imports-85.names"
      ]
    },
    {
      "cell_type": "markdown",
      "source": [
        "## Asignar dataset"
      ],
      "metadata": {
        "id": "FGyyOEe9B2Lg"
      }
    },
    {
      "cell_type": "markdown",
      "source": [
        "El dataset contiene información sobre 205 automóviles y sus precios, aunque\n",
        "no incluye los nombres de las columnas; esta información se encuentra en un archivo adicional. Concretamente, el dataset contiene:\n",
        "\n",
        "i) información de un automóvil en términos de diversas características, \n",
        "\n",
        "ii) su nivel de riesgo en relación con el seguro, y\n",
        "\n",
        "iii) el pago medio relativo de los siniestros ocurridos por año de seguro. \n",
        "\n",
        "Finalmente, cada fila del dataset contiene información sobre el precio por el que se vendió dicho vehículo. Esta sera la variable objetivo."
      ],
      "metadata": {
        "id": "wDh7bVJXlcQD"
      }
    },
    {
      "cell_type": "code",
      "source": [
        "import pandas as pd\n",
        "import numpy as np"
      ],
      "metadata": {
        "id": "Jkj7cEJUB8t6"
      },
      "execution_count": null,
      "outputs": []
    },
    {
      "cell_type": "code",
      "source": [
        "feature_names = ['symboling', 'normalized-losses', 'make', 'fuel-type', 'aspiration', \n",
        "                 'num-of-doors', 'body-style', 'drive-wheels', 'engine-location', \n",
        "                 'wheel-base', 'length', 'width', 'height', 'curb-weight', 'engine-type', \n",
        "                 'num-of-cylinders', 'engine-size', 'fuel-system', 'bore', 'stroke', \n",
        "                 'compression-ratio', 'horsepower', 'peak-rpm', 'city-mpg', 'highway-mpg', \n",
        "                 'price']\n",
        "\n",
        "# los valores desconocidos en el dataset están marcados con una interrogación\n",
        "df = pd.read_csv('datasets/imports-85.data', names = feature_names, na_values = '?')"
      ],
      "metadata": {
        "id": "sHUs_7HjB_8p"
      },
      "execution_count": null,
      "outputs": []
    },
    {
      "cell_type": "code",
      "source": [
        "print(len(df))"
      ],
      "metadata": {
        "colab": {
          "base_uri": "https://localhost:8080/"
        },
        "id": "k-1PNfazkw9i",
        "outputId": "7a749b43-ea26-4c26-d13d-b3caaddc4308"
      },
      "execution_count": null,
      "outputs": [
        {
          "output_type": "stream",
          "name": "stdout",
          "text": [
            "205\n"
          ]
        }
      ]
    },
    {
      "cell_type": "code",
      "source": [
        "df"
      ],
      "metadata": {
        "id": "v5_GkRRcCIyT",
        "colab": {
          "base_uri": "https://localhost:8080/",
          "height": 575
        },
        "outputId": "d5db03f0-81f8-4efe-db6f-81088c9bf1bb"
      },
      "execution_count": null,
      "outputs": [
        {
          "output_type": "execute_result",
          "data": {
            "text/plain": [
              "     symboling  normalized-losses         make fuel-type aspiration  \\\n",
              "0            3                NaN  alfa-romero       gas        std   \n",
              "1            3                NaN  alfa-romero       gas        std   \n",
              "2            1                NaN  alfa-romero       gas        std   \n",
              "3            2              164.0         audi       gas        std   \n",
              "4            2              164.0         audi       gas        std   \n",
              "..         ...                ...          ...       ...        ...   \n",
              "200         -1               95.0        volvo       gas        std   \n",
              "201         -1               95.0        volvo       gas      turbo   \n",
              "202         -1               95.0        volvo       gas        std   \n",
              "203         -1               95.0        volvo    diesel      turbo   \n",
              "204         -1               95.0        volvo       gas      turbo   \n",
              "\n",
              "    num-of-doors   body-style drive-wheels engine-location  wheel-base  ...  \\\n",
              "0            two  convertible          rwd           front        88.6  ...   \n",
              "1            two  convertible          rwd           front        88.6  ...   \n",
              "2            two    hatchback          rwd           front        94.5  ...   \n",
              "3           four        sedan          fwd           front        99.8  ...   \n",
              "4           four        sedan          4wd           front        99.4  ...   \n",
              "..           ...          ...          ...             ...         ...  ...   \n",
              "200         four        sedan          rwd           front       109.1  ...   \n",
              "201         four        sedan          rwd           front       109.1  ...   \n",
              "202         four        sedan          rwd           front       109.1  ...   \n",
              "203         four        sedan          rwd           front       109.1  ...   \n",
              "204         four        sedan          rwd           front       109.1  ...   \n",
              "\n",
              "     engine-size  fuel-system  bore  stroke compression-ratio horsepower  \\\n",
              "0            130         mpfi  3.47    2.68               9.0      111.0   \n",
              "1            130         mpfi  3.47    2.68               9.0      111.0   \n",
              "2            152         mpfi  2.68    3.47               9.0      154.0   \n",
              "3            109         mpfi  3.19    3.40              10.0      102.0   \n",
              "4            136         mpfi  3.19    3.40               8.0      115.0   \n",
              "..           ...          ...   ...     ...               ...        ...   \n",
              "200          141         mpfi  3.78    3.15               9.5      114.0   \n",
              "201          141         mpfi  3.78    3.15               8.7      160.0   \n",
              "202          173         mpfi  3.58    2.87               8.8      134.0   \n",
              "203          145          idi  3.01    3.40              23.0      106.0   \n",
              "204          141         mpfi  3.78    3.15               9.5      114.0   \n",
              "\n",
              "     peak-rpm city-mpg  highway-mpg    price  \n",
              "0      5000.0       21           27  13495.0  \n",
              "1      5000.0       21           27  16500.0  \n",
              "2      5000.0       19           26  16500.0  \n",
              "3      5500.0       24           30  13950.0  \n",
              "4      5500.0       18           22  17450.0  \n",
              "..        ...      ...          ...      ...  \n",
              "200    5400.0       23           28  16845.0  \n",
              "201    5300.0       19           25  19045.0  \n",
              "202    5500.0       18           23  21485.0  \n",
              "203    4800.0       26           27  22470.0  \n",
              "204    5400.0       19           25  22625.0  \n",
              "\n",
              "[205 rows x 26 columns]"
            ],
            "text/html": [
              "\n",
              "  <div id=\"df-2d9fe4a5-8e21-4202-b0b4-356544d22ee1\">\n",
              "    <div class=\"colab-df-container\">\n",
              "      <div>\n",
              "<style scoped>\n",
              "    .dataframe tbody tr th:only-of-type {\n",
              "        vertical-align: middle;\n",
              "    }\n",
              "\n",
              "    .dataframe tbody tr th {\n",
              "        vertical-align: top;\n",
              "    }\n",
              "\n",
              "    .dataframe thead th {\n",
              "        text-align: right;\n",
              "    }\n",
              "</style>\n",
              "<table border=\"1\" class=\"dataframe\">\n",
              "  <thead>\n",
              "    <tr style=\"text-align: right;\">\n",
              "      <th></th>\n",
              "      <th>symboling</th>\n",
              "      <th>normalized-losses</th>\n",
              "      <th>make</th>\n",
              "      <th>fuel-type</th>\n",
              "      <th>aspiration</th>\n",
              "      <th>num-of-doors</th>\n",
              "      <th>body-style</th>\n",
              "      <th>drive-wheels</th>\n",
              "      <th>engine-location</th>\n",
              "      <th>wheel-base</th>\n",
              "      <th>...</th>\n",
              "      <th>engine-size</th>\n",
              "      <th>fuel-system</th>\n",
              "      <th>bore</th>\n",
              "      <th>stroke</th>\n",
              "      <th>compression-ratio</th>\n",
              "      <th>horsepower</th>\n",
              "      <th>peak-rpm</th>\n",
              "      <th>city-mpg</th>\n",
              "      <th>highway-mpg</th>\n",
              "      <th>price</th>\n",
              "    </tr>\n",
              "  </thead>\n",
              "  <tbody>\n",
              "    <tr>\n",
              "      <th>0</th>\n",
              "      <td>3</td>\n",
              "      <td>NaN</td>\n",
              "      <td>alfa-romero</td>\n",
              "      <td>gas</td>\n",
              "      <td>std</td>\n",
              "      <td>two</td>\n",
              "      <td>convertible</td>\n",
              "      <td>rwd</td>\n",
              "      <td>front</td>\n",
              "      <td>88.6</td>\n",
              "      <td>...</td>\n",
              "      <td>130</td>\n",
              "      <td>mpfi</td>\n",
              "      <td>3.47</td>\n",
              "      <td>2.68</td>\n",
              "      <td>9.0</td>\n",
              "      <td>111.0</td>\n",
              "      <td>5000.0</td>\n",
              "      <td>21</td>\n",
              "      <td>27</td>\n",
              "      <td>13495.0</td>\n",
              "    </tr>\n",
              "    <tr>\n",
              "      <th>1</th>\n",
              "      <td>3</td>\n",
              "      <td>NaN</td>\n",
              "      <td>alfa-romero</td>\n",
              "      <td>gas</td>\n",
              "      <td>std</td>\n",
              "      <td>two</td>\n",
              "      <td>convertible</td>\n",
              "      <td>rwd</td>\n",
              "      <td>front</td>\n",
              "      <td>88.6</td>\n",
              "      <td>...</td>\n",
              "      <td>130</td>\n",
              "      <td>mpfi</td>\n",
              "      <td>3.47</td>\n",
              "      <td>2.68</td>\n",
              "      <td>9.0</td>\n",
              "      <td>111.0</td>\n",
              "      <td>5000.0</td>\n",
              "      <td>21</td>\n",
              "      <td>27</td>\n",
              "      <td>16500.0</td>\n",
              "    </tr>\n",
              "    <tr>\n",
              "      <th>2</th>\n",
              "      <td>1</td>\n",
              "      <td>NaN</td>\n",
              "      <td>alfa-romero</td>\n",
              "      <td>gas</td>\n",
              "      <td>std</td>\n",
              "      <td>two</td>\n",
              "      <td>hatchback</td>\n",
              "      <td>rwd</td>\n",
              "      <td>front</td>\n",
              "      <td>94.5</td>\n",
              "      <td>...</td>\n",
              "      <td>152</td>\n",
              "      <td>mpfi</td>\n",
              "      <td>2.68</td>\n",
              "      <td>3.47</td>\n",
              "      <td>9.0</td>\n",
              "      <td>154.0</td>\n",
              "      <td>5000.0</td>\n",
              "      <td>19</td>\n",
              "      <td>26</td>\n",
              "      <td>16500.0</td>\n",
              "    </tr>\n",
              "    <tr>\n",
              "      <th>3</th>\n",
              "      <td>2</td>\n",
              "      <td>164.0</td>\n",
              "      <td>audi</td>\n",
              "      <td>gas</td>\n",
              "      <td>std</td>\n",
              "      <td>four</td>\n",
              "      <td>sedan</td>\n",
              "      <td>fwd</td>\n",
              "      <td>front</td>\n",
              "      <td>99.8</td>\n",
              "      <td>...</td>\n",
              "      <td>109</td>\n",
              "      <td>mpfi</td>\n",
              "      <td>3.19</td>\n",
              "      <td>3.40</td>\n",
              "      <td>10.0</td>\n",
              "      <td>102.0</td>\n",
              "      <td>5500.0</td>\n",
              "      <td>24</td>\n",
              "      <td>30</td>\n",
              "      <td>13950.0</td>\n",
              "    </tr>\n",
              "    <tr>\n",
              "      <th>4</th>\n",
              "      <td>2</td>\n",
              "      <td>164.0</td>\n",
              "      <td>audi</td>\n",
              "      <td>gas</td>\n",
              "      <td>std</td>\n",
              "      <td>four</td>\n",
              "      <td>sedan</td>\n",
              "      <td>4wd</td>\n",
              "      <td>front</td>\n",
              "      <td>99.4</td>\n",
              "      <td>...</td>\n",
              "      <td>136</td>\n",
              "      <td>mpfi</td>\n",
              "      <td>3.19</td>\n",
              "      <td>3.40</td>\n",
              "      <td>8.0</td>\n",
              "      <td>115.0</td>\n",
              "      <td>5500.0</td>\n",
              "      <td>18</td>\n",
              "      <td>22</td>\n",
              "      <td>17450.0</td>\n",
              "    </tr>\n",
              "    <tr>\n",
              "      <th>...</th>\n",
              "      <td>...</td>\n",
              "      <td>...</td>\n",
              "      <td>...</td>\n",
              "      <td>...</td>\n",
              "      <td>...</td>\n",
              "      <td>...</td>\n",
              "      <td>...</td>\n",
              "      <td>...</td>\n",
              "      <td>...</td>\n",
              "      <td>...</td>\n",
              "      <td>...</td>\n",
              "      <td>...</td>\n",
              "      <td>...</td>\n",
              "      <td>...</td>\n",
              "      <td>...</td>\n",
              "      <td>...</td>\n",
              "      <td>...</td>\n",
              "      <td>...</td>\n",
              "      <td>...</td>\n",
              "      <td>...</td>\n",
              "      <td>...</td>\n",
              "    </tr>\n",
              "    <tr>\n",
              "      <th>200</th>\n",
              "      <td>-1</td>\n",
              "      <td>95.0</td>\n",
              "      <td>volvo</td>\n",
              "      <td>gas</td>\n",
              "      <td>std</td>\n",
              "      <td>four</td>\n",
              "      <td>sedan</td>\n",
              "      <td>rwd</td>\n",
              "      <td>front</td>\n",
              "      <td>109.1</td>\n",
              "      <td>...</td>\n",
              "      <td>141</td>\n",
              "      <td>mpfi</td>\n",
              "      <td>3.78</td>\n",
              "      <td>3.15</td>\n",
              "      <td>9.5</td>\n",
              "      <td>114.0</td>\n",
              "      <td>5400.0</td>\n",
              "      <td>23</td>\n",
              "      <td>28</td>\n",
              "      <td>16845.0</td>\n",
              "    </tr>\n",
              "    <tr>\n",
              "      <th>201</th>\n",
              "      <td>-1</td>\n",
              "      <td>95.0</td>\n",
              "      <td>volvo</td>\n",
              "      <td>gas</td>\n",
              "      <td>turbo</td>\n",
              "      <td>four</td>\n",
              "      <td>sedan</td>\n",
              "      <td>rwd</td>\n",
              "      <td>front</td>\n",
              "      <td>109.1</td>\n",
              "      <td>...</td>\n",
              "      <td>141</td>\n",
              "      <td>mpfi</td>\n",
              "      <td>3.78</td>\n",
              "      <td>3.15</td>\n",
              "      <td>8.7</td>\n",
              "      <td>160.0</td>\n",
              "      <td>5300.0</td>\n",
              "      <td>19</td>\n",
              "      <td>25</td>\n",
              "      <td>19045.0</td>\n",
              "    </tr>\n",
              "    <tr>\n",
              "      <th>202</th>\n",
              "      <td>-1</td>\n",
              "      <td>95.0</td>\n",
              "      <td>volvo</td>\n",
              "      <td>gas</td>\n",
              "      <td>std</td>\n",
              "      <td>four</td>\n",
              "      <td>sedan</td>\n",
              "      <td>rwd</td>\n",
              "      <td>front</td>\n",
              "      <td>109.1</td>\n",
              "      <td>...</td>\n",
              "      <td>173</td>\n",
              "      <td>mpfi</td>\n",
              "      <td>3.58</td>\n",
              "      <td>2.87</td>\n",
              "      <td>8.8</td>\n",
              "      <td>134.0</td>\n",
              "      <td>5500.0</td>\n",
              "      <td>18</td>\n",
              "      <td>23</td>\n",
              "      <td>21485.0</td>\n",
              "    </tr>\n",
              "    <tr>\n",
              "      <th>203</th>\n",
              "      <td>-1</td>\n",
              "      <td>95.0</td>\n",
              "      <td>volvo</td>\n",
              "      <td>diesel</td>\n",
              "      <td>turbo</td>\n",
              "      <td>four</td>\n",
              "      <td>sedan</td>\n",
              "      <td>rwd</td>\n",
              "      <td>front</td>\n",
              "      <td>109.1</td>\n",
              "      <td>...</td>\n",
              "      <td>145</td>\n",
              "      <td>idi</td>\n",
              "      <td>3.01</td>\n",
              "      <td>3.40</td>\n",
              "      <td>23.0</td>\n",
              "      <td>106.0</td>\n",
              "      <td>4800.0</td>\n",
              "      <td>26</td>\n",
              "      <td>27</td>\n",
              "      <td>22470.0</td>\n",
              "    </tr>\n",
              "    <tr>\n",
              "      <th>204</th>\n",
              "      <td>-1</td>\n",
              "      <td>95.0</td>\n",
              "      <td>volvo</td>\n",
              "      <td>gas</td>\n",
              "      <td>turbo</td>\n",
              "      <td>four</td>\n",
              "      <td>sedan</td>\n",
              "      <td>rwd</td>\n",
              "      <td>front</td>\n",
              "      <td>109.1</td>\n",
              "      <td>...</td>\n",
              "      <td>141</td>\n",
              "      <td>mpfi</td>\n",
              "      <td>3.78</td>\n",
              "      <td>3.15</td>\n",
              "      <td>9.5</td>\n",
              "      <td>114.0</td>\n",
              "      <td>5400.0</td>\n",
              "      <td>19</td>\n",
              "      <td>25</td>\n",
              "      <td>22625.0</td>\n",
              "    </tr>\n",
              "  </tbody>\n",
              "</table>\n",
              "<p>205 rows × 26 columns</p>\n",
              "</div>\n",
              "      <button class=\"colab-df-convert\" onclick=\"convertToInteractive('df-2d9fe4a5-8e21-4202-b0b4-356544d22ee1')\"\n",
              "              title=\"Convert this dataframe to an interactive table.\"\n",
              "              style=\"display:none;\">\n",
              "        \n",
              "  <svg xmlns=\"http://www.w3.org/2000/svg\" height=\"24px\"viewBox=\"0 0 24 24\"\n",
              "       width=\"24px\">\n",
              "    <path d=\"M0 0h24v24H0V0z\" fill=\"none\"/>\n",
              "    <path d=\"M18.56 5.44l.94 2.06.94-2.06 2.06-.94-2.06-.94-.94-2.06-.94 2.06-2.06.94zm-11 1L8.5 8.5l.94-2.06 2.06-.94-2.06-.94L8.5 2.5l-.94 2.06-2.06.94zm10 10l.94 2.06.94-2.06 2.06-.94-2.06-.94-.94-2.06-.94 2.06-2.06.94z\"/><path d=\"M17.41 7.96l-1.37-1.37c-.4-.4-.92-.59-1.43-.59-.52 0-1.04.2-1.43.59L10.3 9.45l-7.72 7.72c-.78.78-.78 2.05 0 2.83L4 21.41c.39.39.9.59 1.41.59.51 0 1.02-.2 1.41-.59l7.78-7.78 2.81-2.81c.8-.78.8-2.07 0-2.86zM5.41 20L4 18.59l7.72-7.72 1.47 1.35L5.41 20z\"/>\n",
              "  </svg>\n",
              "      </button>\n",
              "      \n",
              "  <style>\n",
              "    .colab-df-container {\n",
              "      display:flex;\n",
              "      flex-wrap:wrap;\n",
              "      gap: 12px;\n",
              "    }\n",
              "\n",
              "    .colab-df-convert {\n",
              "      background-color: #E8F0FE;\n",
              "      border: none;\n",
              "      border-radius: 50%;\n",
              "      cursor: pointer;\n",
              "      display: none;\n",
              "      fill: #1967D2;\n",
              "      height: 32px;\n",
              "      padding: 0 0 0 0;\n",
              "      width: 32px;\n",
              "    }\n",
              "\n",
              "    .colab-df-convert:hover {\n",
              "      background-color: #E2EBFA;\n",
              "      box-shadow: 0px 1px 2px rgba(60, 64, 67, 0.3), 0px 1px 3px 1px rgba(60, 64, 67, 0.15);\n",
              "      fill: #174EA6;\n",
              "    }\n",
              "\n",
              "    [theme=dark] .colab-df-convert {\n",
              "      background-color: #3B4455;\n",
              "      fill: #D2E3FC;\n",
              "    }\n",
              "\n",
              "    [theme=dark] .colab-df-convert:hover {\n",
              "      background-color: #434B5C;\n",
              "      box-shadow: 0px 1px 3px 1px rgba(0, 0, 0, 0.15);\n",
              "      filter: drop-shadow(0px 1px 2px rgba(0, 0, 0, 0.3));\n",
              "      fill: #FFFFFF;\n",
              "    }\n",
              "  </style>\n",
              "\n",
              "      <script>\n",
              "        const buttonEl =\n",
              "          document.querySelector('#df-2d9fe4a5-8e21-4202-b0b4-356544d22ee1 button.colab-df-convert');\n",
              "        buttonEl.style.display =\n",
              "          google.colab.kernel.accessAllowed ? 'block' : 'none';\n",
              "\n",
              "        async function convertToInteractive(key) {\n",
              "          const element = document.querySelector('#df-2d9fe4a5-8e21-4202-b0b4-356544d22ee1');\n",
              "          const dataTable =\n",
              "            await google.colab.kernel.invokeFunction('convertToInteractive',\n",
              "                                                     [key], {});\n",
              "          if (!dataTable) return;\n",
              "\n",
              "          const docLinkHtml = 'Like what you see? Visit the ' +\n",
              "            '<a target=\"_blank\" href=https://colab.research.google.com/notebooks/data_table.ipynb>data table notebook</a>'\n",
              "            + ' to learn more about interactive tables.';\n",
              "          element.innerHTML = '';\n",
              "          dataTable['output_type'] = 'display_data';\n",
              "          await google.colab.output.renderOutput(dataTable, element);\n",
              "          const docLink = document.createElement('div');\n",
              "          docLink.innerHTML = docLinkHtml;\n",
              "          element.appendChild(docLink);\n",
              "        }\n",
              "      </script>\n",
              "    </div>\n",
              "  </div>\n",
              "  "
            ]
          },
          "metadata": {},
          "execution_count": 5
        }
      ]
    },
    {
      "cell_type": "code",
      "source": [
        "df.dtypes"
      ],
      "metadata": {
        "id": "2y3KxSY3kv-z",
        "colab": {
          "base_uri": "https://localhost:8080/"
        },
        "outputId": "7d97e7bf-d9dc-48b0-b532-269ad6acd0fa"
      },
      "execution_count": null,
      "outputs": [
        {
          "output_type": "execute_result",
          "data": {
            "text/plain": [
              "symboling              int64\n",
              "normalized-losses    float64\n",
              "make                  object\n",
              "fuel-type             object\n",
              "aspiration            object\n",
              "num-of-doors          object\n",
              "body-style            object\n",
              "drive-wheels          object\n",
              "engine-location       object\n",
              "wheel-base           float64\n",
              "length               float64\n",
              "width                float64\n",
              "height               float64\n",
              "curb-weight            int64\n",
              "engine-type           object\n",
              "num-of-cylinders      object\n",
              "engine-size            int64\n",
              "fuel-system           object\n",
              "bore                 float64\n",
              "stroke               float64\n",
              "compression-ratio    float64\n",
              "horsepower           float64\n",
              "peak-rpm             float64\n",
              "city-mpg               int64\n",
              "highway-mpg            int64\n",
              "price                float64\n",
              "dtype: object"
            ]
          },
          "metadata": {},
          "execution_count": 6
        }
      ]
    },
    {
      "cell_type": "markdown",
      "source": [
        "# Preparación de los datos"
      ],
      "metadata": {
        "id": "rgEzhBg1CNtF"
      }
    },
    {
      "cell_type": "markdown",
      "source": [
        "Una vez importado el dataset, empezaremos identificando y corrigiendo\n",
        "aquellos valores que falten en las filas. Para ello, primero identificaremos qué propiedades son las que presentan dichos valores utilizando el método isnull() del dataframe para filtrar por aquellas columnas que tengan al menos una celda sin valor."
      ],
      "metadata": {
        "id": "4qUkO9Hom4_B"
      }
    },
    {
      "cell_type": "code",
      "source": [
        "def print_cols_with_missing_values(df):\n",
        "  cols_with_missing = df.isnull().sum()\n",
        "  print(cols_with_missing[cols_with_missing > 0])\n",
        "\n",
        "print_cols_with_missing_values(df)"
      ],
      "metadata": {
        "id": "UFvar4-nCSpR",
        "colab": {
          "base_uri": "https://localhost:8080/"
        },
        "outputId": "91ea5d19-0e60-4e48-99e5-d0b324a2da31"
      },
      "execution_count": null,
      "outputs": [
        {
          "output_type": "stream",
          "name": "stdout",
          "text": [
            "normalized-losses    41\n",
            "num-of-doors          2\n",
            "bore                  4\n",
            "stroke                4\n",
            "horsepower            2\n",
            "peak-rpm              2\n",
            "price                 4\n",
            "dtype: int64\n"
          ]
        }
      ]
    },
    {
      "cell_type": "code",
      "source": [
        "# a los atributos normalized-losses, bore, stroke, horsepower y peak-rpm\n",
        "# se les deben sustituir los valores nan por la media de la columna\n",
        "df['normalized-losses'].fillna(df['normalized-losses'].mean(), inplace = True)\n",
        "df['bore'].fillna(df['bore'].mean(), inplace = True)\n",
        "df['stroke'].fillna(df['stroke'].mean(), inplace = True)\n",
        "df['horsepower'].fillna(df['horsepower'].mean(), inplace = True)\n",
        "df['peak-rpm'].fillna(df['peak-rpm'].mean(), inplace = True)"
      ],
      "metadata": {
        "id": "_XwDGpuoCiHD"
      },
      "execution_count": null,
      "outputs": []
    },
    {
      "cell_type": "code",
      "source": [
        "# al atributo num_doors se le debe sustituir los valores nan por la mode de la\n",
        "# columna\n",
        "df['num-of-doors'].fillna(df['num-of-doors'].mode()[0], inplace = True)"
      ],
      "metadata": {
        "id": "OFT03syKCm1S"
      },
      "execution_count": null,
      "outputs": []
    },
    {
      "cell_type": "code",
      "source": [
        "# el atributo price también incluye algunos valores nulos, en este caso, y dado\n",
        "# que se trata de la variable objetivo, no hay mucho que se pueda hacer,\n",
        "# por lo que simplemente se eliminan las filas sin precio\n",
        "df = df.dropna(subset = ['price'])"
      ],
      "metadata": {
        "id": "_ealBIKyCtJS"
      },
      "execution_count": null,
      "outputs": []
    },
    {
      "cell_type": "code",
      "source": [
        "# después de borrar filas es conveniente resetear el índice del dataframe\n",
        "df.reset_index(drop = True, inplace = True)"
      ],
      "metadata": {
        "id": "D4ulwta_oh8e"
      },
      "execution_count": null,
      "outputs": []
    },
    {
      "cell_type": "code",
      "source": [
        "print_cols_with_missing_values(df)"
      ],
      "metadata": {
        "colab": {
          "base_uri": "https://localhost:8080/"
        },
        "id": "-Ey5CCLonqKC",
        "outputId": "9ee3d0cd-454b-46e3-c180-ace9696fa8cf"
      },
      "execution_count": null,
      "outputs": [
        {
          "output_type": "stream",
          "name": "stdout",
          "text": [
            "Series([], dtype: int64)\n"
          ]
        }
      ]
    },
    {
      "cell_type": "markdown",
      "source": [
        "# Normalización de los datos"
      ],
      "metadata": {
        "id": "IwacvTHBC5Mp"
      }
    },
    {
      "cell_type": "code",
      "source": [
        "# hay que agrupar las propiedades categóricas y numéricas en dos variables\n",
        "# distintas que nos permitan trabajar de manera más cómoda con los datos\n",
        "\n",
        "numeric_feature_names = df.select_dtypes(include=['int64', 'float64']).columns.tolist()\n",
        "\n",
        "numeric_feature_names.remove('price')\n",
        "\n",
        "categorical_feature_names = df.select_dtypes(include=['object']).columns.tolist()\n",
        "\n",
        "all_feature_names = numeric_feature_names + categorical_feature_names\n",
        "\n",
        "target = 'price'\n",
        "\n",
        "print(f'Propiedades numéricas: {numeric_feature_names} ({len(numeric_feature_names)})')\n",
        "print(f'Propiedades categóricas: {categorical_feature_names} ({len(categorical_feature_names)})')\n",
        "print(f'Propiedad objetivo: {target}')"
      ],
      "metadata": {
        "id": "8388iEvGC_bZ",
        "colab": {
          "base_uri": "https://localhost:8080/"
        },
        "outputId": "b2d7e3ed-0729-41b3-82fc-d6e2dd9c52be"
      },
      "execution_count": null,
      "outputs": [
        {
          "output_type": "stream",
          "name": "stdout",
          "text": [
            "Propiedades numéricas: ['symboling', 'normalized-losses', 'wheel-base', 'length', 'width', 'height', 'curb-weight', 'engine-size', 'bore', 'stroke', 'compression-ratio', 'horsepower', 'peak-rpm', 'city-mpg', 'highway-mpg'] (15)\n",
            "Propiedades categóricas: ['make', 'fuel-type', 'aspiration', 'num-of-doors', 'body-style', 'drive-wheels', 'engine-location', 'engine-type', 'num-of-cylinders', 'fuel-system'] (10)\n",
            "Propiedad objetivo: price\n"
          ]
        }
      ]
    },
    {
      "cell_type": "code",
      "source": [
        "# se comienza el análisis examinando los histogramas de las\n",
        "# propiedades numéricas para tener una visión general de las distribuciones\n",
        "import matplotlib.pyplot as plt\n",
        "df[numeric_feature_names].hist(ax = plt.figure(figsize = (15, 15)).gca())"
      ],
      "metadata": {
        "id": "7DS5u3BLDFrh",
        "colab": {
          "base_uri": "https://localhost:8080/",
          "height": 1000
        },
        "outputId": "f03ce54a-fc69-4630-d081-69ac2eff056f"
      },
      "execution_count": null,
      "outputs": [
        {
          "output_type": "stream",
          "name": "stderr",
          "text": [
            "<ipython-input-28-490db72d8d39>:4: UserWarning: To output multiple subplots, the figure containing the passed axes is being cleared.\n",
            "  df[numeric_feature_names].hist(ax = plt.figure(figsize = (15, 15)).gca())\n"
          ]
        },
        {
          "output_type": "execute_result",
          "data": {
            "text/plain": [
              "array([[<AxesSubplot:title={'center':'symboling'}>,\n",
              "        <AxesSubplot:title={'center':'normalized-losses'}>,\n",
              "        <AxesSubplot:title={'center':'wheel-base'}>,\n",
              "        <AxesSubplot:title={'center':'length'}>],\n",
              "       [<AxesSubplot:title={'center':'width'}>,\n",
              "        <AxesSubplot:title={'center':'height'}>,\n",
              "        <AxesSubplot:title={'center':'curb-weight'}>,\n",
              "        <AxesSubplot:title={'center':'engine-size'}>],\n",
              "       [<AxesSubplot:title={'center':'bore'}>,\n",
              "        <AxesSubplot:title={'center':'stroke'}>,\n",
              "        <AxesSubplot:title={'center':'compression-ratio'}>,\n",
              "        <AxesSubplot:title={'center':'horsepower'}>],\n",
              "       [<AxesSubplot:title={'center':'peak-rpm'}>,\n",
              "        <AxesSubplot:title={'center':'city-mpg'}>,\n",
              "        <AxesSubplot:title={'center':'highway-mpg'}>, <AxesSubplot:>]],\n",
              "      dtype=object)"
            ]
          },
          "metadata": {},
          "execution_count": 28
        },
        {
          "output_type": "display_data",
          "data": {
            "text/plain": [
              "<Figure size 1080x1080 with 16 Axes>"
            ],
            "image/png": "[encoded data removed]"
          },
          "metadata": {
            "needs_background": "light"
          }
        }
      ]
    },
    {
      "cell_type": "markdown",
      "source": [
        "De estos histogramas podemos identificar varias desviaciones positivas (p. ej.,\n",
        "normalized-losses o engine-size) ocasionadas por algunos valores atípicos. Para\n",
        "mejorar las distribuciones, se procede a aplicar algunas transformaciones a\n",
        "aquellas propiedades que presentan valores atípicos extremos.\n",
        "\n",
        "En primer lugar, se tendrá qué identificar cuáles son esos valores atípicos extremos. Para ello, podemos utilizar los diagramas de cajas (boxplots) para visualizarlos y confirmar que existen. Para dibujarlos, podemos hacerlo fácilmente utilizando la biblioteca seaborn."
      ],
      "metadata": {
        "id": "AiRe0Tqcq7ON"
      }
    },
    {
      "cell_type": "code",
      "source": [
        "import seaborn as sns\n",
        "\n",
        "# mediante esta función de pueden visualizar los 'outliers'\n",
        "def draw_hist_boxplot(df, feature_name):\n",
        "  plt.clf()\n",
        "  # se dibuja el diagrama de cajas\n",
        "  sns.boxplot(x = feature_name, data = df)\n",
        "  # se dibujan sobre el diagrama todos los puntos de datos que tiene la propiedad\n",
        "  sns.stripplot(x = feature_name, data = df, color = \"#474646\")\n",
        "  plt.show()\n",
        "\n",
        "# mediante esta función se reemplazan todos los outliers\n",
        "# cualquier valor por encima o por debajo de los\n",
        "# límites superior o inferior es sustituido por la mediana\n",
        "def replace_outliers_with_median(df, feature_name):\n",
        "  Q1 = df[feature_name].quantile(0.25)\n",
        "  median = df[feature_name].quantile(0.5)\n",
        "  Q3 = df[feature_name].quantile(0.75)\n",
        "  IQR = Q3 - Q1\n",
        "  lower_whisker = Q1 - 1.5 * IQR\n",
        "  upper_whisker = Q3 + 1.5 * IQR\n",
        "  df[feature_name] = np.where((df[feature_name] < lower_whisker) | \n",
        "                              (df[feature_name] > upper_whisker), \n",
        "                                median, \n",
        "                                df[feature_name])"
      ],
      "metadata": {
        "id": "1OwKGILCDPOj"
      },
      "execution_count": null,
      "outputs": []
    },
    {
      "cell_type": "code",
      "source": [
        "# se dibuja el diagrama y los puntos, se observa que no hay outliers\n",
        "draw_hist_boxplot(df, 'bore')"
      ],
      "metadata": {
        "id": "pN8pFh-ODXj4",
        "colab": {
          "base_uri": "https://localhost:8080/",
          "height": 279
        },
        "outputId": "05182bf6-481a-4626-e078-d0f8f0979bd2"
      },
      "execution_count": null,
      "outputs": [
        {
          "output_type": "display_data",
          "data": {
            "text/plain": [
              "<Figure size 432x288 with 1 Axes>"
            ],
            "image/png": "[encoded data removed]"
          },
          "metadata": {
            "needs_background": "light"
          }
        }
      ]
    },
    {
      "cell_type": "code",
      "source": [
        "# se dibuja\n",
        "draw_hist_boxplot(df, 'normalized-losses')"
      ],
      "metadata": {
        "id": "radI2fMlDao8",
        "colab": {
          "base_uri": "https://localhost:8080/",
          "height": 279
        },
        "outputId": "fcfe2661-4ba1-43eb-b8e3-4fa5ec9eb405"
      },
      "execution_count": null,
      "outputs": [
        {
          "output_type": "display_data",
          "data": {
            "text/plain": [
              "<Figure size 432x288 with 1 Axes>"
            ],
            "image/png": "[encoded data removed]"
          },
          "metadata": {
            "needs_background": "light"
          }
        }
      ]
    },
    {
      "cell_type": "code",
      "source": [
        "# se reemplazan los outliers y se vuelve a dibujar\n",
        "replace_outliers_with_median(df, 'normalized-losses')\n",
        "draw_hist_boxplot(df, 'normalized-losses')"
      ],
      "metadata": {
        "id": "No8ANGXZDdmS",
        "colab": {
          "base_uri": "https://localhost:8080/",
          "height": 403
        },
        "outputId": "e1b7f5c5-0721-489b-cf4d-0806e475af64"
      },
      "execution_count": null,
      "outputs": [
        {
          "output_type": "stream",
          "name": "stderr",
          "text": [
            "<ipython-input-29-1a6000d856fd>:22: SettingWithCopyWarning: \n",
            "A value is trying to be set on a copy of a slice from a DataFrame.\n",
            "Try using .loc[row_indexer,col_indexer] = value instead\n",
            "\n",
            "See the caveats in the documentation: https://pandas.pydata.org/pandas-docs/stable/user_guide/indexing.html#returning-a-view-versus-a-copy\n",
            "  df[feature_name] = np.where((df[feature_name] < lower_whisker) |\n"
          ]
        },
        {
          "output_type": "display_data",
          "data": {
            "text/plain": [
              "<Figure size 432x288 with 1 Axes>"
            ],
            "image/png": "[encoded data removed]"
          },
          "metadata": {
            "needs_background": "light"
          }
        }
      ]
    },
    {
      "cell_type": "code",
      "source": [
        "# se puede ejecutar el método skew() sobre la serie de un dataframe para\n",
        "# cuantificar la desviación de la distribución y su signo\n",
        "# si lo ejecutamos antes y después de corregir los valores atípicos,\n",
        "# podremos ver cómo el valor de desviación se va reduciendo ligeramente\n",
        "# print(df['atributo'].skew())\n",
        "df['stroke'].skew()"
      ],
      "metadata": {
        "id": "0vKZ6zH4ueG4",
        "colab": {
          "base_uri": "https://localhost:8080/"
        },
        "outputId": "18e982c9-bf43-49c7-c607-80b49f81c887"
      },
      "execution_count": null,
      "outputs": [
        {
          "output_type": "execute_result",
          "data": {
            "text/plain": [
              "-0.16282576627680126"
            ]
          },
          "metadata": {},
          "execution_count": 33
        }
      ]
    },
    {
      "cell_type": "markdown",
      "source": [
        "## Stroke"
      ],
      "metadata": {
        "id": "8lGOrzLffAoT"
      }
    },
    {
      "cell_type": "code",
      "source": [
        "# dibujar atributo stroke\n",
        "draw_hist_boxplot(df, 'stroke')"
      ],
      "metadata": {
        "id": "2n9nLlTnDgT1",
        "colab": {
          "base_uri": "https://localhost:8080/",
          "height": 279
        },
        "outputId": "ec933928-99e5-4e2d-ed0d-e52b3649c272"
      },
      "execution_count": null,
      "outputs": [
        {
          "output_type": "display_data",
          "data": {
            "text/plain": [
              "<Figure size 432x288 with 1 Axes>"
            ],
            "image/png": "[encoded data removed]"
          },
          "metadata": {
            "needs_background": "light"
          }
        }
      ]
    },
    {
      "cell_type": "code",
      "source": [
        "# reemplazar outliers de stroke y volver a dibujar\n",
        "replace_outliers_with_median(df, 'stroke')\n",
        "draw_hist_boxplot(df, 'stroke')"
      ],
      "metadata": {
        "id": "HmNWkmnMDjw_",
        "colab": {
          "base_uri": "https://localhost:8080/",
          "height": 403
        },
        "outputId": "69b69530-9031-4426-c04f-baeb296dc2ef"
      },
      "execution_count": null,
      "outputs": [
        {
          "output_type": "stream",
          "name": "stderr",
          "text": [
            "<ipython-input-29-1a6000d856fd>:22: SettingWithCopyWarning: \n",
            "A value is trying to be set on a copy of a slice from a DataFrame.\n",
            "Try using .loc[row_indexer,col_indexer] = value instead\n",
            "\n",
            "See the caveats in the documentation: https://pandas.pydata.org/pandas-docs/stable/user_guide/indexing.html#returning-a-view-versus-a-copy\n",
            "  df[feature_name] = np.where((df[feature_name] < lower_whisker) |\n"
          ]
        },
        {
          "output_type": "display_data",
          "data": {
            "text/plain": [
              "<Figure size 432x288 with 1 Axes>"
            ],
            "image/png": "[encoded data removed]"
          },
          "metadata": {
            "needs_background": "light"
          }
        }
      ]
    },
    {
      "cell_type": "markdown",
      "source": [
        "## Compression ratio"
      ],
      "metadata": {
        "id": "njHuFn_7fD4O"
      }
    },
    {
      "cell_type": "code",
      "source": [
        "# repetir para los todos los atributos numéricos:\n",
        "# compression-ratio, engine-size, peak-rpm, horsepower, etc.\n",
        "draw_hist_boxplot(df, 'compression-ratio')"
      ],
      "metadata": {
        "id": "yuM6XgpDDnrc",
        "colab": {
          "base_uri": "https://localhost:8080/",
          "height": 279
        },
        "outputId": "58dd9d9b-cb74-435d-9d26-7662c0ddd9a8"
      },
      "execution_count": null,
      "outputs": [
        {
          "output_type": "display_data",
          "data": {
            "text/plain": [
              "<Figure size 432x288 with 1 Axes>"
            ],
            "image/png": "[encoded data removed]"
          },
          "metadata": {
            "needs_background": "light"
          }
        }
      ]
    },
    {
      "cell_type": "code",
      "source": [
        "replace_outliers_with_median(df, 'compression-ratio')\n",
        "draw_hist_boxplot(df, 'compression-ratio')"
      ],
      "metadata": {
        "colab": {
          "base_uri": "https://localhost:8080/",
          "height": 403
        },
        "id": "txoKDSuHeZVN",
        "outputId": "e4269d5e-26ad-4c3d-b0fc-bbfdcd682621"
      },
      "execution_count": null,
      "outputs": [
        {
          "output_type": "stream",
          "name": "stderr",
          "text": [
            "<ipython-input-29-1a6000d856fd>:22: SettingWithCopyWarning: \n",
            "A value is trying to be set on a copy of a slice from a DataFrame.\n",
            "Try using .loc[row_indexer,col_indexer] = value instead\n",
            "\n",
            "See the caveats in the documentation: https://pandas.pydata.org/pandas-docs/stable/user_guide/indexing.html#returning-a-view-versus-a-copy\n",
            "  df[feature_name] = np.where((df[feature_name] < lower_whisker) |\n"
          ]
        },
        {
          "output_type": "display_data",
          "data": {
            "text/plain": [
              "<Figure size 432x288 with 1 Axes>"
            ],
            "image/png": "[encoded data removed]"
          },
          "metadata": {
            "needs_background": "light"
          }
        }
      ]
    },
    {
      "cell_type": "markdown",
      "source": [
        "## Engine size"
      ],
      "metadata": {
        "id": "kmkX-BsffH0o"
      }
    },
    {
      "cell_type": "code",
      "source": [
        "# repetir para los todos los atributos numéricos:\n",
        "# compression-ratio, engine-size, peak-rpm, horsepower, etc.\n",
        "draw_hist_boxplot(df, 'engine-size')"
      ],
      "metadata": {
        "colab": {
          "base_uri": "https://localhost:8080/",
          "height": 279
        },
        "id": "XrNp2IQhedcc",
        "outputId": "6a3fa124-a425-46ec-ecee-d2bd3b08e5e9"
      },
      "execution_count": null,
      "outputs": [
        {
          "output_type": "display_data",
          "data": {
            "text/plain": [
              "<Figure size 432x288 with 1 Axes>"
            ],
            "image/png": "[encoded data removed]"
          },
          "metadata": {
            "needs_background": "light"
          }
        }
      ]
    },
    {
      "cell_type": "code",
      "source": [
        "replace_outliers_with_median(df, 'engine-size')\n",
        "draw_hist_boxplot(df, 'engine-size')"
      ],
      "metadata": {
        "colab": {
          "base_uri": "https://localhost:8080/",
          "height": 403
        },
        "id": "UVTaBWkxedch",
        "outputId": "6ab3d8d2-de25-488c-83f5-5a8fab9485e6"
      },
      "execution_count": null,
      "outputs": [
        {
          "output_type": "stream",
          "name": "stderr",
          "text": [
            "<ipython-input-29-1a6000d856fd>:22: SettingWithCopyWarning: \n",
            "A value is trying to be set on a copy of a slice from a DataFrame.\n",
            "Try using .loc[row_indexer,col_indexer] = value instead\n",
            "\n",
            "See the caveats in the documentation: https://pandas.pydata.org/pandas-docs/stable/user_guide/indexing.html#returning-a-view-versus-a-copy\n",
            "  df[feature_name] = np.where((df[feature_name] < lower_whisker) |\n"
          ]
        },
        {
          "output_type": "display_data",
          "data": {
            "text/plain": [
              "<Figure size 432x288 with 1 Axes>"
            ],
            "image/png": "[encoded data removed]"
          },
          "metadata": {
            "needs_background": "light"
          }
        }
      ]
    },
    {
      "cell_type": "markdown",
      "source": [
        "## Peak rpm"
      ],
      "metadata": {
        "id": "4C-ahdnKfLcv"
      }
    },
    {
      "cell_type": "code",
      "source": [
        "# repetir para los todos los atributos numéricos:\n",
        "# compression-ratio, engine-size, peak-rpm, horsepower, etc.\n",
        "draw_hist_boxplot(df, 'peak-rpm')"
      ],
      "metadata": {
        "colab": {
          "base_uri": "https://localhost:8080/",
          "height": 279
        },
        "id": "JfGD7tMZeeyj",
        "outputId": "6226f999-b7ea-4bb4-d7d8-3f5efb491655"
      },
      "execution_count": null,
      "outputs": [
        {
          "output_type": "display_data",
          "data": {
            "text/plain": [
              "<Figure size 432x288 with 1 Axes>"
            ],
            "image/png": "[encoded data removed]"
          },
          "metadata": {
            "needs_background": "light"
          }
        }
      ]
    },
    {
      "cell_type": "code",
      "source": [
        "replace_outliers_with_median(df, 'peak-rpm')\n",
        "draw_hist_boxplot(df, 'peak-rpm')"
      ],
      "metadata": {
        "colab": {
          "base_uri": "https://localhost:8080/",
          "height": 403
        },
        "id": "yjhdYjqweeyn",
        "outputId": "42c3d8d4-4ab7-41b1-804b-b721dfa901e1"
      },
      "execution_count": null,
      "outputs": [
        {
          "output_type": "stream",
          "name": "stderr",
          "text": [
            "<ipython-input-29-1a6000d856fd>:22: SettingWithCopyWarning: \n",
            "A value is trying to be set on a copy of a slice from a DataFrame.\n",
            "Try using .loc[row_indexer,col_indexer] = value instead\n",
            "\n",
            "See the caveats in the documentation: https://pandas.pydata.org/pandas-docs/stable/user_guide/indexing.html#returning-a-view-versus-a-copy\n",
            "  df[feature_name] = np.where((df[feature_name] < lower_whisker) |\n"
          ]
        },
        {
          "output_type": "display_data",
          "data": {
            "text/plain": [
              "<Figure size 432x288 with 1 Axes>"
            ],
            "image/png": "[encoded data removed]"
          },
          "metadata": {
            "needs_background": "light"
          }
        }
      ]
    },
    {
      "cell_type": "markdown",
      "source": [
        "## Horsepower"
      ],
      "metadata": {
        "id": "R3cZk-XffOKG"
      }
    },
    {
      "cell_type": "code",
      "source": [
        "# repetir para los todos los atributos numéricos:\n",
        "# compression-ratio, engine-size, peak-rpm, horsepower, etc.\n",
        "draw_hist_boxplot(df, 'horsepower')"
      ],
      "metadata": {
        "colab": {
          "base_uri": "https://localhost:8080/",
          "height": 279
        },
        "id": "6CbcWsO0ee-k",
        "outputId": "39a8fde7-1fb1-46a2-e8c7-d97132476782"
      },
      "execution_count": null,
      "outputs": [
        {
          "output_type": "display_data",
          "data": {
            "text/plain": [
              "<Figure size 432x288 with 1 Axes>"
            ],
            "image/png": "[encoded data removed]"
          },
          "metadata": {
            "needs_background": "light"
          }
        }
      ]
    },
    {
      "cell_type": "code",
      "source": [
        "replace_outliers_with_median(df, 'horsepower')\n",
        "draw_hist_boxplot(df, 'horsepower')"
      ],
      "metadata": {
        "colab": {
          "base_uri": "https://localhost:8080/",
          "height": 403
        },
        "id": "fWOUjJxNee-p",
        "outputId": "87413d0a-4526-46f9-c229-69d3de1ef5b6"
      },
      "execution_count": null,
      "outputs": [
        {
          "output_type": "stream",
          "name": "stderr",
          "text": [
            "<ipython-input-29-1a6000d856fd>:22: SettingWithCopyWarning: \n",
            "A value is trying to be set on a copy of a slice from a DataFrame.\n",
            "Try using .loc[row_indexer,col_indexer] = value instead\n",
            "\n",
            "See the caveats in the documentation: https://pandas.pydata.org/pandas-docs/stable/user_guide/indexing.html#returning-a-view-versus-a-copy\n",
            "  df[feature_name] = np.where((df[feature_name] < lower_whisker) |\n"
          ]
        },
        {
          "output_type": "display_data",
          "data": {
            "text/plain": [
              "<Figure size 432x288 with 1 Axes>"
            ],
            "image/png": "[encoded data removed]"
          },
          "metadata": {
            "needs_background": "light"
          }
        }
      ]
    },
    {
      "cell_type": "markdown",
      "source": [
        "## Atributo city-mpg"
      ],
      "metadata": {
        "id": "vzg5wZANfTNE"
      }
    },
    {
      "cell_type": "code",
      "source": [
        "# atributo city-mpg\n",
        "draw_hist_boxplot(df, 'city-mpg')"
      ],
      "metadata": {
        "id": "RIY5sQgAEB6-",
        "colab": {
          "base_uri": "https://localhost:8080/",
          "height": 279
        },
        "outputId": "6dfbc17c-64f0-494e-ccff-e6db7fe8b0af"
      },
      "execution_count": null,
      "outputs": [
        {
          "output_type": "display_data",
          "data": {
            "text/plain": [
              "<Figure size 432x288 with 1 Axes>"
            ],
            "image/png": "[encoded data removed]"
          },
          "metadata": {
            "needs_background": "light"
          }
        }
      ]
    },
    {
      "cell_type": "code",
      "source": [
        "def sacar_outlayers(df,columna):\n",
        "  # Calcular los cuartiles Q1 y Q3\n",
        "  Q1 = df[columna].quantile(0.25)\n",
        "  Q3 = df[columna].quantile(0.75)\n",
        "\n",
        "  # Calcular el rango intercuartil (IQR)\n",
        "  IQR = Q3 - Q1\n",
        "\n",
        "  # Definir los límites inferior y superior para detectar outliers\n",
        "  lim_inf = Q1 - 1.5 * IQR\n",
        "  lim_sup = Q3 + 1.5 * IQR\n",
        "\n",
        "  # Identificar los outliers en la columna \"columna\" del DataFrame\n",
        "  outliers = df[(df[columna] < lim_inf) | (df[columna] > lim_sup)][columna]\n",
        "\n",
        "  # Sacar los outliers encontrados\n",
        "  return outliers"
      ],
      "metadata": {
        "id": "pkvgMbi7EEuv"
      },
      "execution_count": null,
      "outputs": []
    },
    {
      "cell_type": "code",
      "source": [
        "sacar_outlayers(df,'city-mpg')"
      ],
      "metadata": {
        "colab": {
          "base_uri": "https://localhost:8080/"
        },
        "id": "YbHA_N2ffuUz",
        "outputId": "dce2a709-e70c-420c-ba45-0d0bd3a4e407"
      },
      "execution_count": null,
      "outputs": [
        {
          "output_type": "execute_result",
          "data": {
            "text/plain": [
              "17    47\n",
              "29    49\n",
              "Name: city-mpg, dtype: int64"
            ]
          },
          "metadata": {},
          "execution_count": 46
        }
      ]
    },
    {
      "cell_type": "code",
      "source": [
        "# en la propiedad city-mpg podremos ver cómo sólo hay algunos pocos valores atípicos\n",
        "# como son pocos, simplemente los eliminaremos del conjunto de datos\n",
        "df.drop(df.loc[df['city-mpg'] > 46].index, inplace = True)\n",
        "draw_hist_boxplot(df, 'city-mpg')"
      ],
      "metadata": {
        "colab": {
          "base_uri": "https://localhost:8080/",
          "height": 386
        },
        "id": "jENZCIT1fzUW",
        "outputId": "337a39cf-a423-4195-f0cc-b94e459d55d7"
      },
      "execution_count": null,
      "outputs": [
        {
          "output_type": "stream",
          "name": "stderr",
          "text": [
            "<ipython-input-47-a248f751c176>:3: SettingWithCopyWarning: \n",
            "A value is trying to be set on a copy of a slice from a DataFrame\n",
            "\n",
            "See the caveats in the documentation: https://pandas.pydata.org/pandas-docs/stable/user_guide/indexing.html#returning-a-view-versus-a-copy\n",
            "  df.drop(df.loc[df['city-mpg'] > 46].index, inplace = True)\n"
          ]
        },
        {
          "output_type": "display_data",
          "data": {
            "text/plain": [
              "<Figure size 432x288 with 1 Axes>"
            ],
            "image/png": "[encoded data removed]"
          },
          "metadata": {
            "needs_background": "light"
          }
        }
      ]
    },
    {
      "cell_type": "code",
      "source": [
        "# una vez que hayamos finalizado, podemos volver a visualizar los histogramas\n",
        "# para ver que aspecto tienen las nuevas distribuciones\n",
        "df[numeric_feature_names].hist(ax = plt.figure(figsize = (15, 15)).gca())"
      ],
      "metadata": {
        "id": "2TWOSR3NEHrw",
        "colab": {
          "base_uri": "https://localhost:8080/",
          "height": 1000
        },
        "outputId": "0c71ac6a-6622-4418-8ece-4428b062c52f"
      },
      "execution_count": null,
      "outputs": [
        {
          "output_type": "stream",
          "name": "stderr",
          "text": [
            "<ipython-input-48-9d0ec4ee150d>:3: UserWarning: To output multiple subplots, the figure containing the passed axes is being cleared.\n",
            "  df[numeric_feature_names].hist(ax = plt.figure(figsize = (15, 15)).gca())\n"
          ]
        },
        {
          "output_type": "execute_result",
          "data": {
            "text/plain": [
              "array([[<AxesSubplot:title={'center':'symboling'}>,\n",
              "        <AxesSubplot:title={'center':'normalized-losses'}>,\n",
              "        <AxesSubplot:title={'center':'wheel-base'}>,\n",
              "        <AxesSubplot:title={'center':'length'}>],\n",
              "       [<AxesSubplot:title={'center':'width'}>,\n",
              "        <AxesSubplot:title={'center':'height'}>,\n",
              "        <AxesSubplot:title={'center':'curb-weight'}>,\n",
              "        <AxesSubplot:title={'center':'engine-size'}>],\n",
              "       [<AxesSubplot:title={'center':'bore'}>,\n",
              "        <AxesSubplot:title={'center':'stroke'}>,\n",
              "        <AxesSubplot:title={'center':'compression-ratio'}>,\n",
              "        <AxesSubplot:title={'center':'horsepower'}>],\n",
              "       [<AxesSubplot:title={'center':'peak-rpm'}>,\n",
              "        <AxesSubplot:title={'center':'city-mpg'}>,\n",
              "        <AxesSubplot:title={'center':'highway-mpg'}>, <AxesSubplot:>]],\n",
              "      dtype=object)"
            ]
          },
          "metadata": {},
          "execution_count": 48
        },
        {
          "output_type": "display_data",
          "data": {
            "text/plain": [
              "<Figure size 1080x1080 with 16 Axes>"
            ],
            "image/png": "[encoded data removed]"
          },
          "metadata": {
            "needs_background": "light"
          }
        }
      ]
    },
    {
      "cell_type": "markdown",
      "source": [
        "En las gráficas puede observarse como las desviaciones se han reducido ligeramente y ya no existen valores atípicos extremos. Para los valores atípicos que nos queden, podemos aplicar la técnica de normalizado mediante escalado. Para ello, podemos utilizar la clase StandardScaler del módulo sklearn.preprocessing y visualizar de nuevo los histogramas para revisar las nuevas distribuciones"
      ],
      "metadata": {
        "id": "Xh7rrgrQwZRS"
      }
    },
    {
      "cell_type": "code",
      "source": [
        "from sklearn.preprocessing import StandardScaler\n",
        "\n",
        "scaler = StandardScaler()\n",
        "df[numeric_feature_names] = scaler.fit_transform(df[numeric_feature_names])\n",
        "\n",
        "df[numeric_feature_names].hist(ax = plt.figure(figsize = (15, 15)).gca())"
      ],
      "metadata": {
        "id": "Yqf3Oc8PELcb",
        "colab": {
          "base_uri": "https://localhost:8080/",
          "height": 1000
        },
        "outputId": "a2d5c609-99a8-4ecf-97ff-ebed0ea68fe9"
      },
      "execution_count": null,
      "outputs": [
        {
          "output_type": "stream",
          "name": "stderr",
          "text": [
            "<ipython-input-49-d1a2407358da>:4: SettingWithCopyWarning: \n",
            "A value is trying to be set on a copy of a slice from a DataFrame.\n",
            "Try using .loc[row_indexer,col_indexer] = value instead\n",
            "\n",
            "See the caveats in the documentation: https://pandas.pydata.org/pandas-docs/stable/user_guide/indexing.html#returning-a-view-versus-a-copy\n",
            "  df[numeric_feature_names] = scaler.fit_transform(df[numeric_feature_names])\n",
            "<ipython-input-49-d1a2407358da>:6: UserWarning: To output multiple subplots, the figure containing the passed axes is being cleared.\n",
            "  df[numeric_feature_names].hist(ax = plt.figure(figsize = (15, 15)).gca())\n"
          ]
        },
        {
          "output_type": "execute_result",
          "data": {
            "text/plain": [
              "array([[<AxesSubplot:title={'center':'symboling'}>,\n",
              "        <AxesSubplot:title={'center':'normalized-losses'}>,\n",
              "        <AxesSubplot:title={'center':'wheel-base'}>,\n",
              "        <AxesSubplot:title={'center':'length'}>],\n",
              "       [<AxesSubplot:title={'center':'width'}>,\n",
              "        <AxesSubplot:title={'center':'height'}>,\n",
              "        <AxesSubplot:title={'center':'curb-weight'}>,\n",
              "        <AxesSubplot:title={'center':'engine-size'}>],\n",
              "       [<AxesSubplot:title={'center':'bore'}>,\n",
              "        <AxesSubplot:title={'center':'stroke'}>,\n",
              "        <AxesSubplot:title={'center':'compression-ratio'}>,\n",
              "        <AxesSubplot:title={'center':'horsepower'}>],\n",
              "       [<AxesSubplot:title={'center':'peak-rpm'}>,\n",
              "        <AxesSubplot:title={'center':'city-mpg'}>,\n",
              "        <AxesSubplot:title={'center':'highway-mpg'}>, <AxesSubplot:>]],\n",
              "      dtype=object)"
            ]
          },
          "metadata": {},
          "execution_count": 49
        },
        {
          "output_type": "display_data",
          "data": {
            "text/plain": [
              "<Figure size 1080x1080 with 16 Axes>"
            ],
            "image/png": "[encoded data removed]"
          },
          "metadata": {
            "needs_background": "light"
          }
        }
      ]
    },
    {
      "cell_type": "markdown",
      "source": [
        "# Importancia de las propiedades y división del conjunto de datos"
      ],
      "metadata": {
        "id": "7oFsEtNCEy4v"
      }
    },
    {
      "cell_type": "markdown",
      "source": [
        "Vamos a analizar ahora el impacto de las propiedades sobre la variable objetivo. Para ello, vamos a empezar por las propiedades numéricas. Podemos realizar este análisis inicial mediante un mapa de calor que muestre las correlaciones que existen entre todas las variables, utilizando el método heatmap() del módulo seaborn e indicando que utilice la correlación de Pearson para ello."
      ],
      "metadata": {
        "id": "eYGcNMKHw2Ys"
      }
    },
    {
      "cell_type": "code",
      "source": [
        "import seaborn as sns\n",
        "\n",
        "plt.figure(figsize=(15, 10))\n",
        "sns.heatmap(df.corr(), cmap = 'BrBG', annot = True)"
      ],
      "metadata": {
        "id": "UQ5SDWXxE8JH",
        "colab": {
          "base_uri": "https://localhost:8080/",
          "height": 665
        },
        "outputId": "6a2cf86a-b59c-415a-88dd-9c361d79a043"
      },
      "execution_count": null,
      "outputs": [
        {
          "output_type": "execute_result",
          "data": {
            "text/plain": [
              "<AxesSubplot:>"
            ]
          },
          "metadata": {},
          "execution_count": 50
        },
        {
          "output_type": "display_data",
          "data": {
            "text/plain": [
              "<Figure size 1080x720 with 2 Axes>"
            ],
            "image/png": "[encoded data removed]"
          },
          "metadata": {
            "needs_background": "light"
          }
        }
      ]
    },
    {
      "cell_type": "code",
      "source": [
        "# podemos utilizar el análisis para eliminar algunas propiedades que no\n",
        "# tengan ninguna correlación con la variable objetivo: symboling\n",
        "df = df.drop(['symboling'], axis=1)\n",
        "df"
      ],
      "metadata": {
        "id": "JDsmzQo6FBo-",
        "colab": {
          "base_uri": "https://localhost:8080/",
          "height": 575
        },
        "outputId": "18eb4597-7072-4485-e917-18d98f2b0eef"
      },
      "execution_count": null,
      "outputs": [
        {
          "output_type": "execute_result",
          "data": {
            "text/plain": [
              "     normalized-losses         make fuel-type aspiration num-of-doors  \\\n",
              "0             0.176781  alfa-romero       gas        std          two   \n",
              "1             0.176781  alfa-romero       gas        std          two   \n",
              "2             0.176781  alfa-romero       gas        std          two   \n",
              "3             1.842549         audi       gas        std         four   \n",
              "4             1.842549         audi       gas        std         four   \n",
              "..                 ...          ...       ...        ...          ...   \n",
              "196          -0.894070        volvo       gas        std         four   \n",
              "197          -0.894070        volvo       gas      turbo         four   \n",
              "198          -0.894070        volvo       gas        std         four   \n",
              "199          -0.894070        volvo    diesel      turbo         four   \n",
              "200          -0.894070        volvo       gas      turbo         four   \n",
              "\n",
              "      body-style drive-wheels engine-location  wheel-base    length  ...  \\\n",
              "0    convertible          rwd           front   -1.726065 -0.478688  ...   \n",
              "1    convertible          rwd           front   -1.726065 -0.478688  ...   \n",
              "2      hatchback          rwd           front   -0.738360 -0.277702  ...   \n",
              "3          sedan          fwd           front    0.148900  0.174516  ...   \n",
              "4          sedan          4wd           front    0.081937  0.174516  ...   \n",
              "..           ...          ...             ...         ...       ...  ...   \n",
              "196        sedan          rwd           front    1.705791  1.196195  ...   \n",
              "197        sedan          rwd           front    1.705791  1.196195  ...   \n",
              "198        sedan          rwd           front    1.705791  1.196195  ...   \n",
              "199        sedan          rwd           front    1.705791  1.196195  ...   \n",
              "200        sedan          rwd           front    1.705791  1.196195  ...   \n",
              "\n",
              "     engine-size  fuel-system      bore    stroke compression-ratio  \\\n",
              "0       0.341233         mpfi  0.509006 -0.025582          0.171938   \n",
              "1       0.341233         mpfi  0.509006 -0.025582          0.171938   \n",
              "2       1.140119         mpfi -2.467847  1.037842          0.171938   \n",
              "3      -0.421340         mpfi -0.546081  0.624288          2.107213   \n",
              "4       0.559111         mpfi -0.546081  0.624288         -1.763337   \n",
              "..           ...          ...       ...       ...               ...   \n",
              "196     0.740676         mpfi  1.677138 -0.852689          1.139575   \n",
              "197     0.740676         mpfi  1.677138 -0.852689         -0.408644   \n",
              "198     1.902692         mpfi  0.923504 -2.506904         -0.215117   \n",
              "199     0.885928          idi -1.224352  0.624288          0.171938   \n",
              "200     0.740676         mpfi  1.677138 -0.852689          1.139575   \n",
              "\n",
              "     horsepower  peak-rpm  city-mpg  highway-mpg    price  \n",
              "0      0.314884 -0.229763 -0.656758    -0.537362  13495.0  \n",
              "1      0.314884 -0.229763 -0.656758    -0.537362  16500.0  \n",
              "2      1.649773 -0.229763 -0.989315    -0.692791  16500.0  \n",
              "3      0.035488  0.869265 -0.157923    -0.071076  13950.0  \n",
              "4      0.439059  0.869265 -1.155593    -1.314507  17450.0  \n",
              "..          ...       ...       ...          ...      ...  \n",
              "196    0.408015  0.649459 -0.324201    -0.381933  16845.0  \n",
              "197    1.836037  0.429654 -0.989315    -0.848220  19045.0  \n",
              "198    1.028894  0.869265 -1.155593    -1.159078  21485.0  \n",
              "199    0.159664 -0.669374  0.174634    -0.537362  22470.0  \n",
              "200    0.408015  0.649459 -0.989315    -0.848220  22625.0  \n",
              "\n",
              "[199 rows x 25 columns]"
            ],
            "text/html": [
              "\n",
              "  <div id=\"df-67678f0b-ccb6-4b47-87f5-353f0d4557e0\">\n",
              "    <div class=\"colab-df-container\">\n",
              "      <div>\n",
              "<style scoped>\n",
              "    .dataframe tbody tr th:only-of-type {\n",
              "        vertical-align: middle;\n",
              "    }\n",
              "\n",
              "    .dataframe tbody tr th {\n",
              "        vertical-align: top;\n",
              "    }\n",
              "\n",
              "    .dataframe thead th {\n",
              "        text-align: right;\n",
              "    }\n",
              "</style>\n",
              "<table border=\"1\" class=\"dataframe\">\n",
              "  <thead>\n",
              "    <tr style=\"text-align: right;\">\n",
              "      <th></th>\n",
              "      <th>normalized-losses</th>\n",
              "      <th>make</th>\n",
              "      <th>fuel-type</th>\n",
              "      <th>aspiration</th>\n",
              "      <th>num-of-doors</th>\n",
              "      <th>body-style</th>\n",
              "      <th>drive-wheels</th>\n",
              "      <th>engine-location</th>\n",
              "      <th>wheel-base</th>\n",
              "      <th>length</th>\n",
              "      <th>...</th>\n",
              "      <th>engine-size</th>\n",
              "      <th>fuel-system</th>\n",
              "      <th>bore</th>\n",
              "      <th>stroke</th>\n",
              "      <th>compression-ratio</th>\n",
              "      <th>horsepower</th>\n",
              "      <th>peak-rpm</th>\n",
              "      <th>city-mpg</th>\n",
              "      <th>highway-mpg</th>\n",
              "      <th>price</th>\n",
              "    </tr>\n",
              "  </thead>\n",
              "  <tbody>\n",
              "    <tr>\n",
              "      <th>0</th>\n",
              "      <td>0.176781</td>\n",
              "      <td>alfa-romero</td>\n",
              "      <td>gas</td>\n",
              "      <td>std</td>\n",
              "      <td>two</td>\n",
              "      <td>convertible</td>\n",
              "      <td>rwd</td>\n",
              "      <td>front</td>\n",
              "      <td>-1.726065</td>\n",
              "      <td>-0.478688</td>\n",
              "      <td>...</td>\n",
              "      <td>0.341233</td>\n",
              "      <td>mpfi</td>\n",
              "      <td>0.509006</td>\n",
              "      <td>-0.025582</td>\n",
              "      <td>0.171938</td>\n",
              "      <td>0.314884</td>\n",
              "      <td>-0.229763</td>\n",
              "      <td>-0.656758</td>\n",
              "      <td>-0.537362</td>\n",
              "      <td>13495.0</td>\n",
              "    </tr>\n",
              "    <tr>\n",
              "      <th>1</th>\n",
              "      <td>0.176781</td>\n",
              "      <td>alfa-romero</td>\n",
              "      <td>gas</td>\n",
              "      <td>std</td>\n",
              "      <td>two</td>\n",
              "      <td>convertible</td>\n",
              "      <td>rwd</td>\n",
              "      <td>front</td>\n",
              "      <td>-1.726065</td>\n",
              "      <td>-0.478688</td>\n",
              "      <td>...</td>\n",
              "      <td>0.341233</td>\n",
              "      <td>mpfi</td>\n",
              "      <td>0.509006</td>\n",
              "      <td>-0.025582</td>\n",
              "      <td>0.171938</td>\n",
              "      <td>0.314884</td>\n",
              "      <td>-0.229763</td>\n",
              "      <td>-0.656758</td>\n",
              "      <td>-0.537362</td>\n",
              "      <td>16500.0</td>\n",
              "    </tr>\n",
              "    <tr>\n",
              "      <th>2</th>\n",
              "      <td>0.176781</td>\n",
              "      <td>alfa-romero</td>\n",
              "      <td>gas</td>\n",
              "      <td>std</td>\n",
              "      <td>two</td>\n",
              "      <td>hatchback</td>\n",
              "      <td>rwd</td>\n",
              "      <td>front</td>\n",
              "      <td>-0.738360</td>\n",
              "      <td>-0.277702</td>\n",
              "      <td>...</td>\n",
              "      <td>1.140119</td>\n",
              "      <td>mpfi</td>\n",
              "      <td>-2.467847</td>\n",
              "      <td>1.037842</td>\n",
              "      <td>0.171938</td>\n",
              "      <td>1.649773</td>\n",
              "      <td>-0.229763</td>\n",
              "      <td>-0.989315</td>\n",
              "      <td>-0.692791</td>\n",
              "      <td>16500.0</td>\n",
              "    </tr>\n",
              "    <tr>\n",
              "      <th>3</th>\n",
              "      <td>1.842549</td>\n",
              "      <td>audi</td>\n",
              "      <td>gas</td>\n",
              "      <td>std</td>\n",
              "      <td>four</td>\n",
              "      <td>sedan</td>\n",
              "      <td>fwd</td>\n",
              "      <td>front</td>\n",
              "      <td>0.148900</td>\n",
              "      <td>0.174516</td>\n",
              "      <td>...</td>\n",
              "      <td>-0.421340</td>\n",
              "      <td>mpfi</td>\n",
              "      <td>-0.546081</td>\n",
              "      <td>0.624288</td>\n",
              "      <td>2.107213</td>\n",
              "      <td>0.035488</td>\n",
              "      <td>0.869265</td>\n",
              "      <td>-0.157923</td>\n",
              "      <td>-0.071076</td>\n",
              "      <td>13950.0</td>\n",
              "    </tr>\n",
              "    <tr>\n",
              "      <th>4</th>\n",
              "      <td>1.842549</td>\n",
              "      <td>audi</td>\n",
              "      <td>gas</td>\n",
              "      <td>std</td>\n",
              "      <td>four</td>\n",
              "      <td>sedan</td>\n",
              "      <td>4wd</td>\n",
              "      <td>front</td>\n",
              "      <td>0.081937</td>\n",
              "      <td>0.174516</td>\n",
              "      <td>...</td>\n",
              "      <td>0.559111</td>\n",
              "      <td>mpfi</td>\n",
              "      <td>-0.546081</td>\n",
              "      <td>0.624288</td>\n",
              "      <td>-1.763337</td>\n",
              "      <td>0.439059</td>\n",
              "      <td>0.869265</td>\n",
              "      <td>-1.155593</td>\n",
              "      <td>-1.314507</td>\n",
              "      <td>17450.0</td>\n",
              "    </tr>\n",
              "    <tr>\n",
              "      <th>...</th>\n",
              "      <td>...</td>\n",
              "      <td>...</td>\n",
              "      <td>...</td>\n",
              "      <td>...</td>\n",
              "      <td>...</td>\n",
              "      <td>...</td>\n",
              "      <td>...</td>\n",
              "      <td>...</td>\n",
              "      <td>...</td>\n",
              "      <td>...</td>\n",
              "      <td>...</td>\n",
              "      <td>...</td>\n",
              "      <td>...</td>\n",
              "      <td>...</td>\n",
              "      <td>...</td>\n",
              "      <td>...</td>\n",
              "      <td>...</td>\n",
              "      <td>...</td>\n",
              "      <td>...</td>\n",
              "      <td>...</td>\n",
              "      <td>...</td>\n",
              "    </tr>\n",
              "    <tr>\n",
              "      <th>196</th>\n",
              "      <td>-0.894070</td>\n",
              "      <td>volvo</td>\n",
              "      <td>gas</td>\n",
              "      <td>std</td>\n",
              "      <td>four</td>\n",
              "      <td>sedan</td>\n",
              "      <td>rwd</td>\n",
              "      <td>front</td>\n",
              "      <td>1.705791</td>\n",
              "      <td>1.196195</td>\n",
              "      <td>...</td>\n",
              "      <td>0.740676</td>\n",
              "      <td>mpfi</td>\n",
              "      <td>1.677138</td>\n",
              "      <td>-0.852689</td>\n",
              "      <td>1.139575</td>\n",
              "      <td>0.408015</td>\n",
              "      <td>0.649459</td>\n",
              "      <td>-0.324201</td>\n",
              "      <td>-0.381933</td>\n",
              "      <td>16845.0</td>\n",
              "    </tr>\n",
              "    <tr>\n",
              "      <th>197</th>\n",
              "      <td>-0.894070</td>\n",
              "      <td>volvo</td>\n",
              "      <td>gas</td>\n",
              "      <td>turbo</td>\n",
              "      <td>four</td>\n",
              "      <td>sedan</td>\n",
              "      <td>rwd</td>\n",
              "      <td>front</td>\n",
              "      <td>1.705791</td>\n",
              "      <td>1.196195</td>\n",
              "      <td>...</td>\n",
              "      <td>0.740676</td>\n",
              "      <td>mpfi</td>\n",
              "      <td>1.677138</td>\n",
              "      <td>-0.852689</td>\n",
              "      <td>-0.408644</td>\n",
              "      <td>1.836037</td>\n",
              "      <td>0.429654</td>\n",
              "      <td>-0.989315</td>\n",
              "      <td>-0.848220</td>\n",
              "      <td>19045.0</td>\n",
              "    </tr>\n",
              "    <tr>\n",
              "      <th>198</th>\n",
              "      <td>-0.894070</td>\n",
              "      <td>volvo</td>\n",
              "      <td>gas</td>\n",
              "      <td>std</td>\n",
              "      <td>four</td>\n",
              "      <td>sedan</td>\n",
              "      <td>rwd</td>\n",
              "      <td>front</td>\n",
              "      <td>1.705791</td>\n",
              "      <td>1.196195</td>\n",
              "      <td>...</td>\n",
              "      <td>1.902692</td>\n",
              "      <td>mpfi</td>\n",
              "      <td>0.923504</td>\n",
              "      <td>-2.506904</td>\n",
              "      <td>-0.215117</td>\n",
              "      <td>1.028894</td>\n",
              "      <td>0.869265</td>\n",
              "      <td>-1.155593</td>\n",
              "      <td>-1.159078</td>\n",
              "      <td>21485.0</td>\n",
              "    </tr>\n",
              "    <tr>\n",
              "      <th>199</th>\n",
              "      <td>-0.894070</td>\n",
              "      <td>volvo</td>\n",
              "      <td>diesel</td>\n",
              "      <td>turbo</td>\n",
              "      <td>four</td>\n",
              "      <td>sedan</td>\n",
              "      <td>rwd</td>\n",
              "      <td>front</td>\n",
              "      <td>1.705791</td>\n",
              "      <td>1.196195</td>\n",
              "      <td>...</td>\n",
              "      <td>0.885928</td>\n",
              "      <td>idi</td>\n",
              "      <td>-1.224352</td>\n",
              "      <td>0.624288</td>\n",
              "      <td>0.171938</td>\n",
              "      <td>0.159664</td>\n",
              "      <td>-0.669374</td>\n",
              "      <td>0.174634</td>\n",
              "      <td>-0.537362</td>\n",
              "      <td>22470.0</td>\n",
              "    </tr>\n",
              "    <tr>\n",
              "      <th>200</th>\n",
              "      <td>-0.894070</td>\n",
              "      <td>volvo</td>\n",
              "      <td>gas</td>\n",
              "      <td>turbo</td>\n",
              "      <td>four</td>\n",
              "      <td>sedan</td>\n",
              "      <td>rwd</td>\n",
              "      <td>front</td>\n",
              "      <td>1.705791</td>\n",
              "      <td>1.196195</td>\n",
              "      <td>...</td>\n",
              "      <td>0.740676</td>\n",
              "      <td>mpfi</td>\n",
              "      <td>1.677138</td>\n",
              "      <td>-0.852689</td>\n",
              "      <td>1.139575</td>\n",
              "      <td>0.408015</td>\n",
              "      <td>0.649459</td>\n",
              "      <td>-0.989315</td>\n",
              "      <td>-0.848220</td>\n",
              "      <td>22625.0</td>\n",
              "    </tr>\n",
              "  </tbody>\n",
              "</table>\n",
              "<p>199 rows × 25 columns</p>\n",
              "</div>\n",
              "      <button class=\"colab-df-convert\" onclick=\"convertToInteractive('df-67678f0b-ccb6-4b47-87f5-353f0d4557e0')\"\n",
              "              title=\"Convert this dataframe to an interactive table.\"\n",
              "              style=\"display:none;\">\n",
              "        \n",
              "  <svg xmlns=\"http://www.w3.org/2000/svg\" height=\"24px\"viewBox=\"0 0 24 24\"\n",
              "       width=\"24px\">\n",
              "    <path d=\"M0 0h24v24H0V0z\" fill=\"none\"/>\n",
              "    <path d=\"M18.56 5.44l.94 2.06.94-2.06 2.06-.94-2.06-.94-.94-2.06-.94 2.06-2.06.94zm-11 1L8.5 8.5l.94-2.06 2.06-.94-2.06-.94L8.5 2.5l-.94 2.06-2.06.94zm10 10l.94 2.06.94-2.06 2.06-.94-2.06-.94-.94-2.06-.94 2.06-2.06.94z\"/><path d=\"M17.41 7.96l-1.37-1.37c-.4-.4-.92-.59-1.43-.59-.52 0-1.04.2-1.43.59L10.3 9.45l-7.72 7.72c-.78.78-.78 2.05 0 2.83L4 21.41c.39.39.9.59 1.41.59.51 0 1.02-.2 1.41-.59l7.78-7.78 2.81-2.81c.8-.78.8-2.07 0-2.86zM5.41 20L4 18.59l7.72-7.72 1.47 1.35L5.41 20z\"/>\n",
              "  </svg>\n",
              "      </button>\n",
              "      \n",
              "  <style>\n",
              "    .colab-df-container {\n",
              "      display:flex;\n",
              "      flex-wrap:wrap;\n",
              "      gap: 12px;\n",
              "    }\n",
              "\n",
              "    .colab-df-convert {\n",
              "      background-color: #E8F0FE;\n",
              "      border: none;\n",
              "      border-radius: 50%;\n",
              "      cursor: pointer;\n",
              "      display: none;\n",
              "      fill: #1967D2;\n",
              "      height: 32px;\n",
              "      padding: 0 0 0 0;\n",
              "      width: 32px;\n",
              "    }\n",
              "\n",
              "    .colab-df-convert:hover {\n",
              "      background-color: #E2EBFA;\n",
              "      box-shadow: 0px 1px 2px rgba(60, 64, 67, 0.3), 0px 1px 3px 1px rgba(60, 64, 67, 0.15);\n",
              "      fill: #174EA6;\n",
              "    }\n",
              "\n",
              "    [theme=dark] .colab-df-convert {\n",
              "      background-color: #3B4455;\n",
              "      fill: #D2E3FC;\n",
              "    }\n",
              "\n",
              "    [theme=dark] .colab-df-convert:hover {\n",
              "      background-color: #434B5C;\n",
              "      box-shadow: 0px 1px 3px 1px rgba(0, 0, 0, 0.15);\n",
              "      filter: drop-shadow(0px 1px 2px rgba(0, 0, 0, 0.3));\n",
              "      fill: #FFFFFF;\n",
              "    }\n",
              "  </style>\n",
              "\n",
              "      <script>\n",
              "        const buttonEl =\n",
              "          document.querySelector('#df-67678f0b-ccb6-4b47-87f5-353f0d4557e0 button.colab-df-convert');\n",
              "        buttonEl.style.display =\n",
              "          google.colab.kernel.accessAllowed ? 'block' : 'none';\n",
              "\n",
              "        async function convertToInteractive(key) {\n",
              "          const element = document.querySelector('#df-67678f0b-ccb6-4b47-87f5-353f0d4557e0');\n",
              "          const dataTable =\n",
              "            await google.colab.kernel.invokeFunction('convertToInteractive',\n",
              "                                                     [key], {});\n",
              "          if (!dataTable) return;\n",
              "\n",
              "          const docLinkHtml = 'Like what you see? Visit the ' +\n",
              "            '<a target=\"_blank\" href=https://colab.research.google.com/notebooks/data_table.ipynb>data table notebook</a>'\n",
              "            + ' to learn more about interactive tables.';\n",
              "          element.innerHTML = '';\n",
              "          dataTable['output_type'] = 'display_data';\n",
              "          await google.colab.output.renderOutput(dataTable, element);\n",
              "          const docLink = document.createElement('div');\n",
              "          docLink.innerHTML = docLinkHtml;\n",
              "          element.appendChild(docLink);\n",
              "        }\n",
              "      </script>\n",
              "    </div>\n",
              "  </div>\n",
              "  "
            ]
          },
          "metadata": {},
          "execution_count": 51
        }
      ]
    },
    {
      "cell_type": "markdown",
      "source": [
        "Sobre las variables categóricas, se pueden visualizar sus diagramas de cajas\n",
        "para analizar sus distribuciones en relación al precio."
      ],
      "metadata": {
        "id": "UmT-_MaW0g2t"
      }
    },
    {
      "cell_type": "code",
      "source": [
        "plt.figure(figsize = (10, 5))\n",
        "sns.boxplot(x = 'body-style', y = 'price', data = df)"
      ],
      "metadata": {
        "id": "ZuWTSdewFJFE",
        "colab": {
          "base_uri": "https://localhost:8080/",
          "height": 351
        },
        "outputId": "d5daa5ee-830e-4aa7-8e7f-d88995367f38"
      },
      "execution_count": null,
      "outputs": [
        {
          "output_type": "execute_result",
          "data": {
            "text/plain": [
              "<AxesSubplot:xlabel='body-style', ylabel='price'>"
            ]
          },
          "metadata": {},
          "execution_count": 52
        },
        {
          "output_type": "display_data",
          "data": {
            "text/plain": [
              "<Figure size 720x360 with 1 Axes>"
            ],
            "image/png": "[encoded data removed]"
          },
          "metadata": {
            "needs_background": "light"
          }
        }
      ]
    },
    {
      "cell_type": "code",
      "source": [
        "# aspiration\n",
        "plt.figure(figsize = (10, 5))\n",
        "sns.boxplot(x = 'aspiration', y = 'price', data = df)"
      ],
      "metadata": {
        "id": "QWWKPDj2FLul",
        "colab": {
          "base_uri": "https://localhost:8080/",
          "height": 351
        },
        "outputId": "2e3546f9-6d76-4827-dda4-486aa08d2b32"
      },
      "execution_count": null,
      "outputs": [
        {
          "output_type": "execute_result",
          "data": {
            "text/plain": [
              "<AxesSubplot:xlabel='aspiration', ylabel='price'>"
            ]
          },
          "metadata": {},
          "execution_count": 53
        },
        {
          "output_type": "display_data",
          "data": {
            "text/plain": [
              "<Figure size 720x360 with 1 Axes>"
            ],
            "image/png": "[encoded data removed]"
          },
          "metadata": {
            "needs_background": "light"
          }
        }
      ]
    },
    {
      "cell_type": "code",
      "source": [
        "# fuel-system\n",
        "plt.figure(figsize = (10, 5))\n",
        "sns.boxplot(x = 'fuel-system', y = 'price', data = df)"
      ],
      "metadata": {
        "id": "uoNP9vd3FSCV",
        "colab": {
          "base_uri": "https://localhost:8080/",
          "height": 351
        },
        "outputId": "0bf41a0c-deaa-4d96-a545-0bde227158b9"
      },
      "execution_count": null,
      "outputs": [
        {
          "output_type": "execute_result",
          "data": {
            "text/plain": [
              "<AxesSubplot:xlabel='fuel-system', ylabel='price'>"
            ]
          },
          "metadata": {},
          "execution_count": 54
        },
        {
          "output_type": "display_data",
          "data": {
            "text/plain": [
              "<Figure size 720x360 with 1 Axes>"
            ],
            "image/png": "[encoded data removed]"
          },
          "metadata": {
            "needs_background": "light"
          }
        }
      ]
    },
    {
      "cell_type": "code",
      "source": [
        "# drive-wheels\n",
        "plt.figure(figsize = (10, 5))\n",
        "sns.boxplot(x = 'drive-wheels', y = 'price', data = df)"
      ],
      "metadata": {
        "id": "kbehJCb_FW_6",
        "colab": {
          "base_uri": "https://localhost:8080/",
          "height": 351
        },
        "outputId": "eceb544c-12bb-4198-ab32-2050b19ec2bd"
      },
      "execution_count": null,
      "outputs": [
        {
          "output_type": "execute_result",
          "data": {
            "text/plain": [
              "<AxesSubplot:xlabel='drive-wheels', ylabel='price'>"
            ]
          },
          "metadata": {},
          "execution_count": 55
        },
        {
          "output_type": "display_data",
          "data": {
            "text/plain": [
              "<Figure size 720x360 with 1 Axes>"
            ],
            "image/png": "[encoded data removed]"
          },
          "metadata": {
            "needs_background": "light"
          }
        }
      ]
    },
    {
      "cell_type": "markdown",
      "source": [
        "Una vez se hayan analizado las distintas propiedades, fijaremos las propiedades con las que entrenaremos el modelo y procederemos a la división del conjunto de datos en los conjuntos de entrenamiento, validación y pruebas."
      ],
      "metadata": {
        "id": "157HPaTH1Rvm"
      }
    },
    {
      "cell_type": "code",
      "source": [
        "numeric_feature_names = df.select_dtypes(include=['int64', 'float64']).columns.tolist()\n",
        "numeric_feature_names.remove('price')\n",
        "categorical_feature_names = df.select_dtypes(include=['object']).columns.tolist()\n",
        "\n",
        "print(f'Propiedades numéricas: {numeric_feature_names} ({len(numeric_feature_names)})')\n",
        "print(f'Propiedades categóricas: {categorical_feature_names} ({len(categorical_feature_names)})')\n",
        "\n",
        "all_feature_names = numeric_feature_names + categorical_feature_names"
      ],
      "metadata": {
        "id": "Chxd-HwEFe8d",
        "colab": {
          "base_uri": "https://localhost:8080/"
        },
        "outputId": "fa340aba-3ec2-4c53-d06a-34f761bee4fd"
      },
      "execution_count": null,
      "outputs": [
        {
          "output_type": "stream",
          "name": "stdout",
          "text": [
            "Propiedades numéricas: ['normalized-losses', 'wheel-base', 'length', 'width', 'height', 'curb-weight', 'engine-size', 'bore', 'stroke', 'compression-ratio', 'horsepower', 'peak-rpm', 'city-mpg', 'highway-mpg'] (14)\n",
            "Propiedades categóricas: ['make', 'fuel-type', 'aspiration', 'num-of-doors', 'body-style', 'drive-wheels', 'engine-location', 'engine-type', 'num-of-cylinders', 'fuel-system'] (10)\n"
          ]
        }
      ]
    },
    {
      "cell_type": "code",
      "source": [
        "df[numeric_feature_names].head(2)"
      ],
      "metadata": {
        "id": "HQHHR9WhFhEk",
        "colab": {
          "base_uri": "https://localhost:8080/",
          "height": 193
        },
        "outputId": "2771308a-180e-4032-8397-f14c5de61850"
      },
      "execution_count": null,
      "outputs": [
        {
          "output_type": "execute_result",
          "data": {
            "text/plain": [
              "   normalized-losses  wheel-base    length     width  height  curb-weight  \\\n",
              "0           0.176781   -1.726065 -0.478688 -0.885243  -2.039    -0.033891   \n",
              "1           0.176781   -1.726065 -0.478688 -0.885243  -2.039    -0.033891   \n",
              "\n",
              "   engine-size      bore    stroke  compression-ratio  horsepower  peak-rpm  \\\n",
              "0     0.341233  0.509006 -0.025582           0.171938    0.314884 -0.229763   \n",
              "1     0.341233  0.509006 -0.025582           0.171938    0.314884 -0.229763   \n",
              "\n",
              "   city-mpg  highway-mpg  \n",
              "0 -0.656758    -0.537362  \n",
              "1 -0.656758    -0.537362  "
            ],
            "text/html": [
              "\n",
              "  <div id=\"df-699d97a4-efc2-47e9-93bc-26550ed82393\">\n",
              "    <div class=\"colab-df-container\">\n",
              "      <div>\n",
              "<style scoped>\n",
              "    .dataframe tbody tr th:only-of-type {\n",
              "        vertical-align: middle;\n",
              "    }\n",
              "\n",
              "    .dataframe tbody tr th {\n",
              "        vertical-align: top;\n",
              "    }\n",
              "\n",
              "    .dataframe thead th {\n",
              "        text-align: right;\n",
              "    }\n",
              "</style>\n",
              "<table border=\"1\" class=\"dataframe\">\n",
              "  <thead>\n",
              "    <tr style=\"text-align: right;\">\n",
              "      <th></th>\n",
              "      <th>normalized-losses</th>\n",
              "      <th>wheel-base</th>\n",
              "      <th>length</th>\n",
              "      <th>width</th>\n",
              "      <th>height</th>\n",
              "      <th>curb-weight</th>\n",
              "      <th>engine-size</th>\n",
              "      <th>bore</th>\n",
              "      <th>stroke</th>\n",
              "      <th>compression-ratio</th>\n",
              "      <th>horsepower</th>\n",
              "      <th>peak-rpm</th>\n",
              "      <th>city-mpg</th>\n",
              "      <th>highway-mpg</th>\n",
              "    </tr>\n",
              "  </thead>\n",
              "  <tbody>\n",
              "    <tr>\n",
              "      <th>0</th>\n",
              "      <td>0.176781</td>\n",
              "      <td>-1.726065</td>\n",
              "      <td>-0.478688</td>\n",
              "      <td>-0.885243</td>\n",
              "      <td>-2.039</td>\n",
              "      <td>-0.033891</td>\n",
              "      <td>0.341233</td>\n",
              "      <td>0.509006</td>\n",
              "      <td>-0.025582</td>\n",
              "      <td>0.171938</td>\n",
              "      <td>0.314884</td>\n",
              "      <td>-0.229763</td>\n",
              "      <td>-0.656758</td>\n",
              "      <td>-0.537362</td>\n",
              "    </tr>\n",
              "    <tr>\n",
              "      <th>1</th>\n",
              "      <td>0.176781</td>\n",
              "      <td>-1.726065</td>\n",
              "      <td>-0.478688</td>\n",
              "      <td>-0.885243</td>\n",
              "      <td>-2.039</td>\n",
              "      <td>-0.033891</td>\n",
              "      <td>0.341233</td>\n",
              "      <td>0.509006</td>\n",
              "      <td>-0.025582</td>\n",
              "      <td>0.171938</td>\n",
              "      <td>0.314884</td>\n",
              "      <td>-0.229763</td>\n",
              "      <td>-0.656758</td>\n",
              "      <td>-0.537362</td>\n",
              "    </tr>\n",
              "  </tbody>\n",
              "</table>\n",
              "</div>\n",
              "      <button class=\"colab-df-convert\" onclick=\"convertToInteractive('df-699d97a4-efc2-47e9-93bc-26550ed82393')\"\n",
              "              title=\"Convert this dataframe to an interactive table.\"\n",
              "              style=\"display:none;\">\n",
              "        \n",
              "  <svg xmlns=\"http://www.w3.org/2000/svg\" height=\"24px\"viewBox=\"0 0 24 24\"\n",
              "       width=\"24px\">\n",
              "    <path d=\"M0 0h24v24H0V0z\" fill=\"none\"/>\n",
              "    <path d=\"M18.56 5.44l.94 2.06.94-2.06 2.06-.94-2.06-.94-.94-2.06-.94 2.06-2.06.94zm-11 1L8.5 8.5l.94-2.06 2.06-.94-2.06-.94L8.5 2.5l-.94 2.06-2.06.94zm10 10l.94 2.06.94-2.06 2.06-.94-2.06-.94-.94-2.06-.94 2.06-2.06.94z\"/><path d=\"M17.41 7.96l-1.37-1.37c-.4-.4-.92-.59-1.43-.59-.52 0-1.04.2-1.43.59L10.3 9.45l-7.72 7.72c-.78.78-.78 2.05 0 2.83L4 21.41c.39.39.9.59 1.41.59.51 0 1.02-.2 1.41-.59l7.78-7.78 2.81-2.81c.8-.78.8-2.07 0-2.86zM5.41 20L4 18.59l7.72-7.72 1.47 1.35L5.41 20z\"/>\n",
              "  </svg>\n",
              "      </button>\n",
              "      \n",
              "  <style>\n",
              "    .colab-df-container {\n",
              "      display:flex;\n",
              "      flex-wrap:wrap;\n",
              "      gap: 12px;\n",
              "    }\n",
              "\n",
              "    .colab-df-convert {\n",
              "      background-color: #E8F0FE;\n",
              "      border: none;\n",
              "      border-radius: 50%;\n",
              "      cursor: pointer;\n",
              "      display: none;\n",
              "      fill: #1967D2;\n",
              "      height: 32px;\n",
              "      padding: 0 0 0 0;\n",
              "      width: 32px;\n",
              "    }\n",
              "\n",
              "    .colab-df-convert:hover {\n",
              "      background-color: #E2EBFA;\n",
              "      box-shadow: 0px 1px 2px rgba(60, 64, 67, 0.3), 0px 1px 3px 1px rgba(60, 64, 67, 0.15);\n",
              "      fill: #174EA6;\n",
              "    }\n",
              "\n",
              "    [theme=dark] .colab-df-convert {\n",
              "      background-color: #3B4455;\n",
              "      fill: #D2E3FC;\n",
              "    }\n",
              "\n",
              "    [theme=dark] .colab-df-convert:hover {\n",
              "      background-color: #434B5C;\n",
              "      box-shadow: 0px 1px 3px 1px rgba(0, 0, 0, 0.15);\n",
              "      filter: drop-shadow(0px 1px 2px rgba(0, 0, 0, 0.3));\n",
              "      fill: #FFFFFF;\n",
              "    }\n",
              "  </style>\n",
              "\n",
              "      <script>\n",
              "        const buttonEl =\n",
              "          document.querySelector('#df-699d97a4-efc2-47e9-93bc-26550ed82393 button.colab-df-convert');\n",
              "        buttonEl.style.display =\n",
              "          google.colab.kernel.accessAllowed ? 'block' : 'none';\n",
              "\n",
              "        async function convertToInteractive(key) {\n",
              "          const element = document.querySelector('#df-699d97a4-efc2-47e9-93bc-26550ed82393');\n",
              "          const dataTable =\n",
              "            await google.colab.kernel.invokeFunction('convertToInteractive',\n",
              "                                                     [key], {});\n",
              "          if (!dataTable) return;\n",
              "\n",
              "          const docLinkHtml = 'Like what you see? Visit the ' +\n",
              "            '<a target=\"_blank\" href=https://colab.research.google.com/notebooks/data_table.ipynb>data table notebook</a>'\n",
              "            + ' to learn more about interactive tables.';\n",
              "          element.innerHTML = '';\n",
              "          dataTable['output_type'] = 'display_data';\n",
              "          await google.colab.output.renderOutput(dataTable, element);\n",
              "          const docLink = document.createElement('div');\n",
              "          docLink.innerHTML = docLinkHtml;\n",
              "          element.appendChild(docLink);\n",
              "        }\n",
              "      </script>\n",
              "    </div>\n",
              "  </div>\n",
              "  "
            ]
          },
          "metadata": {},
          "execution_count": 58
        }
      ]
    },
    {
      "cell_type": "code",
      "source": [
        "df[categorical_feature_names].head(2)"
      ],
      "metadata": {
        "id": "IBtNdyRCFlhw",
        "colab": {
          "base_uri": "https://localhost:8080/",
          "height": 226
        },
        "outputId": "d31a0cf9-bc34-4e9a-bbf7-d42343dbb06a"
      },
      "execution_count": null,
      "outputs": [
        {
          "output_type": "execute_result",
          "data": {
            "text/plain": [
              "          make fuel-type aspiration num-of-doors   body-style drive-wheels  \\\n",
              "0  alfa-romero       gas        std          two  convertible          rwd   \n",
              "1  alfa-romero       gas        std          two  convertible          rwd   \n",
              "\n",
              "  engine-location engine-type num-of-cylinders fuel-system  \n",
              "0           front        dohc             four        mpfi  \n",
              "1           front        dohc             four        mpfi  "
            ],
            "text/html": [
              "\n",
              "  <div id=\"df-c73454a3-cb84-45b6-a41c-edfd20624068\">\n",
              "    <div class=\"colab-df-container\">\n",
              "      <div>\n",
              "<style scoped>\n",
              "    .dataframe tbody tr th:only-of-type {\n",
              "        vertical-align: middle;\n",
              "    }\n",
              "\n",
              "    .dataframe tbody tr th {\n",
              "        vertical-align: top;\n",
              "    }\n",
              "\n",
              "    .dataframe thead th {\n",
              "        text-align: right;\n",
              "    }\n",
              "</style>\n",
              "<table border=\"1\" class=\"dataframe\">\n",
              "  <thead>\n",
              "    <tr style=\"text-align: right;\">\n",
              "      <th></th>\n",
              "      <th>make</th>\n",
              "      <th>fuel-type</th>\n",
              "      <th>aspiration</th>\n",
              "      <th>num-of-doors</th>\n",
              "      <th>body-style</th>\n",
              "      <th>drive-wheels</th>\n",
              "      <th>engine-location</th>\n",
              "      <th>engine-type</th>\n",
              "      <th>num-of-cylinders</th>\n",
              "      <th>fuel-system</th>\n",
              "    </tr>\n",
              "  </thead>\n",
              "  <tbody>\n",
              "    <tr>\n",
              "      <th>0</th>\n",
              "      <td>alfa-romero</td>\n",
              "      <td>gas</td>\n",
              "      <td>std</td>\n",
              "      <td>two</td>\n",
              "      <td>convertible</td>\n",
              "      <td>rwd</td>\n",
              "      <td>front</td>\n",
              "      <td>dohc</td>\n",
              "      <td>four</td>\n",
              "      <td>mpfi</td>\n",
              "    </tr>\n",
              "    <tr>\n",
              "      <th>1</th>\n",
              "      <td>alfa-romero</td>\n",
              "      <td>gas</td>\n",
              "      <td>std</td>\n",
              "      <td>two</td>\n",
              "      <td>convertible</td>\n",
              "      <td>rwd</td>\n",
              "      <td>front</td>\n",
              "      <td>dohc</td>\n",
              "      <td>four</td>\n",
              "      <td>mpfi</td>\n",
              "    </tr>\n",
              "  </tbody>\n",
              "</table>\n",
              "</div>\n",
              "      <button class=\"colab-df-convert\" onclick=\"convertToInteractive('df-c73454a3-cb84-45b6-a41c-edfd20624068')\"\n",
              "              title=\"Convert this dataframe to an interactive table.\"\n",
              "              style=\"display:none;\">\n",
              "        \n",
              "  <svg xmlns=\"http://www.w3.org/2000/svg\" height=\"24px\"viewBox=\"0 0 24 24\"\n",
              "       width=\"24px\">\n",
              "    <path d=\"M0 0h24v24H0V0z\" fill=\"none\"/>\n",
              "    <path d=\"M18.56 5.44l.94 2.06.94-2.06 2.06-.94-2.06-.94-.94-2.06-.94 2.06-2.06.94zm-11 1L8.5 8.5l.94-2.06 2.06-.94-2.06-.94L8.5 2.5l-.94 2.06-2.06.94zm10 10l.94 2.06.94-2.06 2.06-.94-2.06-.94-.94-2.06-.94 2.06-2.06.94z\"/><path d=\"M17.41 7.96l-1.37-1.37c-.4-.4-.92-.59-1.43-.59-.52 0-1.04.2-1.43.59L10.3 9.45l-7.72 7.72c-.78.78-.78 2.05 0 2.83L4 21.41c.39.39.9.59 1.41.59.51 0 1.02-.2 1.41-.59l7.78-7.78 2.81-2.81c.8-.78.8-2.07 0-2.86zM5.41 20L4 18.59l7.72-7.72 1.47 1.35L5.41 20z\"/>\n",
              "  </svg>\n",
              "      </button>\n",
              "      \n",
              "  <style>\n",
              "    .colab-df-container {\n",
              "      display:flex;\n",
              "      flex-wrap:wrap;\n",
              "      gap: 12px;\n",
              "    }\n",
              "\n",
              "    .colab-df-convert {\n",
              "      background-color: #E8F0FE;\n",
              "      border: none;\n",
              "      border-radius: 50%;\n",
              "      cursor: pointer;\n",
              "      display: none;\n",
              "      fill: #1967D2;\n",
              "      height: 32px;\n",
              "      padding: 0 0 0 0;\n",
              "      width: 32px;\n",
              "    }\n",
              "\n",
              "    .colab-df-convert:hover {\n",
              "      background-color: #E2EBFA;\n",
              "      box-shadow: 0px 1px 2px rgba(60, 64, 67, 0.3), 0px 1px 3px 1px rgba(60, 64, 67, 0.15);\n",
              "      fill: #174EA6;\n",
              "    }\n",
              "\n",
              "    [theme=dark] .colab-df-convert {\n",
              "      background-color: #3B4455;\n",
              "      fill: #D2E3FC;\n",
              "    }\n",
              "\n",
              "    [theme=dark] .colab-df-convert:hover {\n",
              "      background-color: #434B5C;\n",
              "      box-shadow: 0px 1px 3px 1px rgba(0, 0, 0, 0.15);\n",
              "      filter: drop-shadow(0px 1px 2px rgba(0, 0, 0, 0.3));\n",
              "      fill: #FFFFFF;\n",
              "    }\n",
              "  </style>\n",
              "\n",
              "      <script>\n",
              "        const buttonEl =\n",
              "          document.querySelector('#df-c73454a3-cb84-45b6-a41c-edfd20624068 button.colab-df-convert');\n",
              "        buttonEl.style.display =\n",
              "          google.colab.kernel.accessAllowed ? 'block' : 'none';\n",
              "\n",
              "        async function convertToInteractive(key) {\n",
              "          const element = document.querySelector('#df-c73454a3-cb84-45b6-a41c-edfd20624068');\n",
              "          const dataTable =\n",
              "            await google.colab.kernel.invokeFunction('convertToInteractive',\n",
              "                                                     [key], {});\n",
              "          if (!dataTable) return;\n",
              "\n",
              "          const docLinkHtml = 'Like what you see? Visit the ' +\n",
              "            '<a target=\"_blank\" href=https://colab.research.google.com/notebooks/data_table.ipynb>data table notebook</a>'\n",
              "            + ' to learn more about interactive tables.';\n",
              "          element.innerHTML = '';\n",
              "          dataTable['output_type'] = 'display_data';\n",
              "          await google.colab.output.renderOutput(dataTable, element);\n",
              "          const docLink = document.createElement('div');\n",
              "          docLink.innerHTML = docLinkHtml;\n",
              "          element.appendChild(docLink);\n",
              "        }\n",
              "      </script>\n",
              "    </div>\n",
              "  </div>\n",
              "  "
            ]
          },
          "metadata": {},
          "execution_count": 59
        }
      ]
    },
    {
      "cell_type": "code",
      "source": [
        "\n",
        "X_train_full, X_test = train_test_split(df[all_feature_names + [target]], test_size = 0.2, random_state = 1)\n",
        "X_train, X_val = train_test_split(X_train_full, test_size = 0.33, random_state = 1)\n",
        "\n",
        "y_train = X_train[target].values\n",
        "y_val = X_val[target].values\n",
        "y_test = X_test[target].values\n",
        "\n",
        "X_train.drop([target], axis = 1, inplace = True)\n",
        "X_val.drop([target], axis = 1, inplace = True)\n",
        "X_test.drop([target], axis = 1, inplace = True)\n",
        "\n",
        "X_train.head(2)"
      ],
      "metadata": {
        "id": "OcLbta_9FpUv",
        "colab": {
          "base_uri": "https://localhost:8080/",
          "height": 240
        },
        "outputId": "7970a57c-0249-42a3-f72d-8ada460b85a9"
      },
      "execution_count": null,
      "outputs": [
        {
          "output_type": "execute_result",
          "data": {
            "text/plain": [
              "     normalized-losses  wheel-base    length     width    height  curb-weight  \\\n",
              "142          -1.132036   -0.319841 -0.085091 -0.255396 -0.320887    -0.540307   \n",
              "35           -1.568309   -0.403545 -1.458495 -0.982143  1.847208    -1.062426   \n",
              "\n",
              "     engine-size      bore    stroke  compression-ratio  ...    make  \\\n",
              "142    -0.457653  1.074231 -0.025582           0.171938  ...  subaru   \n",
              "35     -1.038662 -1.563487  0.683367           0.558993  ...   honda   \n",
              "\n",
              "     fuel-type  aspiration  num-of-doors body-style drive-wheels  \\\n",
              "142        gas         std          four      wagon          fwd   \n",
              "35         gas         std          four      wagon          fwd   \n",
              "\n",
              "    engine-location engine-type num-of-cylinders fuel-system  \n",
              "142           front        ohcf             four        2bbl  \n",
              "35            front         ohc             four        1bbl  \n",
              "\n",
              "[2 rows x 24 columns]"
            ],
            "text/html": [
              "\n",
              "  <div id=\"df-df76a7fc-83bf-4cf7-8cd8-29167c801f89\">\n",
              "    <div class=\"colab-df-container\">\n",
              "      <div>\n",
              "<style scoped>\n",
              "    .dataframe tbody tr th:only-of-type {\n",
              "        vertical-align: middle;\n",
              "    }\n",
              "\n",
              "    .dataframe tbody tr th {\n",
              "        vertical-align: top;\n",
              "    }\n",
              "\n",
              "    .dataframe thead th {\n",
              "        text-align: right;\n",
              "    }\n",
              "</style>\n",
              "<table border=\"1\" class=\"dataframe\">\n",
              "  <thead>\n",
              "    <tr style=\"text-align: right;\">\n",
              "      <th></th>\n",
              "      <th>normalized-losses</th>\n",
              "      <th>wheel-base</th>\n",
              "      <th>length</th>\n",
              "      <th>width</th>\n",
              "      <th>height</th>\n",
              "      <th>curb-weight</th>\n",
              "      <th>engine-size</th>\n",
              "      <th>bore</th>\n",
              "      <th>stroke</th>\n",
              "      <th>compression-ratio</th>\n",
              "      <th>...</th>\n",
              "      <th>make</th>\n",
              "      <th>fuel-type</th>\n",
              "      <th>aspiration</th>\n",
              "      <th>num-of-doors</th>\n",
              "      <th>body-style</th>\n",
              "      <th>drive-wheels</th>\n",
              "      <th>engine-location</th>\n",
              "      <th>engine-type</th>\n",
              "      <th>num-of-cylinders</th>\n",
              "      <th>fuel-system</th>\n",
              "    </tr>\n",
              "  </thead>\n",
              "  <tbody>\n",
              "    <tr>\n",
              "      <th>142</th>\n",
              "      <td>-1.132036</td>\n",
              "      <td>-0.319841</td>\n",
              "      <td>-0.085091</td>\n",
              "      <td>-0.255396</td>\n",
              "      <td>-0.320887</td>\n",
              "      <td>-0.540307</td>\n",
              "      <td>-0.457653</td>\n",
              "      <td>1.074231</td>\n",
              "      <td>-0.025582</td>\n",
              "      <td>0.171938</td>\n",
              "      <td>...</td>\n",
              "      <td>subaru</td>\n",
              "      <td>gas</td>\n",
              "      <td>std</td>\n",
              "      <td>four</td>\n",
              "      <td>wagon</td>\n",
              "      <td>fwd</td>\n",
              "      <td>front</td>\n",
              "      <td>ohcf</td>\n",
              "      <td>four</td>\n",
              "      <td>2bbl</td>\n",
              "    </tr>\n",
              "    <tr>\n",
              "      <th>35</th>\n",
              "      <td>-1.568309</td>\n",
              "      <td>-0.403545</td>\n",
              "      <td>-1.458495</td>\n",
              "      <td>-0.982143</td>\n",
              "      <td>1.847208</td>\n",
              "      <td>-1.062426</td>\n",
              "      <td>-1.038662</td>\n",
              "      <td>-1.563487</td>\n",
              "      <td>0.683367</td>\n",
              "      <td>0.558993</td>\n",
              "      <td>...</td>\n",
              "      <td>honda</td>\n",
              "      <td>gas</td>\n",
              "      <td>std</td>\n",
              "      <td>four</td>\n",
              "      <td>wagon</td>\n",
              "      <td>fwd</td>\n",
              "      <td>front</td>\n",
              "      <td>ohc</td>\n",
              "      <td>four</td>\n",
              "      <td>1bbl</td>\n",
              "    </tr>\n",
              "  </tbody>\n",
              "</table>\n",
              "<p>2 rows × 24 columns</p>\n",
              "</div>\n",
              "      <button class=\"colab-df-convert\" onclick=\"convertToInteractive('df-df76a7fc-83bf-4cf7-8cd8-29167c801f89')\"\n",
              "              title=\"Convert this dataframe to an interactive table.\"\n",
              "              style=\"display:none;\">\n",
              "        \n",
              "  <svg xmlns=\"http://www.w3.org/2000/svg\" height=\"24px\"viewBox=\"0 0 24 24\"\n",
              "       width=\"24px\">\n",
              "    <path d=\"M0 0h24v24H0V0z\" fill=\"none\"/>\n",
              "    <path d=\"M18.56 5.44l.94 2.06.94-2.06 2.06-.94-2.06-.94-.94-2.06-.94 2.06-2.06.94zm-11 1L8.5 8.5l.94-2.06 2.06-.94-2.06-.94L8.5 2.5l-.94 2.06-2.06.94zm10 10l.94 2.06.94-2.06 2.06-.94-2.06-.94-.94-2.06-.94 2.06-2.06.94z\"/><path d=\"M17.41 7.96l-1.37-1.37c-.4-.4-.92-.59-1.43-.59-.52 0-1.04.2-1.43.59L10.3 9.45l-7.72 7.72c-.78.78-.78 2.05 0 2.83L4 21.41c.39.39.9.59 1.41.59.51 0 1.02-.2 1.41-.59l7.78-7.78 2.81-2.81c.8-.78.8-2.07 0-2.86zM5.41 20L4 18.59l7.72-7.72 1.47 1.35L5.41 20z\"/>\n",
              "  </svg>\n",
              "      </button>\n",
              "      \n",
              "  <style>\n",
              "    .colab-df-container {\n",
              "      display:flex;\n",
              "      flex-wrap:wrap;\n",
              "      gap: 12px;\n",
              "    }\n",
              "\n",
              "    .colab-df-convert {\n",
              "      background-color: #E8F0FE;\n",
              "      border: none;\n",
              "      border-radius: 50%;\n",
              "      cursor: pointer;\n",
              "      display: none;\n",
              "      fill: #1967D2;\n",
              "      height: 32px;\n",
              "      padding: 0 0 0 0;\n",
              "      width: 32px;\n",
              "    }\n",
              "\n",
              "    .colab-df-convert:hover {\n",
              "      background-color: #E2EBFA;\n",
              "      box-shadow: 0px 1px 2px rgba(60, 64, 67, 0.3), 0px 1px 3px 1px rgba(60, 64, 67, 0.15);\n",
              "      fill: #174EA6;\n",
              "    }\n",
              "\n",
              "    [theme=dark] .colab-df-convert {\n",
              "      background-color: #3B4455;\n",
              "      fill: #D2E3FC;\n",
              "    }\n",
              "\n",
              "    [theme=dark] .colab-df-convert:hover {\n",
              "      background-color: #434B5C;\n",
              "      box-shadow: 0px 1px 3px 1px rgba(0, 0, 0, 0.15);\n",
              "      filter: drop-shadow(0px 1px 2px rgba(0, 0, 0, 0.3));\n",
              "      fill: #FFFFFF;\n",
              "    }\n",
              "  </style>\n",
              "\n",
              "      <script>\n",
              "        const buttonEl =\n",
              "          document.querySelector('#df-df76a7fc-83bf-4cf7-8cd8-29167c801f89 button.colab-df-convert');\n",
              "        buttonEl.style.display =\n",
              "          google.colab.kernel.accessAllowed ? 'block' : 'none';\n",
              "\n",
              "        async function convertToInteractive(key) {\n",
              "          const element = document.querySelector('#df-df76a7fc-83bf-4cf7-8cd8-29167c801f89');\n",
              "          const dataTable =\n",
              "            await google.colab.kernel.invokeFunction('convertToInteractive',\n",
              "                                                     [key], {});\n",
              "          if (!dataTable) return;\n",
              "\n",
              "          const docLinkHtml = 'Like what you see? Visit the ' +\n",
              "            '<a target=\"_blank\" href=https://colab.research.google.com/notebooks/data_table.ipynb>data table notebook</a>'\n",
              "            + ' to learn more about interactive tables.';\n",
              "          element.innerHTML = '';\n",
              "          dataTable['output_type'] = 'display_data';\n",
              "          await google.colab.output.renderOutput(dataTable, element);\n",
              "          const docLink = document.createElement('div');\n",
              "          docLink.innerHTML = docLinkHtml;\n",
              "          element.appendChild(docLink);\n",
              "        }\n",
              "      </script>\n",
              "    </div>\n",
              "  </div>\n",
              "  "
            ]
          },
          "metadata": {},
          "execution_count": 60
        }
      ]
    },
    {
      "cell_type": "markdown",
      "source": [
        "# Ingeniería de propiedades"
      ],
      "metadata": {
        "id": "R4P_-MF1FvPX"
      }
    },
    {
      "cell_type": "markdown",
      "source": [
        "Una vez realizada la división del conjunto de datos, procederemos a codificar el conjunto de propiedades en un vector de propiedades. Utilizaremos la clase DictVectorizer para realizar la codificación one-hot de las variables categóricas."
      ],
      "metadata": {
        "id": "I2hNtfuA1_6A"
      }
    },
    {
      "cell_type": "code",
      "source": [
        "train_dict = X_train[all_feature_names].to_dict(orient = 'records')\n",
        "dict(sorted(train_dict[0].items()))"
      ],
      "metadata": {
        "id": "BpWjtdjrFzg4",
        "colab": {
          "base_uri": "https://localhost:8080/"
        },
        "outputId": "e20b9632-66f9-42f4-938f-23fbfb2b5fd7"
      },
      "execution_count": null,
      "outputs": [
        {
          "output_type": "execute_result",
          "data": {
            "text/plain": [
              "{'aspiration': 'std',\n",
              " 'body-style': 'wagon',\n",
              " 'bore': 1.0742307028323315,\n",
              " 'city-mpg': 0.5071908288201766,\n",
              " 'compression-ratio': 0.17193796378334733,\n",
              " 'curb-weight': -0.5403074140306409,\n",
              " 'drive-wheels': 'fwd',\n",
              " 'engine-location': 'front',\n",
              " 'engine-size': -0.4576534592550545,\n",
              " 'engine-type': 'ohcf',\n",
              " 'fuel-system': '2bbl',\n",
              " 'fuel-type': 'gas',\n",
              " 'height': -0.3208870972487771,\n",
              " 'highway-mpg': 0.23978229024840692,\n",
              " 'horsepower': -0.585390866785266,\n",
              " 'length': -0.08509077518155339,\n",
              " 'make': 'subaru',\n",
              " 'normalized-losses': -1.1320364791349915,\n",
              " 'num-of-cylinders': 'four',\n",
              " 'num-of-doors': 'four',\n",
              " 'peak-rpm': -0.6693738433780904,\n",
              " 'stroke': -0.025581887841596394,\n",
              " 'wheel-base': -0.3198410045400321,\n",
              " 'width': -0.25539604207180566}"
            ]
          },
          "metadata": {},
          "execution_count": 61
        }
      ]
    },
    {
      "cell_type": "code",
      "source": [
        "from sklearn.feature_extraction import DictVectorizer\n",
        "\n",
        "dv = DictVectorizer(sparse = False)\n",
        "dv.fit(train_dict)\n",
        "\n",
        "X_train = dv.transform(train_dict)\n",
        "X_train[0]"
      ],
      "metadata": {
        "id": "22iE6ADOF3Nt",
        "colab": {
          "base_uri": "https://localhost:8080/"
        },
        "outputId": "61ee3cc7-c789-4798-a683-449725b4e8fc"
      },
      "execution_count": null,
      "outputs": [
        {
          "output_type": "execute_result",
          "data": {
            "text/plain": [
              "array([ 1.        ,  0.        ,  0.        ,  0.        ,  0.        ,\n",
              "        0.        ,  1.        ,  1.0742307 ,  0.50719083,  0.17193796,\n",
              "       -0.54030741,  0.        ,  1.        ,  0.        ,  1.        ,\n",
              "        0.        , -0.45765346,  0.        ,  0.        ,  0.        ,\n",
              "        1.        ,  0.        ,  0.        ,  0.        ,  1.        ,\n",
              "        0.        ,  0.        ,  0.        ,  0.        ,  0.        ,\n",
              "        1.        , -0.3208871 ,  0.23978229, -0.58539087, -0.08509078,\n",
              "        0.        ,  0.        ,  0.        ,  0.        ,  0.        ,\n",
              "        0.        ,  0.        ,  0.        ,  0.        ,  0.        ,\n",
              "        0.        ,  0.        ,  0.        ,  0.        ,  0.        ,\n",
              "        0.        ,  0.        ,  1.        ,  0.        ,  0.        ,\n",
              "        0.        , -1.13203648,  0.        ,  0.        ,  1.        ,\n",
              "        0.        ,  0.        ,  1.        ,  0.        , -0.66937384,\n",
              "       -0.02558189, -0.319841  , -0.25539604])"
            ]
          },
          "metadata": {},
          "execution_count": 62
        }
      ]
    },
    {
      "cell_type": "code",
      "source": [
        "dv.get_feature_names_out()"
      ],
      "metadata": {
        "id": "qChsjVfPF_AL",
        "colab": {
          "base_uri": "https://localhost:8080/"
        },
        "outputId": "e27bd8fd-2993-424a-de0d-70b1cff636f3"
      },
      "execution_count": null,
      "outputs": [
        {
          "output_type": "execute_result",
          "data": {
            "text/plain": [
              "array(['aspiration=std', 'aspiration=turbo', 'body-style=convertible',\n",
              "       'body-style=hardtop', 'body-style=hatchback', 'body-style=sedan',\n",
              "       'body-style=wagon', 'bore', 'city-mpg', 'compression-ratio',\n",
              "       'curb-weight', 'drive-wheels=4wd', 'drive-wheels=fwd',\n",
              "       'drive-wheels=rwd', 'engine-location=front',\n",
              "       'engine-location=rear', 'engine-size', 'engine-type=dohc',\n",
              "       'engine-type=l', 'engine-type=ohc', 'engine-type=ohcf',\n",
              "       'engine-type=ohcv', 'engine-type=rotor', 'fuel-system=1bbl',\n",
              "       'fuel-system=2bbl', 'fuel-system=4bbl', 'fuel-system=idi',\n",
              "       'fuel-system=mpfi', 'fuel-system=spdi', 'fuel-type=diesel',\n",
              "       'fuel-type=gas', 'height', 'highway-mpg', 'horsepower', 'length',\n",
              "       'make=alfa-romero', 'make=audi', 'make=bmw', 'make=chevrolet',\n",
              "       'make=dodge', 'make=honda', 'make=jaguar', 'make=mazda',\n",
              "       'make=mercedes-benz', 'make=mercury', 'make=mitsubishi',\n",
              "       'make=nissan', 'make=peugot', 'make=plymouth', 'make=porsche',\n",
              "       'make=renault', 'make=saab', 'make=subaru', 'make=toyota',\n",
              "       'make=volkswagen', 'make=volvo', 'normalized-losses',\n",
              "       'num-of-cylinders=eight', 'num-of-cylinders=five',\n",
              "       'num-of-cylinders=four', 'num-of-cylinders=six',\n",
              "       'num-of-cylinders=two', 'num-of-doors=four', 'num-of-doors=two',\n",
              "       'peak-rpm', 'stroke', 'wheel-base', 'width'], dtype=object)"
            ]
          },
          "metadata": {},
          "execution_count": 63
        }
      ]
    },
    {
      "cell_type": "markdown",
      "source": [
        "# Entrenamiento del modelo"
      ],
      "metadata": {
        "id": "kZ9G877cGFSP"
      }
    },
    {
      "cell_type": "code",
      "source": [
        "from sklearn.linear_model import LinearRegression\n",
        "\n",
        "model = LinearRegression()\n",
        "model.fit(X_train, y_train)"
      ],
      "metadata": {
        "id": "L5TkraEgGIpP",
        "colab": {
          "base_uri": "https://localhost:8080/",
          "height": 75
        },
        "outputId": "92217b66-b1b2-485e-d075-8b4356443c01"
      },
      "execution_count": null,
      "outputs": [
        {
          "output_type": "execute_result",
          "data": {
            "text/plain": [
              "LinearRegression()"
            ],
            "text/html": [
              "<style>#sk-container-id-1 {color: black;background-color: white;}#sk-container-id-1 pre{padding: 0;}#sk-container-id-1 div.sk-toggleable {background-color: white;}#sk-container-id-1 label.sk-toggleable__label {cursor: pointer;display: block;width: 100%;margin-bottom: 0;padding: 0.3em;box-sizing: border-box;text-align: center;}#sk-container-id-1 label.sk-toggleable__label-arrow:before {content: \"▸\";float: left;margin-right: 0.25em;color: #696969;}#sk-container-id-1 label.sk-toggleable__label-arrow:hover:before {color: black;}#sk-container-id-1 div.sk-estimator:hover label.sk-toggleable__label-arrow:before {color: black;}#sk-container-id-1 div.sk-toggleable__content {max-height: 0;max-width: 0;overflow: hidden;text-align: left;background-color: #f0f8ff;}#sk-container-id-1 div.sk-toggleable__content pre {margin: 0.2em;color: black;border-radius: 0.25em;background-color: #f0f8ff;}#sk-container-id-1 input.sk-toggleable__control:checked~div.sk-toggleable__content {max-height: 200px;max-width: 100%;overflow: auto;}#sk-container-id-1 input.sk-toggleable__control:checked~label.sk-toggleable__label-arrow:before {content: \"▾\";}#sk-container-id-1 div.sk-estimator input.sk-toggleable__control:checked~label.sk-toggleable__label {background-color: #d4ebff;}#sk-container-id-1 div.sk-label input.sk-toggleable__control:checked~label.sk-toggleable__label {background-color: #d4ebff;}#sk-container-id-1 input.sk-hidden--visually {border: 0;clip: rect(1px 1px 1px 1px);clip: rect(1px, 1px, 1px, 1px);height: 1px;margin: -1px;overflow: hidden;padding: 0;position: absolute;width: 1px;}#sk-container-id-1 div.sk-estimator {font-family: monospace;background-color: #f0f8ff;border: 1px dotted black;border-radius: 0.25em;box-sizing: border-box;margin-bottom: 0.5em;}#sk-container-id-1 div.sk-estimator:hover {background-color: #d4ebff;}#sk-container-id-1 div.sk-parallel-item::after {content: \"\";width: 100%;border-bottom: 1px solid gray;flex-grow: 1;}#sk-container-id-1 div.sk-label:hover label.sk-toggleable__label {background-color: #d4ebff;}#sk-container-id-1 div.sk-serial::before {content: \"\";position: absolute;border-left: 1px solid gray;box-sizing: border-box;top: 0;bottom: 0;left: 50%;z-index: 0;}#sk-container-id-1 div.sk-serial {display: flex;flex-direction: column;align-items: center;background-color: white;padding-right: 0.2em;padding-left: 0.2em;position: relative;}#sk-container-id-1 div.sk-item {position: relative;z-index: 1;}#sk-container-id-1 div.sk-parallel {display: flex;align-items: stretch;justify-content: center;background-color: white;position: relative;}#sk-container-id-1 div.sk-item::before, #sk-container-id-1 div.sk-parallel-item::before {content: \"\";position: absolute;border-left: 1px solid gray;box-sizing: border-box;top: 0;bottom: 0;left: 50%;z-index: -1;}#sk-container-id-1 div.sk-parallel-item {display: flex;flex-direction: column;z-index: 1;position: relative;background-color: white;}#sk-container-id-1 div.sk-parallel-item:first-child::after {align-self: flex-end;width: 50%;}#sk-container-id-1 div.sk-parallel-item:last-child::after {align-self: flex-start;width: 50%;}#sk-container-id-1 div.sk-parallel-item:only-child::after {width: 0;}#sk-container-id-1 div.sk-dashed-wrapped {border: 1px dashed gray;margin: 0 0.4em 0.5em 0.4em;box-sizing: border-box;padding-bottom: 0.4em;background-color: white;}#sk-container-id-1 div.sk-label label {font-family: monospace;font-weight: bold;display: inline-block;line-height: 1.2em;}#sk-container-id-1 div.sk-label-container {text-align: center;}#sk-container-id-1 div.sk-container {/* jupyter's `normalize.less` sets `[hidden] { display: none; }` but bootstrap.min.css set `[hidden] { display: none !important; }` so we also need the `!important` here to be able to override the default hidden behavior on the sphinx rendered scikit-learn.org. See: https://github.com/scikit-learn/scikit-learn/issues/21755 */display: inline-block !important;position: relative;}#sk-container-id-1 div.sk-text-repr-fallback {display: none;}</style><div id=\"sk-container-id-1\" class=\"sk-top-container\"><div class=\"sk-text-repr-fallback\"><pre>LinearRegression()</pre><b>In a Jupyter environment, please rerun this cell to show the HTML representation or trust the notebook. <br />On GitHub, the HTML representation is unable to render, please try loading this page with nbviewer.org.</b></div><div class=\"sk-container\" hidden><div class=\"sk-item\"><div class=\"sk-estimator sk-toggleable\"><input class=\"sk-toggleable__control sk-hidden--visually\" id=\"sk-estimator-id-1\" type=\"checkbox\" checked><label for=\"sk-estimator-id-1\" class=\"sk-toggleable__label sk-toggleable__label-arrow\">LinearRegression</label><div class=\"sk-toggleable__content\"><pre>LinearRegression()</pre></div></div></div></div></div>"
            ]
          },
          "metadata": {},
          "execution_count": 64
        }
      ]
    },
    {
      "cell_type": "code",
      "source": [
        "# precisión del modelo con los datos de entrenamiento\n",
        "model.score(X_train, y_train)"
      ],
      "metadata": {
        "id": "wCy-QPFVGNBh",
        "colab": {
          "base_uri": "https://localhost:8080/"
        },
        "outputId": "42973190-dfb5-44f5-8cfc-60cb0bd652ba"
      },
      "execution_count": null,
      "outputs": [
        {
          "output_type": "execute_result",
          "data": {
            "text/plain": [
              "0.9839428369055989"
            ]
          },
          "metadata": {},
          "execution_count": 65
        }
      ]
    },
    {
      "cell_type": "code",
      "source": [
        "# precisión con los datos de validación\n",
        "X_val = dv.transform(X_val[all_feature_names].to_dict(orient = 'records'))\n",
        "model.score(X_val, y_val)"
      ],
      "metadata": {
        "id": "bnOuhYPNGSQQ",
        "colab": {
          "base_uri": "https://localhost:8080/"
        },
        "outputId": "8afef06f-7cd8-416f-ed88-e3646e27be6e"
      },
      "execution_count": null,
      "outputs": [
        {
          "output_type": "execute_result",
          "data": {
            "text/plain": [
              "0.7567172975056728"
            ]
          },
          "metadata": {},
          "execution_count": 66
        }
      ]
    },
    {
      "cell_type": "code",
      "source": [
        "# precisón con los datos de prueba\n",
        "X_test = dv.transform(X_test[all_feature_names].to_dict(orient = 'records'))\n",
        "y_pred = model.predict(X_test)\n",
        "model.score(X_test, y_test)"
      ],
      "metadata": {
        "id": "H_jyJN3tGV_h",
        "colab": {
          "base_uri": "https://localhost:8080/"
        },
        "outputId": "53bfb735-992d-49c0-ee62-c3f8b52f90bf"
      },
      "execution_count": null,
      "outputs": [
        {
          "output_type": "execute_result",
          "data": {
            "text/plain": [
              "0.9253085161185406"
            ]
          },
          "metadata": {},
          "execution_count": 67
        }
      ]
    },
    {
      "cell_type": "code",
      "source": [
        "# representando las predicciones para los datos de prueba de los\n",
        "# 15 primeros coches\n",
        "\n",
        "import matplotlib.pyplot as plt\n",
        "import numpy as np\n",
        "\n",
        "ind = np.arange(15)\n",
        "width = 0.35\n",
        "\n",
        "plt.figure(figsize = (9, 4))\n",
        "plt.bar(ind, y_test[:15], width, label = 'Precio de venta real')\n",
        "plt.bar(ind+width, y_pred[:15], width, label = 'Precio de venta predicho')\n",
        "\n",
        "plt.xticks(ind+width / 2, np.arange(1, 16))\n",
        "plt.legend(loc = 'best')\n",
        "\n",
        "plt.xlabel('Coches')\n",
        "plt.ylabel('Precio de venta')\n",
        "plt.title('Precio de venta - Real vs. Predicho')\n",
        "\n",
        "plt.show()"
      ],
      "metadata": {
        "colab": {
          "base_uri": "https://localhost:8080/",
          "height": 295
        },
        "id": "Lpl0vm-MGZ9F",
        "outputId": "92c0077c-40fc-4b4f-d899-e50cd41b5fa3"
      },
      "execution_count": null,
      "outputs": [
        {
          "output_type": "display_data",
          "data": {
            "text/plain": [
              "<Figure size 648x288 with 1 Axes>"
            ],
            "image/png": "[encoded data removed]"
          },
          "metadata": {
            "needs_background": "light"
          }
        }
      ]
    },
    {
      "cell_type": "markdown",
      "source": [
        "# Modelo basado en una red neuronal"
      ],
      "metadata": {
        "id": "xcDgu4lVhDbs"
      }
    },
    {
      "cell_type": "code",
      "source": [
        "from tensorflow.keras.models import Sequential\n",
        "from tensorflow.keras.layers import Dense\n",
        "from keras.optimizers import Adam\n",
        "import matplotlib.pyplot as plt"
      ],
      "metadata": {
        "id": "s2YrPpnjhRty"
      },
      "execution_count": null,
      "outputs": []
    },
    {
      "cell_type": "code",
      "source": [
        "# implementa una red neuronal para realizar las mismas predicciones\n",
        "model = Sequential()\n",
        "input_shape = len(X_train[0])\n",
        "print('Numero de entradas:',input_shape)\n",
        "\n",
        "model.add(Dense(int(len(X_train[0])), input_shape=(input_shape,), activation='relu', kernel_initializer='he_uniform'))\n",
        "model.add(Dense(int(len(X_train[0])/2), activation='relu', kernel_initializer='he_uniform'))\n",
        "model.add(Dense(1, activation='linear', kernel_initializer='glorot_uniform'))\n",
        "\n",
        "model.summary()"
      ],
      "metadata": {
        "colab": {
          "base_uri": "https://localhost:8080/"
        },
        "outputId": "8a5001e0-11b9-440c-a6d6-98a0f8226b0b",
        "id": "H6HEH3zDhDbx"
      },
      "execution_count": null,
      "outputs": [
        {
          "output_type": "stream",
          "name": "stdout",
          "text": [
            "Numero de entradas: 68\n",
            "Model: \"sequential\"\n",
            "_________________________________________________________________\n",
            " Layer (type)                Output Shape              Param #   \n",
            "=================================================================\n",
            " dense (Dense)               (None, 68)                4692      \n",
            "                                                                 \n",
            " dense_1 (Dense)             (None, 34)                2346      \n",
            "                                                                 \n",
            " dense_2 (Dense)             (None, 1)                 35        \n",
            "                                                                 \n",
            "=================================================================\n",
            "Total params: 7,073\n",
            "Trainable params: 7,073\n",
            "Non-trainable params: 0\n",
            "_________________________________________________________________\n"
          ]
        }
      ]
    },
    {
      "cell_type": "code",
      "source": [
        "model.compile(loss='mean_squared_error', optimizer=Adam(lr=0.001))"
      ],
      "metadata": {
        "colab": {
          "base_uri": "https://localhost:8080/"
        },
        "id": "qk5AmMSil4kc",
        "outputId": "86f03edd-b4d2-4e7a-a8b4-a9d3ba83c386"
      },
      "execution_count": null,
      "outputs": [
        {
          "output_type": "stream",
          "name": "stderr",
          "text": [
            "/usr/local/lib/python3.9/dist-packages/keras/optimizers/optimizer_v2/adam.py:117: UserWarning: The `lr` argument is deprecated, use `learning_rate` instead.\n",
            "  super().__init__(name, **kwargs)\n"
          ]
        }
      ]
    },
    {
      "cell_type": "code",
      "source": [
        "# fit the keras model on the dataset\n",
        "history = model.fit(X_train, y_train, epochs=1000, batch_size=int(len(X_train[0])/3))"
      ],
      "metadata": {
        "colab": {
          "base_uri": "https://localhost:8080/"
        },
        "id": "84NaAI_Al6u1",
        "outputId": "8c293d39-eefc-429f-9194-3af830f8c762"
      },
      "execution_count": null,
      "outputs": [
        {
          "output_type": "stream",
          "name": "stdout",
          "text": [
            "Epoch 1/1000\n",
            "5/5 [==============================] - 1s 6ms/step - loss: 269693536.0000\n",
            "Epoch 2/1000\n",
            "5/5 [==============================] - 0s 5ms/step - loss: 269675488.0000\n",
            "Epoch 3/1000\n",
            "5/5 [==============================] - 0s 4ms/step - loss: 269655904.0000\n",
            "Epoch 4/1000\n",
            "5/5 [==============================] - 0s 5ms/step - loss: 269635904.0000\n",
            "Epoch 5/1000\n",
            "5/5 [==============================] - 0s 4ms/step - loss: 269614816.0000\n",
            "Epoch 6/1000\n",
            "5/5 [==============================] - 0s 5ms/step - loss: 269588736.0000\n",
            "Epoch 7/1000\n",
            "5/5 [==============================] - 0s 6ms/step - loss: 269558144.0000\n",
            "Epoch 8/1000\n",
            "5/5 [==============================] - 0s 7ms/step - loss: 269518592.0000\n",
            "Epoch 9/1000\n",
            "5/5 [==============================] - 0s 5ms/step - loss: 269471584.0000\n",
            "Epoch 10/1000\n",
            "5/5 [==============================] - 0s 5ms/step - loss: 269416672.0000\n",
            "Epoch 11/1000\n",
            "5/5 [==============================] - 0s 6ms/step - loss: 269348192.0000\n",
            "Epoch 12/1000\n",
            "5/5 [==============================] - 0s 4ms/step - loss: 269265312.0000\n",
            "Epoch 13/1000\n",
            "5/5 [==============================] - 0s 5ms/step - loss: 269164096.0000\n",
            "Epoch 14/1000\n",
            "5/5 [==============================] - 0s 5ms/step - loss: 269044512.0000\n",
            "Epoch 15/1000\n",
            "5/5 [==============================] - 0s 5ms/step - loss: 268904608.0000\n",
            "Epoch 16/1000\n",
            "5/5 [==============================] - 0s 5ms/step - loss: 268726144.0000\n",
            "Epoch 17/1000\n",
            "5/5 [==============================] - 0s 5ms/step - loss: 268527200.0000\n",
            "Epoch 18/1000\n",
            "5/5 [==============================] - 0s 5ms/step - loss: 268300256.0000\n",
            "Epoch 19/1000\n",
            "5/5 [==============================] - 0s 5ms/step - loss: 268034544.0000\n",
            "Epoch 20/1000\n",
            "5/5 [==============================] - 0s 5ms/step - loss: 267721088.0000\n",
            "Epoch 21/1000\n",
            "5/5 [==============================] - 0s 5ms/step - loss: 267378752.0000\n",
            "Epoch 22/1000\n",
            "5/5 [==============================] - 0s 4ms/step - loss: 266980016.0000\n",
            "Epoch 23/1000\n",
            "5/5 [==============================] - 0s 3ms/step - loss: 266535968.0000\n",
            "Epoch 24/1000\n",
            "5/5 [==============================] - 0s 4ms/step - loss: 266066512.0000\n",
            "Epoch 25/1000\n",
            "5/5 [==============================] - 0s 3ms/step - loss: 265474304.0000\n",
            "Epoch 26/1000\n",
            "5/5 [==============================] - 0s 3ms/step - loss: 264831088.0000\n",
            "Epoch 27/1000\n",
            "5/5 [==============================] - 0s 3ms/step - loss: 264110704.0000\n",
            "Epoch 28/1000\n",
            "5/5 [==============================] - 0s 4ms/step - loss: 263393072.0000\n",
            "Epoch 29/1000\n",
            "5/5 [==============================] - 0s 3ms/step - loss: 262490176.0000\n",
            "Epoch 30/1000\n",
            "5/5 [==============================] - 0s 3ms/step - loss: 261555136.0000\n",
            "Epoch 31/1000\n",
            "5/5 [==============================] - 0s 5ms/step - loss: 260529536.0000\n",
            "Epoch 32/1000\n",
            "5/5 [==============================] - 0s 3ms/step - loss: 259395152.0000\n",
            "Epoch 33/1000\n",
            "5/5 [==============================] - 0s 4ms/step - loss: 258217312.0000\n",
            "Epoch 34/1000\n",
            "5/5 [==============================] - 0s 3ms/step - loss: 256942352.0000\n",
            "Epoch 35/1000\n",
            "5/5 [==============================] - 0s 4ms/step - loss: 255687024.0000\n",
            "Epoch 36/1000\n",
            "5/5 [==============================] - 0s 3ms/step - loss: 254164992.0000\n",
            "Epoch 37/1000\n",
            "5/5 [==============================] - 0s 3ms/step - loss: 252610432.0000\n",
            "Epoch 38/1000\n",
            "5/5 [==============================] - 0s 4ms/step - loss: 251098016.0000\n",
            "Epoch 39/1000\n",
            "5/5 [==============================] - 0s 3ms/step - loss: 249199120.0000\n",
            "Epoch 40/1000\n",
            "5/5 [==============================] - 0s 4ms/step - loss: 247429472.0000\n",
            "Epoch 41/1000\n",
            "5/5 [==============================] - 0s 3ms/step - loss: 245536560.0000\n",
            "Epoch 42/1000\n",
            "5/5 [==============================] - 0s 4ms/step - loss: 243356496.0000\n",
            "Epoch 43/1000\n",
            "5/5 [==============================] - 0s 3ms/step - loss: 241295392.0000\n",
            "Epoch 44/1000\n",
            "5/5 [==============================] - 0s 4ms/step - loss: 238899504.0000\n",
            "Epoch 45/1000\n",
            "5/5 [==============================] - 0s 3ms/step - loss: 236586112.0000\n",
            "Epoch 46/1000\n",
            "5/5 [==============================] - 0s 3ms/step - loss: 234133936.0000\n",
            "Epoch 47/1000\n",
            "5/5 [==============================] - 0s 3ms/step - loss: 231586992.0000\n",
            "Epoch 48/1000\n",
            "5/5 [==============================] - 0s 5ms/step - loss: 228843168.0000\n",
            "Epoch 49/1000\n",
            "5/5 [==============================] - 0s 5ms/step - loss: 225954592.0000\n",
            "Epoch 50/1000\n",
            "5/5 [==============================] - 0s 4ms/step - loss: 223098064.0000\n",
            "Epoch 51/1000\n",
            "5/5 [==============================] - 0s 4ms/step - loss: 220078112.0000\n",
            "Epoch 52/1000\n",
            "5/5 [==============================] - 0s 4ms/step - loss: 217041760.0000\n",
            "Epoch 53/1000\n",
            "5/5 [==============================] - 0s 3ms/step - loss: 213816720.0000\n",
            "Epoch 54/1000\n",
            "5/5 [==============================] - 0s 3ms/step - loss: 210390544.0000\n",
            "Epoch 55/1000\n",
            "5/5 [==============================] - 0s 3ms/step - loss: 207152800.0000\n",
            "Epoch 56/1000\n",
            "5/5 [==============================] - 0s 3ms/step - loss: 203615792.0000\n",
            "Epoch 57/1000\n",
            "5/5 [==============================] - 0s 4ms/step - loss: 199993776.0000\n",
            "Epoch 58/1000\n",
            "5/5 [==============================] - 0s 3ms/step - loss: 196365216.0000\n",
            "Epoch 59/1000\n",
            "5/5 [==============================] - 0s 4ms/step - loss: 192556240.0000\n",
            "Epoch 60/1000\n",
            "5/5 [==============================] - 0s 5ms/step - loss: 188882272.0000\n",
            "Epoch 61/1000\n",
            "5/5 [==============================] - 0s 4ms/step - loss: 184932240.0000\n",
            "Epoch 62/1000\n",
            "5/5 [==============================] - 0s 4ms/step - loss: 180720016.0000\n",
            "Epoch 63/1000\n",
            "5/5 [==============================] - 0s 6ms/step - loss: 176988736.0000\n",
            "Epoch 64/1000\n",
            "5/5 [==============================] - 0s 4ms/step - loss: 172994816.0000\n",
            "Epoch 65/1000\n",
            "5/5 [==============================] - 0s 3ms/step - loss: 168822352.0000\n",
            "Epoch 66/1000\n",
            "5/5 [==============================] - 0s 3ms/step - loss: 164519712.0000\n",
            "Epoch 67/1000\n",
            "5/5 [==============================] - 0s 3ms/step - loss: 160723168.0000\n",
            "Epoch 68/1000\n",
            "5/5 [==============================] - 0s 3ms/step - loss: 156337232.0000\n",
            "Epoch 69/1000\n",
            "5/5 [==============================] - 0s 4ms/step - loss: 152099872.0000\n",
            "Epoch 70/1000\n",
            "5/5 [==============================] - 0s 3ms/step - loss: 147684960.0000\n",
            "Epoch 71/1000\n",
            "5/5 [==============================] - 0s 3ms/step - loss: 143630048.0000\n",
            "Epoch 72/1000\n",
            "5/5 [==============================] - 0s 3ms/step - loss: 139422192.0000\n",
            "Epoch 73/1000\n",
            "5/5 [==============================] - 0s 3ms/step - loss: 135272752.0000\n",
            "Epoch 74/1000\n",
            "5/5 [==============================] - 0s 4ms/step - loss: 130955216.0000\n",
            "Epoch 75/1000\n",
            "5/5 [==============================] - 0s 4ms/step - loss: 126897096.0000\n",
            "Epoch 76/1000\n",
            "5/5 [==============================] - 0s 3ms/step - loss: 122517368.0000\n",
            "Epoch 77/1000\n",
            "5/5 [==============================] - 0s 4ms/step - loss: 118586608.0000\n",
            "Epoch 78/1000\n",
            "5/5 [==============================] - 0s 3ms/step - loss: 114362128.0000\n",
            "Epoch 79/1000\n",
            "5/5 [==============================] - 0s 4ms/step - loss: 110326160.0000\n",
            "Epoch 80/1000\n",
            "5/5 [==============================] - 0s 4ms/step - loss: 106357664.0000\n",
            "Epoch 81/1000\n",
            "5/5 [==============================] - 0s 4ms/step - loss: 102402288.0000\n",
            "Epoch 82/1000\n",
            "5/5 [==============================] - 0s 4ms/step - loss: 98795696.0000\n",
            "Epoch 83/1000\n",
            "5/5 [==============================] - 0s 4ms/step - loss: 94974048.0000\n",
            "Epoch 84/1000\n",
            "5/5 [==============================] - 0s 4ms/step - loss: 91003736.0000\n",
            "Epoch 85/1000\n",
            "5/5 [==============================] - 0s 4ms/step - loss: 87633856.0000\n",
            "Epoch 86/1000\n",
            "5/5 [==============================] - 0s 4ms/step - loss: 84209016.0000\n",
            "Epoch 87/1000\n",
            "5/5 [==============================] - 0s 4ms/step - loss: 80807128.0000\n",
            "Epoch 88/1000\n",
            "5/5 [==============================] - 0s 4ms/step - loss: 77314304.0000\n",
            "Epoch 89/1000\n",
            "5/5 [==============================] - 0s 3ms/step - loss: 74211816.0000\n",
            "Epoch 90/1000\n",
            "5/5 [==============================] - 0s 4ms/step - loss: 71254280.0000\n",
            "Epoch 91/1000\n",
            "5/5 [==============================] - 0s 3ms/step - loss: 68274520.0000\n",
            "Epoch 92/1000\n",
            "5/5 [==============================] - 0s 4ms/step - loss: 65576736.0000\n",
            "Epoch 93/1000\n",
            "5/5 [==============================] - 0s 5ms/step - loss: 62833520.0000\n",
            "Epoch 94/1000\n",
            "5/5 [==============================] - 0s 4ms/step - loss: 60238572.0000\n",
            "Epoch 95/1000\n",
            "5/5 [==============================] - 0s 4ms/step - loss: 57691388.0000\n",
            "Epoch 96/1000\n",
            "5/5 [==============================] - 0s 4ms/step - loss: 55436268.0000\n",
            "Epoch 97/1000\n",
            "5/5 [==============================] - 0s 3ms/step - loss: 53065516.0000\n",
            "Epoch 98/1000\n",
            "5/5 [==============================] - 0s 3ms/step - loss: 51055472.0000\n",
            "Epoch 99/1000\n",
            "5/5 [==============================] - 0s 4ms/step - loss: 49145440.0000\n",
            "Epoch 100/1000\n",
            "5/5 [==============================] - 0s 4ms/step - loss: 47160776.0000\n",
            "Epoch 101/1000\n",
            "5/5 [==============================] - 0s 4ms/step - loss: 45336288.0000\n",
            "Epoch 102/1000\n",
            "5/5 [==============================] - 0s 4ms/step - loss: 43696624.0000\n",
            "Epoch 103/1000\n",
            "5/5 [==============================] - 0s 4ms/step - loss: 42105840.0000\n",
            "Epoch 104/1000\n",
            "5/5 [==============================] - 0s 4ms/step - loss: 40719712.0000\n",
            "Epoch 105/1000\n",
            "5/5 [==============================] - 0s 5ms/step - loss: 39483664.0000\n",
            "Epoch 106/1000\n",
            "5/5 [==============================] - 0s 4ms/step - loss: 38095004.0000\n",
            "Epoch 107/1000\n",
            "5/5 [==============================] - 0s 4ms/step - loss: 36926800.0000\n",
            "Epoch 108/1000\n",
            "5/5 [==============================] - 0s 4ms/step - loss: 35707736.0000\n",
            "Epoch 109/1000\n",
            "5/5 [==============================] - 0s 3ms/step - loss: 34964568.0000\n",
            "Epoch 110/1000\n",
            "5/5 [==============================] - 0s 4ms/step - loss: 33927824.0000\n",
            "Epoch 111/1000\n",
            "5/5 [==============================] - 0s 4ms/step - loss: 33111422.0000\n",
            "Epoch 112/1000\n",
            "5/5 [==============================] - 0s 3ms/step - loss: 32251862.0000\n",
            "Epoch 113/1000\n",
            "5/5 [==============================] - 0s 5ms/step - loss: 31599058.0000\n",
            "Epoch 114/1000\n",
            "5/5 [==============================] - 0s 4ms/step - loss: 30974636.0000\n",
            "Epoch 115/1000\n",
            "5/5 [==============================] - 0s 4ms/step - loss: 30339132.0000\n",
            "Epoch 116/1000\n",
            "5/5 [==============================] - 0s 6ms/step - loss: 29831424.0000\n",
            "Epoch 117/1000\n",
            "5/5 [==============================] - 0s 4ms/step - loss: 29320624.0000\n",
            "Epoch 118/1000\n",
            "5/5 [==============================] - 0s 4ms/step - loss: 28838294.0000\n",
            "Epoch 119/1000\n",
            "5/5 [==============================] - 0s 5ms/step - loss: 28420448.0000\n",
            "Epoch 120/1000\n",
            "5/5 [==============================] - 0s 5ms/step - loss: 28040626.0000\n",
            "Epoch 121/1000\n",
            "5/5 [==============================] - 0s 4ms/step - loss: 27653454.0000\n",
            "Epoch 122/1000\n",
            "5/5 [==============================] - 0s 4ms/step - loss: 27338620.0000\n",
            "Epoch 123/1000\n",
            "5/5 [==============================] - 0s 4ms/step - loss: 27018190.0000\n",
            "Epoch 124/1000\n",
            "5/5 [==============================] - 0s 4ms/step - loss: 26728422.0000\n",
            "Epoch 125/1000\n",
            "5/5 [==============================] - 0s 4ms/step - loss: 26529812.0000\n",
            "Epoch 126/1000\n",
            "5/5 [==============================] - 0s 5ms/step - loss: 26291150.0000\n",
            "Epoch 127/1000\n",
            "5/5 [==============================] - 0s 4ms/step - loss: 26044428.0000\n",
            "Epoch 128/1000\n",
            "5/5 [==============================] - 0s 4ms/step - loss: 25822262.0000\n",
            "Epoch 129/1000\n",
            "5/5 [==============================] - 0s 4ms/step - loss: 25690126.0000\n",
            "Epoch 130/1000\n",
            "5/5 [==============================] - 0s 4ms/step - loss: 25502674.0000\n",
            "Epoch 131/1000\n",
            "5/5 [==============================] - 0s 4ms/step - loss: 25312342.0000\n",
            "Epoch 132/1000\n",
            "5/5 [==============================] - 0s 3ms/step - loss: 25194778.0000\n",
            "Epoch 133/1000\n",
            "5/5 [==============================] - 0s 4ms/step - loss: 25005906.0000\n",
            "Epoch 134/1000\n",
            "5/5 [==============================] - 0s 4ms/step - loss: 24870920.0000\n",
            "Epoch 135/1000\n",
            "5/5 [==============================] - 0s 4ms/step - loss: 24715644.0000\n",
            "Epoch 136/1000\n",
            "5/5 [==============================] - 0s 3ms/step - loss: 24615738.0000\n",
            "Epoch 137/1000\n",
            "5/5 [==============================] - 0s 4ms/step - loss: 24490650.0000\n",
            "Epoch 138/1000\n",
            "5/5 [==============================] - 0s 4ms/step - loss: 24359676.0000\n",
            "Epoch 139/1000\n",
            "5/5 [==============================] - 0s 4ms/step - loss: 24240056.0000\n",
            "Epoch 140/1000\n",
            "5/5 [==============================] - 0s 4ms/step - loss: 24120204.0000\n",
            "Epoch 141/1000\n",
            "5/5 [==============================] - 0s 4ms/step - loss: 24034546.0000\n",
            "Epoch 142/1000\n",
            "5/5 [==============================] - 0s 5ms/step - loss: 23916148.0000\n",
            "Epoch 143/1000\n",
            "5/5 [==============================] - 0s 5ms/step - loss: 23822344.0000\n",
            "Epoch 144/1000\n",
            "5/5 [==============================] - 0s 4ms/step - loss: 23716050.0000\n",
            "Epoch 145/1000\n",
            "5/5 [==============================] - 0s 4ms/step - loss: 23604886.0000\n",
            "Epoch 146/1000\n",
            "5/5 [==============================] - 0s 4ms/step - loss: 23520468.0000\n",
            "Epoch 147/1000\n",
            "5/5 [==============================] - 0s 3ms/step - loss: 23414346.0000\n",
            "Epoch 148/1000\n",
            "5/5 [==============================] - 0s 4ms/step - loss: 23320626.0000\n",
            "Epoch 149/1000\n",
            "5/5 [==============================] - 0s 3ms/step - loss: 23241834.0000\n",
            "Epoch 150/1000\n",
            "5/5 [==============================] - 0s 4ms/step - loss: 23140344.0000\n",
            "Epoch 151/1000\n",
            "5/5 [==============================] - 0s 4ms/step - loss: 23053782.0000\n",
            "Epoch 152/1000\n",
            "5/5 [==============================] - 0s 4ms/step - loss: 22965046.0000\n",
            "Epoch 153/1000\n",
            "5/5 [==============================] - 0s 4ms/step - loss: 22893648.0000\n",
            "Epoch 154/1000\n",
            "5/5 [==============================] - 0s 4ms/step - loss: 22791996.0000\n",
            "Epoch 155/1000\n",
            "5/5 [==============================] - 0s 5ms/step - loss: 22709224.0000\n",
            "Epoch 156/1000\n",
            "5/5 [==============================] - 0s 4ms/step - loss: 22654240.0000\n",
            "Epoch 157/1000\n",
            "5/5 [==============================] - 0s 4ms/step - loss: 22539846.0000\n",
            "Epoch 158/1000\n",
            "5/5 [==============================] - 0s 4ms/step - loss: 22458832.0000\n",
            "Epoch 159/1000\n",
            "5/5 [==============================] - 0s 3ms/step - loss: 22390008.0000\n",
            "Epoch 160/1000\n",
            "5/5 [==============================] - 0s 4ms/step - loss: 22300776.0000\n",
            "Epoch 161/1000\n",
            "5/5 [==============================] - 0s 4ms/step - loss: 22218718.0000\n",
            "Epoch 162/1000\n",
            "5/5 [==============================] - 0s 4ms/step - loss: 22145066.0000\n",
            "Epoch 163/1000\n",
            "5/5 [==============================] - 0s 3ms/step - loss: 22068574.0000\n",
            "Epoch 164/1000\n",
            "5/5 [==============================] - 0s 3ms/step - loss: 21989260.0000\n",
            "Epoch 165/1000\n",
            "5/5 [==============================] - 0s 3ms/step - loss: 21916674.0000\n",
            "Epoch 166/1000\n",
            "5/5 [==============================] - 0s 4ms/step - loss: 21832560.0000\n",
            "Epoch 167/1000\n",
            "5/5 [==============================] - 0s 4ms/step - loss: 21767204.0000\n",
            "Epoch 168/1000\n",
            "5/5 [==============================] - 0s 4ms/step - loss: 21699548.0000\n",
            "Epoch 169/1000\n",
            "5/5 [==============================] - 0s 3ms/step - loss: 21616682.0000\n",
            "Epoch 170/1000\n",
            "5/5 [==============================] - 0s 4ms/step - loss: 21538408.0000\n",
            "Epoch 171/1000\n",
            "5/5 [==============================] - 0s 4ms/step - loss: 21476634.0000\n",
            "Epoch 172/1000\n",
            "5/5 [==============================] - 0s 4ms/step - loss: 21409870.0000\n",
            "Epoch 173/1000\n",
            "5/5 [==============================] - 0s 3ms/step - loss: 21327606.0000\n",
            "Epoch 174/1000\n",
            "5/5 [==============================] - 0s 3ms/step - loss: 21254670.0000\n",
            "Epoch 175/1000\n",
            "5/5 [==============================] - 0s 3ms/step - loss: 21197682.0000\n",
            "Epoch 176/1000\n",
            "5/5 [==============================] - 0s 5ms/step - loss: 21113160.0000\n",
            "Epoch 177/1000\n",
            "5/5 [==============================] - 0s 4ms/step - loss: 21052594.0000\n",
            "Epoch 178/1000\n",
            "5/5 [==============================] - 0s 4ms/step - loss: 20979866.0000\n",
            "Epoch 179/1000\n",
            "5/5 [==============================] - 0s 4ms/step - loss: 20907260.0000\n",
            "Epoch 180/1000\n",
            "5/5 [==============================] - 0s 4ms/step - loss: 20832208.0000\n",
            "Epoch 181/1000\n",
            "5/5 [==============================] - 0s 4ms/step - loss: 20796560.0000\n",
            "Epoch 182/1000\n",
            "5/5 [==============================] - 0s 4ms/step - loss: 20692368.0000\n",
            "Epoch 183/1000\n",
            "5/5 [==============================] - 0s 4ms/step - loss: 20658020.0000\n",
            "Epoch 184/1000\n",
            "5/5 [==============================] - 0s 6ms/step - loss: 20558914.0000\n",
            "Epoch 185/1000\n",
            "5/5 [==============================] - 0s 4ms/step - loss: 20482026.0000\n",
            "Epoch 186/1000\n",
            "5/5 [==============================] - 0s 3ms/step - loss: 20421268.0000\n",
            "Epoch 187/1000\n",
            "5/5 [==============================] - 0s 4ms/step - loss: 20363776.0000\n",
            "Epoch 188/1000\n",
            "5/5 [==============================] - 0s 4ms/step - loss: 20292080.0000\n",
            "Epoch 189/1000\n",
            "5/5 [==============================] - 0s 3ms/step - loss: 20225620.0000\n",
            "Epoch 190/1000\n",
            "5/5 [==============================] - 0s 3ms/step - loss: 20160678.0000\n",
            "Epoch 191/1000\n",
            "5/5 [==============================] - 0s 4ms/step - loss: 20105310.0000\n",
            "Epoch 192/1000\n",
            "5/5 [==============================] - 0s 4ms/step - loss: 20027306.0000\n",
            "Epoch 193/1000\n",
            "5/5 [==============================] - 0s 4ms/step - loss: 19959192.0000\n",
            "Epoch 194/1000\n",
            "5/5 [==============================] - 0s 4ms/step - loss: 19897432.0000\n",
            "Epoch 195/1000\n",
            "5/5 [==============================] - 0s 4ms/step - loss: 19836444.0000\n",
            "Epoch 196/1000\n",
            "5/5 [==============================] - 0s 5ms/step - loss: 19774118.0000\n",
            "Epoch 197/1000\n",
            "5/5 [==============================] - 0s 4ms/step - loss: 19727304.0000\n",
            "Epoch 198/1000\n",
            "5/5 [==============================] - 0s 4ms/step - loss: 19642542.0000\n",
            "Epoch 199/1000\n",
            "5/5 [==============================] - 0s 4ms/step - loss: 19583224.0000\n",
            "Epoch 200/1000\n",
            "5/5 [==============================] - 0s 4ms/step - loss: 19515644.0000\n",
            "Epoch 201/1000\n",
            "5/5 [==============================] - 0s 6ms/step - loss: 19463990.0000\n",
            "Epoch 202/1000\n",
            "5/5 [==============================] - 0s 4ms/step - loss: 19396272.0000\n",
            "Epoch 203/1000\n",
            "5/5 [==============================] - 0s 4ms/step - loss: 19333680.0000\n",
            "Epoch 204/1000\n",
            "5/5 [==============================] - 0s 6ms/step - loss: 19265426.0000\n",
            "Epoch 205/1000\n",
            "5/5 [==============================] - 0s 4ms/step - loss: 19206100.0000\n",
            "Epoch 206/1000\n",
            "5/5 [==============================] - 0s 4ms/step - loss: 19141956.0000\n",
            "Epoch 207/1000\n",
            "5/5 [==============================] - 0s 4ms/step - loss: 19087696.0000\n",
            "Epoch 208/1000\n",
            "5/5 [==============================] - 0s 4ms/step - loss: 19027540.0000\n",
            "Epoch 209/1000\n",
            "5/5 [==============================] - 0s 4ms/step - loss: 18960562.0000\n",
            "Epoch 210/1000\n",
            "5/5 [==============================] - 0s 4ms/step - loss: 18897854.0000\n",
            "Epoch 211/1000\n",
            "5/5 [==============================] - 0s 4ms/step - loss: 18840292.0000\n",
            "Epoch 212/1000\n",
            "5/5 [==============================] - 0s 4ms/step - loss: 18778098.0000\n",
            "Epoch 213/1000\n",
            "5/5 [==============================] - 0s 4ms/step - loss: 18718404.0000\n",
            "Epoch 214/1000\n",
            "5/5 [==============================] - 0s 5ms/step - loss: 18662078.0000\n",
            "Epoch 215/1000\n",
            "5/5 [==============================] - 0s 4ms/step - loss: 18591388.0000\n",
            "Epoch 216/1000\n",
            "5/5 [==============================] - 0s 4ms/step - loss: 18536840.0000\n",
            "Epoch 217/1000\n",
            "5/5 [==============================] - 0s 5ms/step - loss: 18477988.0000\n",
            "Epoch 218/1000\n",
            "5/5 [==============================] - 0s 5ms/step - loss: 18413584.0000\n",
            "Epoch 219/1000\n",
            "5/5 [==============================] - 0s 5ms/step - loss: 18361266.0000\n",
            "Epoch 220/1000\n",
            "5/5 [==============================] - 0s 4ms/step - loss: 18302172.0000\n",
            "Epoch 221/1000\n",
            "5/5 [==============================] - 0s 4ms/step - loss: 18237856.0000\n",
            "Epoch 222/1000\n",
            "5/5 [==============================] - 0s 4ms/step - loss: 18190164.0000\n",
            "Epoch 223/1000\n",
            "5/5 [==============================] - 0s 5ms/step - loss: 18119330.0000\n",
            "Epoch 224/1000\n",
            "5/5 [==============================] - 0s 4ms/step - loss: 18072190.0000\n",
            "Epoch 225/1000\n",
            "5/5 [==============================] - 0s 4ms/step - loss: 18006968.0000\n",
            "Epoch 226/1000\n",
            "5/5 [==============================] - 0s 4ms/step - loss: 17948710.0000\n",
            "Epoch 227/1000\n",
            "5/5 [==============================] - 0s 4ms/step - loss: 17895772.0000\n",
            "Epoch 228/1000\n",
            "5/5 [==============================] - 0s 4ms/step - loss: 17834020.0000\n",
            "Epoch 229/1000\n",
            "5/5 [==============================] - 0s 4ms/step - loss: 17783498.0000\n",
            "Epoch 230/1000\n",
            "5/5 [==============================] - 0s 4ms/step - loss: 17713750.0000\n",
            "Epoch 231/1000\n",
            "5/5 [==============================] - 0s 5ms/step - loss: 17664130.0000\n",
            "Epoch 232/1000\n",
            "5/5 [==============================] - 0s 4ms/step - loss: 17600032.0000\n",
            "Epoch 233/1000\n",
            "5/5 [==============================] - 0s 4ms/step - loss: 17544800.0000\n",
            "Epoch 234/1000\n",
            "5/5 [==============================] - 0s 4ms/step - loss: 17492452.0000\n",
            "Epoch 235/1000\n",
            "5/5 [==============================] - 0s 5ms/step - loss: 17432950.0000\n",
            "Epoch 236/1000\n",
            "5/5 [==============================] - 0s 4ms/step - loss: 17376152.0000\n",
            "Epoch 237/1000\n",
            "5/5 [==============================] - 0s 4ms/step - loss: 17315658.0000\n",
            "Epoch 238/1000\n",
            "5/5 [==============================] - 0s 4ms/step - loss: 17262210.0000\n",
            "Epoch 239/1000\n",
            "5/5 [==============================] - 0s 4ms/step - loss: 17204616.0000\n",
            "Epoch 240/1000\n",
            "5/5 [==============================] - 0s 4ms/step - loss: 17152760.0000\n",
            "Epoch 241/1000\n",
            "5/5 [==============================] - 0s 4ms/step - loss: 17093478.0000\n",
            "Epoch 242/1000\n",
            "5/5 [==============================] - 0s 4ms/step - loss: 17040118.0000\n",
            "Epoch 243/1000\n",
            "5/5 [==============================] - 0s 5ms/step - loss: 16979732.0000\n",
            "Epoch 244/1000\n",
            "5/5 [==============================] - 0s 4ms/step - loss: 16926410.0000\n",
            "Epoch 245/1000\n",
            "5/5 [==============================] - 0s 4ms/step - loss: 16877156.0000\n",
            "Epoch 246/1000\n",
            "5/5 [==============================] - 0s 4ms/step - loss: 16826026.0000\n",
            "Epoch 247/1000\n",
            "5/5 [==============================] - 0s 4ms/step - loss: 16761276.0000\n",
            "Epoch 248/1000\n",
            "5/5 [==============================] - 0s 4ms/step - loss: 16703818.0000\n",
            "Epoch 249/1000\n",
            "5/5 [==============================] - 0s 3ms/step - loss: 16646509.0000\n",
            "Epoch 250/1000\n",
            "5/5 [==============================] - 0s 4ms/step - loss: 16608619.0000\n",
            "Epoch 251/1000\n",
            "5/5 [==============================] - 0s 3ms/step - loss: 16543568.0000\n",
            "Epoch 252/1000\n",
            "5/5 [==============================] - 0s 3ms/step - loss: 16486253.0000\n",
            "Epoch 253/1000\n",
            "5/5 [==============================] - 0s 4ms/step - loss: 16438858.0000\n",
            "Epoch 254/1000\n",
            "5/5 [==============================] - 0s 3ms/step - loss: 16378869.0000\n",
            "Epoch 255/1000\n",
            "5/5 [==============================] - 0s 3ms/step - loss: 16325159.0000\n",
            "Epoch 256/1000\n",
            "5/5 [==============================] - 0s 4ms/step - loss: 16274834.0000\n",
            "Epoch 257/1000\n",
            "5/5 [==============================] - 0s 5ms/step - loss: 16216822.0000\n",
            "Epoch 258/1000\n",
            "5/5 [==============================] - 0s 4ms/step - loss: 16165604.0000\n",
            "Epoch 259/1000\n",
            "5/5 [==============================] - 0s 5ms/step - loss: 16108513.0000\n",
            "Epoch 260/1000\n",
            "5/5 [==============================] - 0s 4ms/step - loss: 16059701.0000\n",
            "Epoch 261/1000\n",
            "5/5 [==============================] - 0s 4ms/step - loss: 16004393.0000\n",
            "Epoch 262/1000\n",
            "5/5 [==============================] - 0s 5ms/step - loss: 15962518.0000\n",
            "Epoch 263/1000\n",
            "5/5 [==============================] - 0s 4ms/step - loss: 15899266.0000\n",
            "Epoch 264/1000\n",
            "5/5 [==============================] - 0s 6ms/step - loss: 15848508.0000\n",
            "Epoch 265/1000\n",
            "5/5 [==============================] - 0s 5ms/step - loss: 15807273.0000\n",
            "Epoch 266/1000\n",
            "5/5 [==============================] - 0s 5ms/step - loss: 15742497.0000\n",
            "Epoch 267/1000\n",
            "5/5 [==============================] - 0s 3ms/step - loss: 15690344.0000\n",
            "Epoch 268/1000\n",
            "5/5 [==============================] - 0s 5ms/step - loss: 15635007.0000\n",
            "Epoch 269/1000\n",
            "5/5 [==============================] - 0s 5ms/step - loss: 15577682.0000\n",
            "Epoch 270/1000\n",
            "5/5 [==============================] - 0s 4ms/step - loss: 15537732.0000\n",
            "Epoch 271/1000\n",
            "5/5 [==============================] - 0s 6ms/step - loss: 15477785.0000\n",
            "Epoch 272/1000\n",
            "5/5 [==============================] - 0s 7ms/step - loss: 15427883.0000\n",
            "Epoch 273/1000\n",
            "5/5 [==============================] - 0s 5ms/step - loss: 15375551.0000\n",
            "Epoch 274/1000\n",
            "5/5 [==============================] - 0s 5ms/step - loss: 15326535.0000\n",
            "Epoch 275/1000\n",
            "5/5 [==============================] - 0s 6ms/step - loss: 15277707.0000\n",
            "Epoch 276/1000\n",
            "5/5 [==============================] - 0s 7ms/step - loss: 15216390.0000\n",
            "Epoch 277/1000\n",
            "5/5 [==============================] - 0s 5ms/step - loss: 15190315.0000\n",
            "Epoch 278/1000\n",
            "5/5 [==============================] - 0s 5ms/step - loss: 15121285.0000\n",
            "Epoch 279/1000\n",
            "5/5 [==============================] - 0s 6ms/step - loss: 15061184.0000\n",
            "Epoch 280/1000\n",
            "5/5 [==============================] - 0s 4ms/step - loss: 15010171.0000\n",
            "Epoch 281/1000\n",
            "5/5 [==============================] - 0s 6ms/step - loss: 14963841.0000\n",
            "Epoch 282/1000\n",
            "5/5 [==============================] - 0s 6ms/step - loss: 14915458.0000\n",
            "Epoch 283/1000\n",
            "5/5 [==============================] - 0s 6ms/step - loss: 14868106.0000\n",
            "Epoch 284/1000\n",
            "5/5 [==============================] - 0s 5ms/step - loss: 14811451.0000\n",
            "Epoch 285/1000\n",
            "5/5 [==============================] - 0s 5ms/step - loss: 14765056.0000\n",
            "Epoch 286/1000\n",
            "5/5 [==============================] - 0s 4ms/step - loss: 14706502.0000\n",
            "Epoch 287/1000\n",
            "5/5 [==============================] - 0s 4ms/step - loss: 14656633.0000\n",
            "Epoch 288/1000\n",
            "5/5 [==============================] - 0s 5ms/step - loss: 14622151.0000\n",
            "Epoch 289/1000\n",
            "5/5 [==============================] - 0s 5ms/step - loss: 14564532.0000\n",
            "Epoch 290/1000\n",
            "5/5 [==============================] - 0s 7ms/step - loss: 14518660.0000\n",
            "Epoch 291/1000\n",
            "5/5 [==============================] - 0s 5ms/step - loss: 14462471.0000\n",
            "Epoch 292/1000\n",
            "5/5 [==============================] - 0s 6ms/step - loss: 14409895.0000\n",
            "Epoch 293/1000\n",
            "5/5 [==============================] - 0s 5ms/step - loss: 14357599.0000\n",
            "Epoch 294/1000\n",
            "5/5 [==============================] - 0s 5ms/step - loss: 14309554.0000\n",
            "Epoch 295/1000\n",
            "5/5 [==============================] - 0s 4ms/step - loss: 14256505.0000\n",
            "Epoch 296/1000\n",
            "5/5 [==============================] - 0s 5ms/step - loss: 14220735.0000\n",
            "Epoch 297/1000\n",
            "5/5 [==============================] - 0s 5ms/step - loss: 14160299.0000\n",
            "Epoch 298/1000\n",
            "5/5 [==============================] - 0s 4ms/step - loss: 14107841.0000\n",
            "Epoch 299/1000\n",
            "5/5 [==============================] - 0s 4ms/step - loss: 14056853.0000\n",
            "Epoch 300/1000\n",
            "5/5 [==============================] - 0s 4ms/step - loss: 14029954.0000\n",
            "Epoch 301/1000\n",
            "5/5 [==============================] - 0s 4ms/step - loss: 13957523.0000\n",
            "Epoch 302/1000\n",
            "5/5 [==============================] - 0s 4ms/step - loss: 13911377.0000\n",
            "Epoch 303/1000\n",
            "5/5 [==============================] - 0s 5ms/step - loss: 13864149.0000\n",
            "Epoch 304/1000\n",
            "5/5 [==============================] - 0s 4ms/step - loss: 13811091.0000\n",
            "Epoch 305/1000\n",
            "5/5 [==============================] - 0s 4ms/step - loss: 13768901.0000\n",
            "Epoch 306/1000\n",
            "5/5 [==============================] - 0s 4ms/step - loss: 13714391.0000\n",
            "Epoch 307/1000\n",
            "5/5 [==============================] - 0s 6ms/step - loss: 13679953.0000\n",
            "Epoch 308/1000\n",
            "5/5 [==============================] - 0s 5ms/step - loss: 13614268.0000\n",
            "Epoch 309/1000\n",
            "5/5 [==============================] - 0s 4ms/step - loss: 13566637.0000\n",
            "Epoch 310/1000\n",
            "5/5 [==============================] - 0s 4ms/step - loss: 13520376.0000\n",
            "Epoch 311/1000\n",
            "5/5 [==============================] - 0s 3ms/step - loss: 13493488.0000\n",
            "Epoch 312/1000\n",
            "5/5 [==============================] - 0s 4ms/step - loss: 13424857.0000\n",
            "Epoch 313/1000\n",
            "5/5 [==============================] - 0s 4ms/step - loss: 13380406.0000\n",
            "Epoch 314/1000\n",
            "5/5 [==============================] - 0s 4ms/step - loss: 13325748.0000\n",
            "Epoch 315/1000\n",
            "5/5 [==============================] - 0s 5ms/step - loss: 13291155.0000\n",
            "Epoch 316/1000\n",
            "5/5 [==============================] - 0s 4ms/step - loss: 13254616.0000\n",
            "Epoch 317/1000\n",
            "5/5 [==============================] - 0s 3ms/step - loss: 13186269.0000\n",
            "Epoch 318/1000\n",
            "5/5 [==============================] - 0s 4ms/step - loss: 13139742.0000\n",
            "Epoch 319/1000\n",
            "5/5 [==============================] - 0s 5ms/step - loss: 13087478.0000\n",
            "Epoch 320/1000\n",
            "5/5 [==============================] - 0s 4ms/step - loss: 13049875.0000\n",
            "Epoch 321/1000\n",
            "5/5 [==============================] - 0s 4ms/step - loss: 12994972.0000\n",
            "Epoch 322/1000\n",
            "5/5 [==============================] - 0s 4ms/step - loss: 12945998.0000\n",
            "Epoch 323/1000\n",
            "5/5 [==============================] - 0s 4ms/step - loss: 12905897.0000\n",
            "Epoch 324/1000\n",
            "5/5 [==============================] - 0s 4ms/step - loss: 12852818.0000\n",
            "Epoch 325/1000\n",
            "5/5 [==============================] - 0s 4ms/step - loss: 12800772.0000\n",
            "Epoch 326/1000\n",
            "5/5 [==============================] - 0s 5ms/step - loss: 12761454.0000\n",
            "Epoch 327/1000\n",
            "5/5 [==============================] - 0s 5ms/step - loss: 12708918.0000\n",
            "Epoch 328/1000\n",
            "5/5 [==============================] - 0s 7ms/step - loss: 12661444.0000\n",
            "Epoch 329/1000\n",
            "5/5 [==============================] - 0s 4ms/step - loss: 12624141.0000\n",
            "Epoch 330/1000\n",
            "5/5 [==============================] - 0s 4ms/step - loss: 12569069.0000\n",
            "Epoch 331/1000\n",
            "5/5 [==============================] - 0s 4ms/step - loss: 12521169.0000\n",
            "Epoch 332/1000\n",
            "5/5 [==============================] - 0s 6ms/step - loss: 12483362.0000\n",
            "Epoch 333/1000\n",
            "5/5 [==============================] - 0s 5ms/step - loss: 12435038.0000\n",
            "Epoch 334/1000\n",
            "5/5 [==============================] - 0s 6ms/step - loss: 12388574.0000\n",
            "Epoch 335/1000\n",
            "5/5 [==============================] - 0s 5ms/step - loss: 12336734.0000\n",
            "Epoch 336/1000\n",
            "5/5 [==============================] - 0s 6ms/step - loss: 12290564.0000\n",
            "Epoch 337/1000\n",
            "5/5 [==============================] - 0s 5ms/step - loss: 12249272.0000\n",
            "Epoch 338/1000\n",
            "5/5 [==============================] - 0s 4ms/step - loss: 12194577.0000\n",
            "Epoch 339/1000\n",
            "5/5 [==============================] - 0s 5ms/step - loss: 12161947.0000\n",
            "Epoch 340/1000\n",
            "5/5 [==============================] - 0s 5ms/step - loss: 12107818.0000\n",
            "Epoch 341/1000\n",
            "5/5 [==============================] - 0s 4ms/step - loss: 12070323.0000\n",
            "Epoch 342/1000\n",
            "5/5 [==============================] - 0s 4ms/step - loss: 12016196.0000\n",
            "Epoch 343/1000\n",
            "5/5 [==============================] - 0s 5ms/step - loss: 11968362.0000\n",
            "Epoch 344/1000\n",
            "5/5 [==============================] - 0s 6ms/step - loss: 11930329.0000\n",
            "Epoch 345/1000\n",
            "5/5 [==============================] - 0s 5ms/step - loss: 11877349.0000\n",
            "Epoch 346/1000\n",
            "5/5 [==============================] - 0s 5ms/step - loss: 11837121.0000\n",
            "Epoch 347/1000\n",
            "5/5 [==============================] - 0s 5ms/step - loss: 11790046.0000\n",
            "Epoch 348/1000\n",
            "5/5 [==============================] - 0s 4ms/step - loss: 11751906.0000\n",
            "Epoch 349/1000\n",
            "5/5 [==============================] - 0s 5ms/step - loss: 11707280.0000\n",
            "Epoch 350/1000\n",
            "5/5 [==============================] - 0s 6ms/step - loss: 11655808.0000\n",
            "Epoch 351/1000\n",
            "5/5 [==============================] - 0s 5ms/step - loss: 11612666.0000\n",
            "Epoch 352/1000\n",
            "5/5 [==============================] - 0s 7ms/step - loss: 11581747.0000\n",
            "Epoch 353/1000\n",
            "5/5 [==============================] - 0s 4ms/step - loss: 11525923.0000\n",
            "Epoch 354/1000\n",
            "5/5 [==============================] - 0s 3ms/step - loss: 11481528.0000\n",
            "Epoch 355/1000\n",
            "5/5 [==============================] - 0s 4ms/step - loss: 11436219.0000\n",
            "Epoch 356/1000\n",
            "5/5 [==============================] - 0s 4ms/step - loss: 11391208.0000\n",
            "Epoch 357/1000\n",
            "5/5 [==============================] - 0s 5ms/step - loss: 11347090.0000\n",
            "Epoch 358/1000\n",
            "5/5 [==============================] - 0s 4ms/step - loss: 11302386.0000\n",
            "Epoch 359/1000\n",
            "5/5 [==============================] - 0s 4ms/step - loss: 11273395.0000\n",
            "Epoch 360/1000\n",
            "5/5 [==============================] - 0s 4ms/step - loss: 11216211.0000\n",
            "Epoch 361/1000\n",
            "5/5 [==============================] - 0s 4ms/step - loss: 11179893.0000\n",
            "Epoch 362/1000\n",
            "5/5 [==============================] - 0s 4ms/step - loss: 11137462.0000\n",
            "Epoch 363/1000\n",
            "5/5 [==============================] - 0s 6ms/step - loss: 11092085.0000\n",
            "Epoch 364/1000\n",
            "5/5 [==============================] - 0s 6ms/step - loss: 11048535.0000\n",
            "Epoch 365/1000\n",
            "5/5 [==============================] - 0s 6ms/step - loss: 11007227.0000\n",
            "Epoch 366/1000\n",
            "5/5 [==============================] - 0s 5ms/step - loss: 10967310.0000\n",
            "Epoch 367/1000\n",
            "5/5 [==============================] - 0s 4ms/step - loss: 10918272.0000\n",
            "Epoch 368/1000\n",
            "5/5 [==============================] - 0s 4ms/step - loss: 10879047.0000\n",
            "Epoch 369/1000\n",
            "5/5 [==============================] - 0s 4ms/step - loss: 10829859.0000\n",
            "Epoch 370/1000\n",
            "5/5 [==============================] - 0s 4ms/step - loss: 10790794.0000\n",
            "Epoch 371/1000\n",
            "5/5 [==============================] - 0s 4ms/step - loss: 10745308.0000\n",
            "Epoch 372/1000\n",
            "5/5 [==============================] - 0s 4ms/step - loss: 10712101.0000\n",
            "Epoch 373/1000\n",
            "5/5 [==============================] - 0s 4ms/step - loss: 10660550.0000\n",
            "Epoch 374/1000\n",
            "5/5 [==============================] - 0s 4ms/step - loss: 10638033.0000\n",
            "Epoch 375/1000\n",
            "5/5 [==============================] - 0s 4ms/step - loss: 10577931.0000\n",
            "Epoch 376/1000\n",
            "5/5 [==============================] - 0s 5ms/step - loss: 10532422.0000\n",
            "Epoch 377/1000\n",
            "5/5 [==============================] - 0s 5ms/step - loss: 10494421.0000\n",
            "Epoch 378/1000\n",
            "5/5 [==============================] - 0s 4ms/step - loss: 10449837.0000\n",
            "Epoch 379/1000\n",
            "5/5 [==============================] - 0s 6ms/step - loss: 10409365.0000\n",
            "Epoch 380/1000\n",
            "5/5 [==============================] - 0s 5ms/step - loss: 10363793.0000\n",
            "Epoch 381/1000\n",
            "5/5 [==============================] - 0s 3ms/step - loss: 10333718.0000\n",
            "Epoch 382/1000\n",
            "5/5 [==============================] - 0s 4ms/step - loss: 10291759.0000\n",
            "Epoch 383/1000\n",
            "5/5 [==============================] - 0s 3ms/step - loss: 10241903.0000\n",
            "Epoch 384/1000\n",
            "5/5 [==============================] - 0s 4ms/step - loss: 10225496.0000\n",
            "Epoch 385/1000\n",
            "5/5 [==============================] - 0s 4ms/step - loss: 10161148.0000\n",
            "Epoch 386/1000\n",
            "5/5 [==============================] - 0s 4ms/step - loss: 10123750.0000\n",
            "Epoch 387/1000\n",
            "5/5 [==============================] - 0s 4ms/step - loss: 10080475.0000\n",
            "Epoch 388/1000\n",
            "5/5 [==============================] - 0s 7ms/step - loss: 10041084.0000\n",
            "Epoch 389/1000\n",
            "5/5 [==============================] - 0s 6ms/step - loss: 10001138.0000\n",
            "Epoch 390/1000\n",
            "5/5 [==============================] - 0s 5ms/step - loss: 9965163.0000\n",
            "Epoch 391/1000\n",
            "5/5 [==============================] - 0s 4ms/step - loss: 9914021.0000\n",
            "Epoch 392/1000\n",
            "5/5 [==============================] - 0s 5ms/step - loss: 9876604.0000\n",
            "Epoch 393/1000\n",
            "5/5 [==============================] - 0s 5ms/step - loss: 9841695.0000\n",
            "Epoch 394/1000\n",
            "5/5 [==============================] - 0s 4ms/step - loss: 9801007.0000\n",
            "Epoch 395/1000\n",
            "5/5 [==============================] - 0s 4ms/step - loss: 9769359.0000\n",
            "Epoch 396/1000\n",
            "5/5 [==============================] - 0s 13ms/step - loss: 9723998.0000\n",
            "Epoch 397/1000\n",
            "5/5 [==============================] - 0s 20ms/step - loss: 9674958.0000\n",
            "Epoch 398/1000\n",
            "5/5 [==============================] - 0s 6ms/step - loss: 9642326.0000\n",
            "Epoch 399/1000\n",
            "5/5 [==============================] - 0s 6ms/step - loss: 9602518.0000\n",
            "Epoch 400/1000\n",
            "5/5 [==============================] - 0s 6ms/step - loss: 9559229.0000\n",
            "Epoch 401/1000\n",
            "5/5 [==============================] - 0s 4ms/step - loss: 9528474.0000\n",
            "Epoch 402/1000\n",
            "5/5 [==============================] - 0s 5ms/step - loss: 9495750.0000\n",
            "Epoch 403/1000\n",
            "5/5 [==============================] - 0s 5ms/step - loss: 9468164.0000\n",
            "Epoch 404/1000\n",
            "5/5 [==============================] - 0s 4ms/step - loss: 9402786.0000\n",
            "Epoch 405/1000\n",
            "5/5 [==============================] - 0s 5ms/step - loss: 9366431.0000\n",
            "Epoch 406/1000\n",
            "5/5 [==============================] - 0s 4ms/step - loss: 9327843.0000\n",
            "Epoch 407/1000\n",
            "5/5 [==============================] - 0s 4ms/step - loss: 9285927.0000\n",
            "Epoch 408/1000\n",
            "5/5 [==============================] - 0s 4ms/step - loss: 9254329.0000\n",
            "Epoch 409/1000\n",
            "5/5 [==============================] - 0s 4ms/step - loss: 9214959.0000\n",
            "Epoch 410/1000\n",
            "5/5 [==============================] - 0s 5ms/step - loss: 9176602.0000\n",
            "Epoch 411/1000\n",
            "5/5 [==============================] - 0s 5ms/step - loss: 9141782.0000\n",
            "Epoch 412/1000\n",
            "5/5 [==============================] - 0s 4ms/step - loss: 9102571.0000\n",
            "Epoch 413/1000\n",
            "5/5 [==============================] - 0s 4ms/step - loss: 9064883.0000\n",
            "Epoch 414/1000\n",
            "5/5 [==============================] - 0s 4ms/step - loss: 9030272.0000\n",
            "Epoch 415/1000\n",
            "5/5 [==============================] - 0s 5ms/step - loss: 8992451.0000\n",
            "Epoch 416/1000\n",
            "5/5 [==============================] - 0s 4ms/step - loss: 8952923.0000\n",
            "Epoch 417/1000\n",
            "5/5 [==============================] - 0s 4ms/step - loss: 8915947.0000\n",
            "Epoch 418/1000\n",
            "5/5 [==============================] - 0s 4ms/step - loss: 8882338.0000\n",
            "Epoch 419/1000\n",
            "5/5 [==============================] - 0s 4ms/step - loss: 8842901.0000\n",
            "Epoch 420/1000\n",
            "5/5 [==============================] - 0s 6ms/step - loss: 8809214.0000\n",
            "Epoch 421/1000\n",
            "5/5 [==============================] - 0s 5ms/step - loss: 8770309.0000\n",
            "Epoch 422/1000\n",
            "5/5 [==============================] - 0s 5ms/step - loss: 8739943.0000\n",
            "Epoch 423/1000\n",
            "5/5 [==============================] - 0s 5ms/step - loss: 8711781.0000\n",
            "Epoch 424/1000\n",
            "5/5 [==============================] - 0s 5ms/step - loss: 8670427.0000\n",
            "Epoch 425/1000\n",
            "5/5 [==============================] - 0s 5ms/step - loss: 8630543.0000\n",
            "Epoch 426/1000\n",
            "5/5 [==============================] - 0s 6ms/step - loss: 8611299.0000\n",
            "Epoch 427/1000\n",
            "5/5 [==============================] - 0s 4ms/step - loss: 8556507.0000\n",
            "Epoch 428/1000\n",
            "5/5 [==============================] - 0s 5ms/step - loss: 8522538.0000\n",
            "Epoch 429/1000\n",
            "5/5 [==============================] - 0s 5ms/step - loss: 8488271.0000\n",
            "Epoch 430/1000\n",
            "5/5 [==============================] - 0s 4ms/step - loss: 8454247.0000\n",
            "Epoch 431/1000\n",
            "5/5 [==============================] - 0s 4ms/step - loss: 8417002.0000\n",
            "Epoch 432/1000\n",
            "5/5 [==============================] - 0s 4ms/step - loss: 8384839.0000\n",
            "Epoch 433/1000\n",
            "5/5 [==============================] - 0s 4ms/step - loss: 8344613.5000\n",
            "Epoch 434/1000\n",
            "5/5 [==============================] - 0s 5ms/step - loss: 8310227.5000\n",
            "Epoch 435/1000\n",
            "5/5 [==============================] - 0s 4ms/step - loss: 8273965.5000\n",
            "Epoch 436/1000\n",
            "5/5 [==============================] - 0s 4ms/step - loss: 8244946.5000\n",
            "Epoch 437/1000\n",
            "5/5 [==============================] - 0s 5ms/step - loss: 8209357.5000\n",
            "Epoch 438/1000\n",
            "5/5 [==============================] - 0s 4ms/step - loss: 8168195.0000\n",
            "Epoch 439/1000\n",
            "5/5 [==============================] - 0s 4ms/step - loss: 8140466.0000\n",
            "Epoch 440/1000\n",
            "5/5 [==============================] - 0s 5ms/step - loss: 8106813.5000\n",
            "Epoch 441/1000\n",
            "5/5 [==============================] - 0s 4ms/step - loss: 8071170.0000\n",
            "Epoch 442/1000\n",
            "5/5 [==============================] - 0s 4ms/step - loss: 8035688.5000\n",
            "Epoch 443/1000\n",
            "5/5 [==============================] - 0s 4ms/step - loss: 8003572.0000\n",
            "Epoch 444/1000\n",
            "5/5 [==============================] - 0s 4ms/step - loss: 7967611.0000\n",
            "Epoch 445/1000\n",
            "5/5 [==============================] - 0s 4ms/step - loss: 7943670.5000\n",
            "Epoch 446/1000\n",
            "5/5 [==============================] - 0s 5ms/step - loss: 7903039.0000\n",
            "Epoch 447/1000\n",
            "5/5 [==============================] - 0s 4ms/step - loss: 7874714.0000\n",
            "Epoch 448/1000\n",
            "5/5 [==============================] - 0s 4ms/step - loss: 7836698.5000\n",
            "Epoch 449/1000\n",
            "5/5 [==============================] - 0s 4ms/step - loss: 7809262.5000\n",
            "Epoch 450/1000\n",
            "5/5 [==============================] - 0s 4ms/step - loss: 7773544.0000\n",
            "Epoch 451/1000\n",
            "5/5 [==============================] - 0s 4ms/step - loss: 7737669.0000\n",
            "Epoch 452/1000\n",
            "5/5 [==============================] - 0s 4ms/step - loss: 7709074.0000\n",
            "Epoch 453/1000\n",
            "5/5 [==============================] - 0s 4ms/step - loss: 7678443.5000\n",
            "Epoch 454/1000\n",
            "5/5 [==============================] - 0s 4ms/step - loss: 7645434.0000\n",
            "Epoch 455/1000\n",
            "5/5 [==============================] - 0s 4ms/step - loss: 7610114.5000\n",
            "Epoch 456/1000\n",
            "5/5 [==============================] - 0s 4ms/step - loss: 7582612.5000\n",
            "Epoch 457/1000\n",
            "5/5 [==============================] - 0s 4ms/step - loss: 7549238.5000\n",
            "Epoch 458/1000\n",
            "5/5 [==============================] - 0s 4ms/step - loss: 7515285.5000\n",
            "Epoch 459/1000\n",
            "5/5 [==============================] - 0s 4ms/step - loss: 7485041.5000\n",
            "Epoch 460/1000\n",
            "5/5 [==============================] - 0s 4ms/step - loss: 7455178.5000\n",
            "Epoch 461/1000\n",
            "5/5 [==============================] - 0s 4ms/step - loss: 7429352.0000\n",
            "Epoch 462/1000\n",
            "5/5 [==============================] - 0s 4ms/step - loss: 7395404.0000\n",
            "Epoch 463/1000\n",
            "5/5 [==============================] - 0s 4ms/step - loss: 7358220.5000\n",
            "Epoch 464/1000\n",
            "5/5 [==============================] - 0s 4ms/step - loss: 7324745.0000\n",
            "Epoch 465/1000\n",
            "5/5 [==============================] - 0s 4ms/step - loss: 7303309.5000\n",
            "Epoch 466/1000\n",
            "5/5 [==============================] - 0s 4ms/step - loss: 7269213.5000\n",
            "Epoch 467/1000\n",
            "5/5 [==============================] - 0s 4ms/step - loss: 7245010.0000\n",
            "Epoch 468/1000\n",
            "5/5 [==============================] - 0s 4ms/step - loss: 7212108.5000\n",
            "Epoch 469/1000\n",
            "5/5 [==============================] - 0s 4ms/step - loss: 7181461.5000\n",
            "Epoch 470/1000\n",
            "5/5 [==============================] - 0s 4ms/step - loss: 7153195.5000\n",
            "Epoch 471/1000\n",
            "5/5 [==============================] - 0s 4ms/step - loss: 7127418.0000\n",
            "Epoch 472/1000\n",
            "5/5 [==============================] - 0s 4ms/step - loss: 7104159.5000\n",
            "Epoch 473/1000\n",
            "5/5 [==============================] - 0s 4ms/step - loss: 7061895.0000\n",
            "Epoch 474/1000\n",
            "5/5 [==============================] - 0s 6ms/step - loss: 7035884.5000\n",
            "Epoch 475/1000\n",
            "5/5 [==============================] - 0s 4ms/step - loss: 7007162.5000\n",
            "Epoch 476/1000\n",
            "5/5 [==============================] - 0s 4ms/step - loss: 6977274.5000\n",
            "Epoch 477/1000\n",
            "5/5 [==============================] - 0s 4ms/step - loss: 6953318.0000\n",
            "Epoch 478/1000\n",
            "5/5 [==============================] - 0s 5ms/step - loss: 6918234.5000\n",
            "Epoch 479/1000\n",
            "5/5 [==============================] - 0s 6ms/step - loss: 6892544.5000\n",
            "Epoch 480/1000\n",
            "5/5 [==============================] - 0s 6ms/step - loss: 6864988.0000\n",
            "Epoch 481/1000\n",
            "5/5 [==============================] - 0s 4ms/step - loss: 6833744.5000\n",
            "Epoch 482/1000\n",
            "5/5 [==============================] - 0s 5ms/step - loss: 6808438.5000\n",
            "Epoch 483/1000\n",
            "5/5 [==============================] - 0s 4ms/step - loss: 6782354.0000\n",
            "Epoch 484/1000\n",
            "5/5 [==============================] - 0s 4ms/step - loss: 6752192.5000\n",
            "Epoch 485/1000\n",
            "5/5 [==============================] - 0s 6ms/step - loss: 6735145.5000\n",
            "Epoch 486/1000\n",
            "5/5 [==============================] - 0s 6ms/step - loss: 6697047.0000\n",
            "Epoch 487/1000\n",
            "5/5 [==============================] - 0s 5ms/step - loss: 6669527.0000\n",
            "Epoch 488/1000\n",
            "5/5 [==============================] - 0s 4ms/step - loss: 6642361.0000\n",
            "Epoch 489/1000\n",
            "5/5 [==============================] - 0s 4ms/step - loss: 6615125.0000\n",
            "Epoch 490/1000\n",
            "5/5 [==============================] - 0s 4ms/step - loss: 6591762.5000\n",
            "Epoch 491/1000\n",
            "5/5 [==============================] - 0s 4ms/step - loss: 6561766.5000\n",
            "Epoch 492/1000\n",
            "5/5 [==============================] - 0s 4ms/step - loss: 6534960.5000\n",
            "Epoch 493/1000\n",
            "5/5 [==============================] - 0s 4ms/step - loss: 6501630.0000\n",
            "Epoch 494/1000\n",
            "5/5 [==============================] - 0s 4ms/step - loss: 6481871.5000\n",
            "Epoch 495/1000\n",
            "5/5 [==============================] - 0s 6ms/step - loss: 6463343.5000\n",
            "Epoch 496/1000\n",
            "5/5 [==============================] - 0s 6ms/step - loss: 6437000.0000\n",
            "Epoch 497/1000\n",
            "5/5 [==============================] - 0s 4ms/step - loss: 6397640.5000\n",
            "Epoch 498/1000\n",
            "5/5 [==============================] - 0s 4ms/step - loss: 6371712.0000\n",
            "Epoch 499/1000\n",
            "5/5 [==============================] - 0s 4ms/step - loss: 6346275.5000\n",
            "Epoch 500/1000\n",
            "5/5 [==============================] - 0s 4ms/step - loss: 6320896.5000\n",
            "Epoch 501/1000\n",
            "5/5 [==============================] - 0s 4ms/step - loss: 6297556.5000\n",
            "Epoch 502/1000\n",
            "5/5 [==============================] - 0s 5ms/step - loss: 6266871.0000\n",
            "Epoch 503/1000\n",
            "5/5 [==============================] - 0s 5ms/step - loss: 6242879.0000\n",
            "Epoch 504/1000\n",
            "5/5 [==============================] - 0s 4ms/step - loss: 6213359.0000\n",
            "Epoch 505/1000\n",
            "5/5 [==============================] - 0s 5ms/step - loss: 6195069.0000\n",
            "Epoch 506/1000\n",
            "5/5 [==============================] - 0s 5ms/step - loss: 6164995.0000\n",
            "Epoch 507/1000\n",
            "5/5 [==============================] - 0s 5ms/step - loss: 6135710.0000\n",
            "Epoch 508/1000\n",
            "5/5 [==============================] - 0s 6ms/step - loss: 6116165.0000\n",
            "Epoch 509/1000\n",
            "5/5 [==============================] - 0s 6ms/step - loss: 6091967.5000\n",
            "Epoch 510/1000\n",
            "5/5 [==============================] - 0s 4ms/step - loss: 6061475.5000\n",
            "Epoch 511/1000\n",
            "5/5 [==============================] - 0s 4ms/step - loss: 6041955.0000\n",
            "Epoch 512/1000\n",
            "5/5 [==============================] - 0s 5ms/step - loss: 6014233.0000\n",
            "Epoch 513/1000\n",
            "5/5 [==============================] - 0s 5ms/step - loss: 5990031.0000\n",
            "Epoch 514/1000\n",
            "5/5 [==============================] - 0s 4ms/step - loss: 5963291.0000\n",
            "Epoch 515/1000\n",
            "5/5 [==============================] - 0s 4ms/step - loss: 5940899.0000\n",
            "Epoch 516/1000\n",
            "5/5 [==============================] - 0s 6ms/step - loss: 5917909.0000\n",
            "Epoch 517/1000\n",
            "5/5 [==============================] - 0s 8ms/step - loss: 5897399.5000\n",
            "Epoch 518/1000\n",
            "5/5 [==============================] - 0s 4ms/step - loss: 5873127.0000\n",
            "Epoch 519/1000\n",
            "5/5 [==============================] - 0s 5ms/step - loss: 5843886.0000\n",
            "Epoch 520/1000\n",
            "5/5 [==============================] - 0s 4ms/step - loss: 5821823.5000\n",
            "Epoch 521/1000\n",
            "5/5 [==============================] - 0s 4ms/step - loss: 5809658.5000\n",
            "Epoch 522/1000\n",
            "5/5 [==============================] - 0s 4ms/step - loss: 5778661.0000\n",
            "Epoch 523/1000\n",
            "5/5 [==============================] - 0s 5ms/step - loss: 5754675.5000\n",
            "Epoch 524/1000\n",
            "5/5 [==============================] - 0s 4ms/step - loss: 5735297.0000\n",
            "Epoch 525/1000\n",
            "5/5 [==============================] - 0s 4ms/step - loss: 5707942.0000\n",
            "Epoch 526/1000\n",
            "5/5 [==============================] - 0s 4ms/step - loss: 5683247.5000\n",
            "Epoch 527/1000\n",
            "5/5 [==============================] - 0s 4ms/step - loss: 5663659.5000\n",
            "Epoch 528/1000\n",
            "5/5 [==============================] - 0s 4ms/step - loss: 5639453.0000\n",
            "Epoch 529/1000\n",
            "5/5 [==============================] - 0s 4ms/step - loss: 5619796.0000\n",
            "Epoch 530/1000\n",
            "5/5 [==============================] - 0s 4ms/step - loss: 5594507.0000\n",
            "Epoch 531/1000\n",
            "5/5 [==============================] - 0s 4ms/step - loss: 5573906.5000\n",
            "Epoch 532/1000\n",
            "5/5 [==============================] - 0s 4ms/step - loss: 5549855.5000\n",
            "Epoch 533/1000\n",
            "5/5 [==============================] - 0s 4ms/step - loss: 5534355.5000\n",
            "Epoch 534/1000\n",
            "5/5 [==============================] - 0s 4ms/step - loss: 5506577.5000\n",
            "Epoch 535/1000\n",
            "5/5 [==============================] - 0s 4ms/step - loss: 5487375.0000\n",
            "Epoch 536/1000\n",
            "5/5 [==============================] - 0s 4ms/step - loss: 5462185.5000\n",
            "Epoch 537/1000\n",
            "5/5 [==============================] - 0s 4ms/step - loss: 5441374.0000\n",
            "Epoch 538/1000\n",
            "5/5 [==============================] - 0s 4ms/step - loss: 5426944.5000\n",
            "Epoch 539/1000\n",
            "5/5 [==============================] - 0s 4ms/step - loss: 5399550.0000\n",
            "Epoch 540/1000\n",
            "5/5 [==============================] - 0s 4ms/step - loss: 5380919.0000\n",
            "Epoch 541/1000\n",
            "5/5 [==============================] - 0s 5ms/step - loss: 5360100.0000\n",
            "Epoch 542/1000\n",
            "5/5 [==============================] - 0s 4ms/step - loss: 5337785.0000\n",
            "Epoch 543/1000\n",
            "5/5 [==============================] - 0s 4ms/step - loss: 5313623.0000\n",
            "Epoch 544/1000\n",
            "5/5 [==============================] - 0s 4ms/step - loss: 5298920.0000\n",
            "Epoch 545/1000\n",
            "5/5 [==============================] - 0s 4ms/step - loss: 5273059.5000\n",
            "Epoch 546/1000\n",
            "5/5 [==============================] - 0s 4ms/step - loss: 5251454.0000\n",
            "Epoch 547/1000\n",
            "5/5 [==============================] - 0s 4ms/step - loss: 5233422.0000\n",
            "Epoch 548/1000\n",
            "5/5 [==============================] - 0s 4ms/step - loss: 5213234.0000\n",
            "Epoch 549/1000\n",
            "5/5 [==============================] - 0s 4ms/step - loss: 5192296.5000\n",
            "Epoch 550/1000\n",
            "5/5 [==============================] - 0s 4ms/step - loss: 5172051.5000\n",
            "Epoch 551/1000\n",
            "5/5 [==============================] - 0s 4ms/step - loss: 5154973.0000\n",
            "Epoch 552/1000\n",
            "5/5 [==============================] - 0s 4ms/step - loss: 5139482.5000\n",
            "Epoch 553/1000\n",
            "5/5 [==============================] - 0s 4ms/step - loss: 5115115.0000\n",
            "Epoch 554/1000\n",
            "5/5 [==============================] - 0s 6ms/step - loss: 5100637.0000\n",
            "Epoch 555/1000\n",
            "5/5 [==============================] - 0s 5ms/step - loss: 5073509.5000\n",
            "Epoch 556/1000\n",
            "5/5 [==============================] - 0s 4ms/step - loss: 5055725.5000\n",
            "Epoch 557/1000\n",
            "5/5 [==============================] - 0s 4ms/step - loss: 5039253.0000\n",
            "Epoch 558/1000\n",
            "5/5 [==============================] - 0s 4ms/step - loss: 5014859.0000\n",
            "Epoch 559/1000\n",
            "5/5 [==============================] - 0s 4ms/step - loss: 4998809.5000\n",
            "Epoch 560/1000\n",
            "5/5 [==============================] - 0s 4ms/step - loss: 4980985.0000\n",
            "Epoch 561/1000\n",
            "5/5 [==============================] - 0s 4ms/step - loss: 4959658.5000\n",
            "Epoch 562/1000\n",
            "5/5 [==============================] - 0s 4ms/step - loss: 4940648.0000\n",
            "Epoch 563/1000\n",
            "5/5 [==============================] - 0s 4ms/step - loss: 4919739.0000\n",
            "Epoch 564/1000\n",
            "5/5 [==============================] - 0s 4ms/step - loss: 4904968.0000\n",
            "Epoch 565/1000\n",
            "5/5 [==============================] - 0s 4ms/step - loss: 4890461.5000\n",
            "Epoch 566/1000\n",
            "5/5 [==============================] - 0s 4ms/step - loss: 4864741.0000\n",
            "Epoch 567/1000\n",
            "5/5 [==============================] - 0s 4ms/step - loss: 4851197.5000\n",
            "Epoch 568/1000\n",
            "5/5 [==============================] - 0s 4ms/step - loss: 4830511.0000\n",
            "Epoch 569/1000\n",
            "5/5 [==============================] - 0s 4ms/step - loss: 4813133.5000\n",
            "Epoch 570/1000\n",
            "5/5 [==============================] - 0s 4ms/step - loss: 4790953.5000\n",
            "Epoch 571/1000\n",
            "5/5 [==============================] - 0s 4ms/step - loss: 4775679.5000\n",
            "Epoch 572/1000\n",
            "5/5 [==============================] - 0s 4ms/step - loss: 4761560.0000\n",
            "Epoch 573/1000\n",
            "5/5 [==============================] - 0s 4ms/step - loss: 4745525.5000\n",
            "Epoch 574/1000\n",
            "5/5 [==============================] - 0s 4ms/step - loss: 4721845.5000\n",
            "Epoch 575/1000\n",
            "5/5 [==============================] - 0s 4ms/step - loss: 4705985.5000\n",
            "Epoch 576/1000\n",
            "5/5 [==============================] - 0s 4ms/step - loss: 4688930.0000\n",
            "Epoch 577/1000\n",
            "5/5 [==============================] - 0s 4ms/step - loss: 4672425.5000\n",
            "Epoch 578/1000\n",
            "5/5 [==============================] - 0s 4ms/step - loss: 4654217.5000\n",
            "Epoch 579/1000\n",
            "5/5 [==============================] - 0s 4ms/step - loss: 4640197.0000\n",
            "Epoch 580/1000\n",
            "5/5 [==============================] - 0s 4ms/step - loss: 4620601.0000\n",
            "Epoch 581/1000\n",
            "5/5 [==============================] - 0s 4ms/step - loss: 4605539.5000\n",
            "Epoch 582/1000\n",
            "5/5 [==============================] - 0s 4ms/step - loss: 4584436.5000\n",
            "Epoch 583/1000\n",
            "5/5 [==============================] - 0s 4ms/step - loss: 4575394.0000\n",
            "Epoch 584/1000\n",
            "5/5 [==============================] - 0s 4ms/step - loss: 4554691.5000\n",
            "Epoch 585/1000\n",
            "5/5 [==============================] - 0s 4ms/step - loss: 4540080.5000\n",
            "Epoch 586/1000\n",
            "5/5 [==============================] - 0s 4ms/step - loss: 4521919.0000\n",
            "Epoch 587/1000\n",
            "5/5 [==============================] - 0s 4ms/step - loss: 4509064.0000\n",
            "Epoch 588/1000\n",
            "5/5 [==============================] - 0s 4ms/step - loss: 4490291.5000\n",
            "Epoch 589/1000\n",
            "5/5 [==============================] - 0s 4ms/step - loss: 4475491.5000\n",
            "Epoch 590/1000\n",
            "5/5 [==============================] - 0s 4ms/step - loss: 4459711.0000\n",
            "Epoch 591/1000\n",
            "5/5 [==============================] - 0s 4ms/step - loss: 4451274.5000\n",
            "Epoch 592/1000\n",
            "5/5 [==============================] - 0s 4ms/step - loss: 4427807.0000\n",
            "Epoch 593/1000\n",
            "5/5 [==============================] - 0s 4ms/step - loss: 4409557.0000\n",
            "Epoch 594/1000\n",
            "5/5 [==============================] - 0s 4ms/step - loss: 4393874.5000\n",
            "Epoch 595/1000\n",
            "5/5 [==============================] - 0s 4ms/step - loss: 4375513.0000\n",
            "Epoch 596/1000\n",
            "5/5 [==============================] - 0s 4ms/step - loss: 4362841.0000\n",
            "Epoch 597/1000\n",
            "5/5 [==============================] - 0s 5ms/step - loss: 4347358.0000\n",
            "Epoch 598/1000\n",
            "5/5 [==============================] - 0s 4ms/step - loss: 4332733.5000\n",
            "Epoch 599/1000\n",
            "5/5 [==============================] - 0s 4ms/step - loss: 4316656.5000\n",
            "Epoch 600/1000\n",
            "5/5 [==============================] - 0s 4ms/step - loss: 4301592.5000\n",
            "Epoch 601/1000\n",
            "5/5 [==============================] - 0s 4ms/step - loss: 4289363.0000\n",
            "Epoch 602/1000\n",
            "5/5 [==============================] - 0s 4ms/step - loss: 4272298.0000\n",
            "Epoch 603/1000\n",
            "5/5 [==============================] - 0s 4ms/step - loss: 4258326.0000\n",
            "Epoch 604/1000\n",
            "5/5 [==============================] - 0s 4ms/step - loss: 4245641.0000\n",
            "Epoch 605/1000\n",
            "5/5 [==============================] - 0s 4ms/step - loss: 4229900.5000\n",
            "Epoch 606/1000\n",
            "5/5 [==============================] - 0s 4ms/step - loss: 4212594.0000\n",
            "Epoch 607/1000\n",
            "5/5 [==============================] - 0s 4ms/step - loss: 4204836.0000\n",
            "Epoch 608/1000\n",
            "5/5 [==============================] - 0s 4ms/step - loss: 4187015.0000\n",
            "Epoch 609/1000\n",
            "5/5 [==============================] - 0s 5ms/step - loss: 4174500.2500\n",
            "Epoch 610/1000\n",
            "5/5 [==============================] - 0s 4ms/step - loss: 4157005.2500\n",
            "Epoch 611/1000\n",
            "5/5 [==============================] - 0s 4ms/step - loss: 4143450.0000\n",
            "Epoch 612/1000\n",
            "5/5 [==============================] - 0s 4ms/step - loss: 4129898.7500\n",
            "Epoch 613/1000\n",
            "5/5 [==============================] - 0s 4ms/step - loss: 4117235.5000\n",
            "Epoch 614/1000\n",
            "5/5 [==============================] - 0s 4ms/step - loss: 4099262.0000\n",
            "Epoch 615/1000\n",
            "5/5 [==============================] - 0s 4ms/step - loss: 4086261.7500\n",
            "Epoch 616/1000\n",
            "5/5 [==============================] - 0s 4ms/step - loss: 4076932.5000\n",
            "Epoch 617/1000\n",
            "5/5 [==============================] - 0s 4ms/step - loss: 4059488.5000\n",
            "Epoch 618/1000\n",
            "5/5 [==============================] - 0s 4ms/step - loss: 4047412.5000\n",
            "Epoch 619/1000\n",
            "5/5 [==============================] - 0s 4ms/step - loss: 4034191.0000\n",
            "Epoch 620/1000\n",
            "5/5 [==============================] - 0s 4ms/step - loss: 4017882.5000\n",
            "Epoch 621/1000\n",
            "5/5 [==============================] - 0s 5ms/step - loss: 4004462.5000\n",
            "Epoch 622/1000\n",
            "5/5 [==============================] - 0s 4ms/step - loss: 3990463.5000\n",
            "Epoch 623/1000\n",
            "5/5 [==============================] - 0s 4ms/step - loss: 3980230.0000\n",
            "Epoch 624/1000\n",
            "5/5 [==============================] - 0s 4ms/step - loss: 3965577.2500\n",
            "Epoch 625/1000\n",
            "5/5 [==============================] - 0s 4ms/step - loss: 3963418.7500\n",
            "Epoch 626/1000\n",
            "5/5 [==============================] - 0s 4ms/step - loss: 3946906.5000\n",
            "Epoch 627/1000\n",
            "5/5 [==============================] - 0s 4ms/step - loss: 3923634.0000\n",
            "Epoch 628/1000\n",
            "5/5 [==============================] - 0s 4ms/step - loss: 3914904.5000\n",
            "Epoch 629/1000\n",
            "5/5 [==============================] - 0s 4ms/step - loss: 3899997.5000\n",
            "Epoch 630/1000\n",
            "5/5 [==============================] - 0s 4ms/step - loss: 3887341.5000\n",
            "Epoch 631/1000\n",
            "5/5 [==============================] - 0s 4ms/step - loss: 3875137.7500\n",
            "Epoch 632/1000\n",
            "5/5 [==============================] - 0s 4ms/step - loss: 3861319.0000\n",
            "Epoch 633/1000\n",
            "5/5 [==============================] - 0s 4ms/step - loss: 3848999.7500\n",
            "Epoch 634/1000\n",
            "5/5 [==============================] - 0s 6ms/step - loss: 3837469.2500\n",
            "Epoch 635/1000\n",
            "5/5 [==============================] - 0s 4ms/step - loss: 3826545.7500\n",
            "Epoch 636/1000\n",
            "5/5 [==============================] - 0s 4ms/step - loss: 3815390.7500\n",
            "Epoch 637/1000\n",
            "5/5 [==============================] - 0s 4ms/step - loss: 3800806.2500\n",
            "Epoch 638/1000\n",
            "5/5 [==============================] - 0s 4ms/step - loss: 3788439.0000\n",
            "Epoch 639/1000\n",
            "5/5 [==============================] - 0s 5ms/step - loss: 3780191.7500\n",
            "Epoch 640/1000\n",
            "5/5 [==============================] - 0s 5ms/step - loss: 3765387.5000\n",
            "Epoch 641/1000\n",
            "5/5 [==============================] - 0s 4ms/step - loss: 3755201.7500\n",
            "Epoch 642/1000\n",
            "5/5 [==============================] - 0s 5ms/step - loss: 3741561.2500\n",
            "Epoch 643/1000\n",
            "5/5 [==============================] - 0s 4ms/step - loss: 3732736.0000\n",
            "Epoch 644/1000\n",
            "5/5 [==============================] - 0s 4ms/step - loss: 3717273.0000\n",
            "Epoch 645/1000\n",
            "5/5 [==============================] - 0s 4ms/step - loss: 3706026.2500\n",
            "Epoch 646/1000\n",
            "5/5 [==============================] - 0s 4ms/step - loss: 3694354.7500\n",
            "Epoch 647/1000\n",
            "5/5 [==============================] - 0s 4ms/step - loss: 3684780.5000\n",
            "Epoch 648/1000\n",
            "5/5 [==============================] - 0s 4ms/step - loss: 3674943.5000\n",
            "Epoch 649/1000\n",
            "5/5 [==============================] - 0s 4ms/step - loss: 3659679.0000\n",
            "Epoch 650/1000\n",
            "5/5 [==============================] - 0s 4ms/step - loss: 3652871.5000\n",
            "Epoch 651/1000\n",
            "5/5 [==============================] - 0s 4ms/step - loss: 3638052.0000\n",
            "Epoch 652/1000\n",
            "5/5 [==============================] - 0s 4ms/step - loss: 3627481.2500\n",
            "Epoch 653/1000\n",
            "5/5 [==============================] - 0s 4ms/step - loss: 3621152.0000\n",
            "Epoch 654/1000\n",
            "5/5 [==============================] - 0s 5ms/step - loss: 3611164.5000\n",
            "Epoch 655/1000\n",
            "5/5 [==============================] - 0s 4ms/step - loss: 3598168.2500\n",
            "Epoch 656/1000\n",
            "5/5 [==============================] - 0s 4ms/step - loss: 3582721.5000\n",
            "Epoch 657/1000\n",
            "5/5 [==============================] - 0s 4ms/step - loss: 3576245.2500\n",
            "Epoch 658/1000\n",
            "5/5 [==============================] - 0s 4ms/step - loss: 3563964.0000\n",
            "Epoch 659/1000\n",
            "5/5 [==============================] - 0s 5ms/step - loss: 3553876.7500\n",
            "Epoch 660/1000\n",
            "5/5 [==============================] - 0s 4ms/step - loss: 3543205.2500\n",
            "Epoch 661/1000\n",
            "5/5 [==============================] - 0s 4ms/step - loss: 3531985.2500\n",
            "Epoch 662/1000\n",
            "5/5 [==============================] - 0s 4ms/step - loss: 3521954.0000\n",
            "Epoch 663/1000\n",
            "5/5 [==============================] - 0s 4ms/step - loss: 3514962.7500\n",
            "Epoch 664/1000\n",
            "5/5 [==============================] - 0s 4ms/step - loss: 3502349.2500\n",
            "Epoch 665/1000\n",
            "5/5 [==============================] - 0s 4ms/step - loss: 3492574.0000\n",
            "Epoch 666/1000\n",
            "5/5 [==============================] - 0s 4ms/step - loss: 3482591.0000\n",
            "Epoch 667/1000\n",
            "5/5 [==============================] - 0s 4ms/step - loss: 3470890.7500\n",
            "Epoch 668/1000\n",
            "5/5 [==============================] - 0s 4ms/step - loss: 3461778.7500\n",
            "Epoch 669/1000\n",
            "5/5 [==============================] - 0s 4ms/step - loss: 3452239.5000\n",
            "Epoch 670/1000\n",
            "5/5 [==============================] - 0s 4ms/step - loss: 3442141.5000\n",
            "Epoch 671/1000\n",
            "5/5 [==============================] - 0s 4ms/step - loss: 3429922.0000\n",
            "Epoch 672/1000\n",
            "5/5 [==============================] - 0s 4ms/step - loss: 3420223.5000\n",
            "Epoch 673/1000\n",
            "5/5 [==============================] - 0s 6ms/step - loss: 3412310.7500\n",
            "Epoch 674/1000\n",
            "5/5 [==============================] - 0s 8ms/step - loss: 3403307.5000\n",
            "Epoch 675/1000\n",
            "5/5 [==============================] - 0s 4ms/step - loss: 3394199.2500\n",
            "Epoch 676/1000\n",
            "5/5 [==============================] - 0s 6ms/step - loss: 3381612.7500\n",
            "Epoch 677/1000\n",
            "5/5 [==============================] - 0s 4ms/step - loss: 3371665.5000\n",
            "Epoch 678/1000\n",
            "5/5 [==============================] - 0s 4ms/step - loss: 3361444.2500\n",
            "Epoch 679/1000\n",
            "5/5 [==============================] - 0s 5ms/step - loss: 3357118.5000\n",
            "Epoch 680/1000\n",
            "5/5 [==============================] - 0s 6ms/step - loss: 3344556.0000\n",
            "Epoch 681/1000\n",
            "5/5 [==============================] - 0s 7ms/step - loss: 3335534.5000\n",
            "Epoch 682/1000\n",
            "5/5 [==============================] - 0s 4ms/step - loss: 3327092.0000\n",
            "Epoch 683/1000\n",
            "5/5 [==============================] - 0s 7ms/step - loss: 3318418.0000\n",
            "Epoch 684/1000\n",
            "5/5 [==============================] - 0s 5ms/step - loss: 3309058.5000\n",
            "Epoch 685/1000\n",
            "5/5 [==============================] - 0s 5ms/step - loss: 3299149.2500\n",
            "Epoch 686/1000\n",
            "5/5 [==============================] - 0s 4ms/step - loss: 3292493.2500\n",
            "Epoch 687/1000\n",
            "5/5 [==============================] - 0s 5ms/step - loss: 3279596.7500\n",
            "Epoch 688/1000\n",
            "5/5 [==============================] - 0s 4ms/step - loss: 3271441.0000\n",
            "Epoch 689/1000\n",
            "5/5 [==============================] - 0s 4ms/step - loss: 3264532.5000\n",
            "Epoch 690/1000\n",
            "5/5 [==============================] - 0s 5ms/step - loss: 3255583.7500\n",
            "Epoch 691/1000\n",
            "5/5 [==============================] - 0s 4ms/step - loss: 3245168.0000\n",
            "Epoch 692/1000\n",
            "5/5 [==============================] - 0s 5ms/step - loss: 3242417.7500\n",
            "Epoch 693/1000\n",
            "5/5 [==============================] - 0s 4ms/step - loss: 3229230.5000\n",
            "Epoch 694/1000\n",
            "5/5 [==============================] - 0s 4ms/step - loss: 3221097.0000\n",
            "Epoch 695/1000\n",
            "5/5 [==============================] - 0s 4ms/step - loss: 3212106.0000\n",
            "Epoch 696/1000\n",
            "5/5 [==============================] - 0s 5ms/step - loss: 3208774.2500\n",
            "Epoch 697/1000\n",
            "5/5 [==============================] - 0s 5ms/step - loss: 3195374.7500\n",
            "Epoch 698/1000\n",
            "5/5 [==============================] - 0s 4ms/step - loss: 3188300.5000\n",
            "Epoch 699/1000\n",
            "5/5 [==============================] - 0s 5ms/step - loss: 3178653.2500\n",
            "Epoch 700/1000\n",
            "5/5 [==============================] - 0s 5ms/step - loss: 3171538.5000\n",
            "Epoch 701/1000\n",
            "5/5 [==============================] - 0s 5ms/step - loss: 3162407.0000\n",
            "Epoch 702/1000\n",
            "5/5 [==============================] - 0s 5ms/step - loss: 3156052.0000\n",
            "Epoch 703/1000\n",
            "5/5 [==============================] - 0s 6ms/step - loss: 3146592.0000\n",
            "Epoch 704/1000\n",
            "5/5 [==============================] - 0s 8ms/step - loss: 3137784.5000\n",
            "Epoch 705/1000\n",
            "5/5 [==============================] - 0s 4ms/step - loss: 3135669.7500\n",
            "Epoch 706/1000\n",
            "5/5 [==============================] - 0s 5ms/step - loss: 3124233.0000\n",
            "Epoch 707/1000\n",
            "5/5 [==============================] - 0s 4ms/step - loss: 3116908.7500\n",
            "Epoch 708/1000\n",
            "5/5 [==============================] - 0s 6ms/step - loss: 3106816.0000\n",
            "Epoch 709/1000\n",
            "5/5 [==============================] - 0s 7ms/step - loss: 3103374.2500\n",
            "Epoch 710/1000\n",
            "5/5 [==============================] - 0s 6ms/step - loss: 3092912.0000\n",
            "Epoch 711/1000\n",
            "5/5 [==============================] - 0s 6ms/step - loss: 3083547.2500\n",
            "Epoch 712/1000\n",
            "5/5 [==============================] - 0s 5ms/step - loss: 3076950.0000\n",
            "Epoch 713/1000\n",
            "5/5 [==============================] - 0s 6ms/step - loss: 3070099.2500\n",
            "Epoch 714/1000\n",
            "5/5 [==============================] - 0s 6ms/step - loss: 3061070.2500\n",
            "Epoch 715/1000\n",
            "5/5 [==============================] - 0s 5ms/step - loss: 3053771.7500\n",
            "Epoch 716/1000\n",
            "5/5 [==============================] - 0s 7ms/step - loss: 3046924.0000\n",
            "Epoch 717/1000\n",
            "5/5 [==============================] - 0s 5ms/step - loss: 3040926.0000\n",
            "Epoch 718/1000\n",
            "5/5 [==============================] - 0s 6ms/step - loss: 3031319.2500\n",
            "Epoch 719/1000\n",
            "5/5 [==============================] - 0s 6ms/step - loss: 3023253.2500\n",
            "Epoch 720/1000\n",
            "5/5 [==============================] - 0s 5ms/step - loss: 3017480.5000\n",
            "Epoch 721/1000\n",
            "5/5 [==============================] - 0s 6ms/step - loss: 3008730.7500\n",
            "Epoch 722/1000\n",
            "5/5 [==============================] - 0s 6ms/step - loss: 3003697.5000\n",
            "Epoch 723/1000\n",
            "5/5 [==============================] - 0s 6ms/step - loss: 2996124.5000\n",
            "Epoch 724/1000\n",
            "5/5 [==============================] - 0s 6ms/step - loss: 2991280.0000\n",
            "Epoch 725/1000\n",
            "5/5 [==============================] - 0s 5ms/step - loss: 2980503.2500\n",
            "Epoch 726/1000\n",
            "5/5 [==============================] - 0s 6ms/step - loss: 2975860.5000\n",
            "Epoch 727/1000\n",
            "5/5 [==============================] - 0s 5ms/step - loss: 2966099.5000\n",
            "Epoch 728/1000\n",
            "5/5 [==============================] - 0s 6ms/step - loss: 2961242.5000\n",
            "Epoch 729/1000\n",
            "5/5 [==============================] - 0s 5ms/step - loss: 2954710.2500\n",
            "Epoch 730/1000\n",
            "5/5 [==============================] - 0s 5ms/step - loss: 2947283.5000\n",
            "Epoch 731/1000\n",
            "5/5 [==============================] - 0s 5ms/step - loss: 2938894.5000\n",
            "Epoch 732/1000\n",
            "5/5 [==============================] - 0s 5ms/step - loss: 2932059.2500\n",
            "Epoch 733/1000\n",
            "5/5 [==============================] - 0s 5ms/step - loss: 2924666.7500\n",
            "Epoch 734/1000\n",
            "5/5 [==============================] - 0s 5ms/step - loss: 2918130.0000\n",
            "Epoch 735/1000\n",
            "5/5 [==============================] - 0s 6ms/step - loss: 2911962.0000\n",
            "Epoch 736/1000\n",
            "5/5 [==============================] - 0s 5ms/step - loss: 2907562.2500\n",
            "Epoch 737/1000\n",
            "5/5 [==============================] - 0s 5ms/step - loss: 2898490.5000\n",
            "Epoch 738/1000\n",
            "5/5 [==============================] - 0s 4ms/step - loss: 2892073.2500\n",
            "Epoch 739/1000\n",
            "5/5 [==============================] - 0s 4ms/step - loss: 2884609.7500\n",
            "Epoch 740/1000\n",
            "5/5 [==============================] - 0s 4ms/step - loss: 2884833.7500\n",
            "Epoch 741/1000\n",
            "5/5 [==============================] - 0s 4ms/step - loss: 2874222.0000\n",
            "Epoch 742/1000\n",
            "5/5 [==============================] - 0s 4ms/step - loss: 2866068.2500\n",
            "Epoch 743/1000\n",
            "5/5 [==============================] - 0s 5ms/step - loss: 2860703.7500\n",
            "Epoch 744/1000\n",
            "5/5 [==============================] - 0s 4ms/step - loss: 2852046.2500\n",
            "Epoch 745/1000\n",
            "5/5 [==============================] - 0s 4ms/step - loss: 2846898.0000\n",
            "Epoch 746/1000\n",
            "5/5 [==============================] - 0s 4ms/step - loss: 2839674.0000\n",
            "Epoch 747/1000\n",
            "5/5 [==============================] - 0s 5ms/step - loss: 2833574.0000\n",
            "Epoch 748/1000\n",
            "5/5 [==============================] - 0s 5ms/step - loss: 2827765.7500\n",
            "Epoch 749/1000\n",
            "5/5 [==============================] - 0s 4ms/step - loss: 2822621.0000\n",
            "Epoch 750/1000\n",
            "5/5 [==============================] - 0s 4ms/step - loss: 2831503.7500\n",
            "Epoch 751/1000\n",
            "5/5 [==============================] - 0s 4ms/step - loss: 2808265.7500\n",
            "Epoch 752/1000\n",
            "5/5 [==============================] - 0s 4ms/step - loss: 2809165.5000\n",
            "Epoch 753/1000\n",
            "5/5 [==============================] - 0s 4ms/step - loss: 2798325.7500\n",
            "Epoch 754/1000\n",
            "5/5 [==============================] - 0s 5ms/step - loss: 2790362.0000\n",
            "Epoch 755/1000\n",
            "5/5 [==============================] - 0s 5ms/step - loss: 2785664.2500\n",
            "Epoch 756/1000\n",
            "5/5 [==============================] - 0s 5ms/step - loss: 2778517.5000\n",
            "Epoch 757/1000\n",
            "5/5 [==============================] - 0s 6ms/step - loss: 2773466.2500\n",
            "Epoch 758/1000\n",
            "5/5 [==============================] - 0s 4ms/step - loss: 2765912.7500\n",
            "Epoch 759/1000\n",
            "5/5 [==============================] - 0s 6ms/step - loss: 2760173.0000\n",
            "Epoch 760/1000\n",
            "5/5 [==============================] - 0s 4ms/step - loss: 2755488.2500\n",
            "Epoch 761/1000\n",
            "5/5 [==============================] - 0s 5ms/step - loss: 2748587.7500\n",
            "Epoch 762/1000\n",
            "5/5 [==============================] - 0s 5ms/step - loss: 2743972.2500\n",
            "Epoch 763/1000\n",
            "5/5 [==============================] - 0s 5ms/step - loss: 2737211.5000\n",
            "Epoch 764/1000\n",
            "5/5 [==============================] - 0s 5ms/step - loss: 2731182.0000\n",
            "Epoch 765/1000\n",
            "5/5 [==============================] - 0s 5ms/step - loss: 2725975.7500\n",
            "Epoch 766/1000\n",
            "5/5 [==============================] - 0s 5ms/step - loss: 2720665.2500\n",
            "Epoch 767/1000\n",
            "5/5 [==============================] - 0s 5ms/step - loss: 2715599.0000\n",
            "Epoch 768/1000\n",
            "5/5 [==============================] - 0s 4ms/step - loss: 2711048.2500\n",
            "Epoch 769/1000\n",
            "5/5 [==============================] - 0s 6ms/step - loss: 2702877.0000\n",
            "Epoch 770/1000\n",
            "5/5 [==============================] - 0s 5ms/step - loss: 2699999.7500\n",
            "Epoch 771/1000\n",
            "5/5 [==============================] - 0s 4ms/step - loss: 2693681.5000\n",
            "Epoch 772/1000\n",
            "5/5 [==============================] - 0s 5ms/step - loss: 2687348.0000\n",
            "Epoch 773/1000\n",
            "5/5 [==============================] - 0s 4ms/step - loss: 2683928.2500\n",
            "Epoch 774/1000\n",
            "5/5 [==============================] - 0s 4ms/step - loss: 2680984.5000\n",
            "Epoch 775/1000\n",
            "5/5 [==============================] - 0s 4ms/step - loss: 2670155.7500\n",
            "Epoch 776/1000\n",
            "5/5 [==============================] - 0s 3ms/step - loss: 2668087.5000\n",
            "Epoch 777/1000\n",
            "5/5 [==============================] - 0s 4ms/step - loss: 2659173.7500\n",
            "Epoch 778/1000\n",
            "5/5 [==============================] - 0s 4ms/step - loss: 2654047.5000\n",
            "Epoch 779/1000\n",
            "5/5 [==============================] - 0s 6ms/step - loss: 2648090.0000\n",
            "Epoch 780/1000\n",
            "5/5 [==============================] - 0s 4ms/step - loss: 2645237.7500\n",
            "Epoch 781/1000\n",
            "5/5 [==============================] - 0s 4ms/step - loss: 2638607.7500\n",
            "Epoch 782/1000\n",
            "5/5 [==============================] - 0s 4ms/step - loss: 2631957.5000\n",
            "Epoch 783/1000\n",
            "5/5 [==============================] - 0s 4ms/step - loss: 2629037.0000\n",
            "Epoch 784/1000\n",
            "5/5 [==============================] - 0s 4ms/step - loss: 2625871.7500\n",
            "Epoch 785/1000\n",
            "5/5 [==============================] - 0s 4ms/step - loss: 2618509.2500\n",
            "Epoch 786/1000\n",
            "5/5 [==============================] - 0s 4ms/step - loss: 2612393.7500\n",
            "Epoch 787/1000\n",
            "5/5 [==============================] - 0s 4ms/step - loss: 2606318.0000\n",
            "Epoch 788/1000\n",
            "5/5 [==============================] - 0s 4ms/step - loss: 2601400.5000\n",
            "Epoch 789/1000\n",
            "5/5 [==============================] - 0s 4ms/step - loss: 2596022.7500\n",
            "Epoch 790/1000\n",
            "5/5 [==============================] - 0s 4ms/step - loss: 2590833.5000\n",
            "Epoch 791/1000\n",
            "5/5 [==============================] - 0s 4ms/step - loss: 2589413.2500\n",
            "Epoch 792/1000\n",
            "5/5 [==============================] - 0s 5ms/step - loss: 2583292.5000\n",
            "Epoch 793/1000\n",
            "5/5 [==============================] - 0s 4ms/step - loss: 2576694.0000\n",
            "Epoch 794/1000\n",
            "5/5 [==============================] - 0s 4ms/step - loss: 2572836.7500\n",
            "Epoch 795/1000\n",
            "5/5 [==============================] - 0s 4ms/step - loss: 2565927.5000\n",
            "Epoch 796/1000\n",
            "5/5 [==============================] - 0s 4ms/step - loss: 2564649.2500\n",
            "Epoch 797/1000\n",
            "5/5 [==============================] - 0s 4ms/step - loss: 2556235.5000\n",
            "Epoch 798/1000\n",
            "5/5 [==============================] - 0s 5ms/step - loss: 2560902.0000\n",
            "Epoch 799/1000\n",
            "5/5 [==============================] - 0s 5ms/step - loss: 2548792.5000\n",
            "Epoch 800/1000\n",
            "5/5 [==============================] - 0s 5ms/step - loss: 2542854.0000\n",
            "Epoch 801/1000\n",
            "5/5 [==============================] - 0s 4ms/step - loss: 2538721.7500\n",
            "Epoch 802/1000\n",
            "5/5 [==============================] - 0s 4ms/step - loss: 2531275.5000\n",
            "Epoch 803/1000\n",
            "5/5 [==============================] - 0s 5ms/step - loss: 2527201.0000\n",
            "Epoch 804/1000\n",
            "5/5 [==============================] - 0s 5ms/step - loss: 2535381.5000\n",
            "Epoch 805/1000\n",
            "5/5 [==============================] - 0s 5ms/step - loss: 2520281.7500\n",
            "Epoch 806/1000\n",
            "5/5 [==============================] - 0s 5ms/step - loss: 2515546.5000\n",
            "Epoch 807/1000\n",
            "5/5 [==============================] - 0s 4ms/step - loss: 2513817.0000\n",
            "Epoch 808/1000\n",
            "5/5 [==============================] - 0s 5ms/step - loss: 2505113.2500\n",
            "Epoch 809/1000\n",
            "5/5 [==============================] - 0s 4ms/step - loss: 2505044.2500\n",
            "Epoch 810/1000\n",
            "5/5 [==============================] - 0s 4ms/step - loss: 2497832.2500\n",
            "Epoch 811/1000\n",
            "5/5 [==============================] - 0s 4ms/step - loss: 2492220.5000\n",
            "Epoch 812/1000\n",
            "5/5 [==============================] - 0s 4ms/step - loss: 2487410.5000\n",
            "Epoch 813/1000\n",
            "5/5 [==============================] - 0s 5ms/step - loss: 2483897.0000\n",
            "Epoch 814/1000\n",
            "5/5 [==============================] - 0s 4ms/step - loss: 2478668.0000\n",
            "Epoch 815/1000\n",
            "5/5 [==============================] - 0s 4ms/step - loss: 2474580.7500\n",
            "Epoch 816/1000\n",
            "5/5 [==============================] - 0s 6ms/step - loss: 2470094.7500\n",
            "Epoch 817/1000\n",
            "5/5 [==============================] - 0s 7ms/step - loss: 2464733.0000\n",
            "Epoch 818/1000\n",
            "5/5 [==============================] - 0s 5ms/step - loss: 2464285.0000\n",
            "Epoch 819/1000\n",
            "5/5 [==============================] - 0s 5ms/step - loss: 2456587.5000\n",
            "Epoch 820/1000\n",
            "5/5 [==============================] - 0s 5ms/step - loss: 2451662.2500\n",
            "Epoch 821/1000\n",
            "5/5 [==============================] - 0s 4ms/step - loss: 2449651.0000\n",
            "Epoch 822/1000\n",
            "5/5 [==============================] - 0s 5ms/step - loss: 2442543.7500\n",
            "Epoch 823/1000\n",
            "5/5 [==============================] - 0s 5ms/step - loss: 2441359.7500\n",
            "Epoch 824/1000\n",
            "5/5 [==============================] - 0s 5ms/step - loss: 2433282.5000\n",
            "Epoch 825/1000\n",
            "5/5 [==============================] - 0s 4ms/step - loss: 2429911.0000\n",
            "Epoch 826/1000\n",
            "5/5 [==============================] - 0s 4ms/step - loss: 2425710.2500\n",
            "Epoch 827/1000\n",
            "5/5 [==============================] - 0s 5ms/step - loss: 2422422.0000\n",
            "Epoch 828/1000\n",
            "5/5 [==============================] - 0s 4ms/step - loss: 2417228.7500\n",
            "Epoch 829/1000\n",
            "5/5 [==============================] - 0s 5ms/step - loss: 2414191.5000\n",
            "Epoch 830/1000\n",
            "5/5 [==============================] - 0s 4ms/step - loss: 2414537.5000\n",
            "Epoch 831/1000\n",
            "5/5 [==============================] - 0s 4ms/step - loss: 2404453.5000\n",
            "Epoch 832/1000\n",
            "5/5 [==============================] - 0s 4ms/step - loss: 2401129.7500\n",
            "Epoch 833/1000\n",
            "5/5 [==============================] - 0s 4ms/step - loss: 2398817.7500\n",
            "Epoch 834/1000\n",
            "5/5 [==============================] - 0s 5ms/step - loss: 2392774.0000\n",
            "Epoch 835/1000\n",
            "5/5 [==============================] - 0s 4ms/step - loss: 2388146.0000\n",
            "Epoch 836/1000\n",
            "5/5 [==============================] - 0s 4ms/step - loss: 2384364.7500\n",
            "Epoch 837/1000\n",
            "5/5 [==============================] - 0s 4ms/step - loss: 2385510.0000\n",
            "Epoch 838/1000\n",
            "5/5 [==============================] - 0s 6ms/step - loss: 2376560.0000\n",
            "Epoch 839/1000\n",
            "5/5 [==============================] - 0s 5ms/step - loss: 2371293.7500\n",
            "Epoch 840/1000\n",
            "5/5 [==============================] - 0s 4ms/step - loss: 2368211.5000\n",
            "Epoch 841/1000\n",
            "5/5 [==============================] - 0s 4ms/step - loss: 2364709.2500\n",
            "Epoch 842/1000\n",
            "5/5 [==============================] - 0s 4ms/step - loss: 2361769.7500\n",
            "Epoch 843/1000\n",
            "5/5 [==============================] - 0s 5ms/step - loss: 2356239.7500\n",
            "Epoch 844/1000\n",
            "5/5 [==============================] - 0s 4ms/step - loss: 2353473.2500\n",
            "Epoch 845/1000\n",
            "5/5 [==============================] - 0s 4ms/step - loss: 2348366.0000\n",
            "Epoch 846/1000\n",
            "5/5 [==============================] - 0s 5ms/step - loss: 2345018.0000\n",
            "Epoch 847/1000\n",
            "5/5 [==============================] - 0s 6ms/step - loss: 2342029.0000\n",
            "Epoch 848/1000\n",
            "5/5 [==============================] - 0s 6ms/step - loss: 2340695.0000\n",
            "Epoch 849/1000\n",
            "5/5 [==============================] - 0s 6ms/step - loss: 2334954.0000\n",
            "Epoch 850/1000\n",
            "5/5 [==============================] - 0s 5ms/step - loss: 2331209.2500\n",
            "Epoch 851/1000\n",
            "5/5 [==============================] - 0s 7ms/step - loss: 2325430.7500\n",
            "Epoch 852/1000\n",
            "5/5 [==============================] - 0s 6ms/step - loss: 2321347.0000\n",
            "Epoch 853/1000\n",
            "5/5 [==============================] - 0s 6ms/step - loss: 2320639.5000\n",
            "Epoch 854/1000\n",
            "5/5 [==============================] - 0s 6ms/step - loss: 2314679.7500\n",
            "Epoch 855/1000\n",
            "5/5 [==============================] - 0s 6ms/step - loss: 2310566.7500\n",
            "Epoch 856/1000\n",
            "5/5 [==============================] - 0s 6ms/step - loss: 2306004.2500\n",
            "Epoch 857/1000\n",
            "5/5 [==============================] - 0s 5ms/step - loss: 2302172.5000\n",
            "Epoch 858/1000\n",
            "5/5 [==============================] - 0s 5ms/step - loss: 2303616.2500\n",
            "Epoch 859/1000\n",
            "5/5 [==============================] - 0s 6ms/step - loss: 2294762.0000\n",
            "Epoch 860/1000\n",
            "5/5 [==============================] - 0s 6ms/step - loss: 2292243.5000\n",
            "Epoch 861/1000\n",
            "5/5 [==============================] - 0s 6ms/step - loss: 2287797.5000\n",
            "Epoch 862/1000\n",
            "5/5 [==============================] - 0s 8ms/step - loss: 2283768.5000\n",
            "Epoch 863/1000\n",
            "5/5 [==============================] - 0s 5ms/step - loss: 2281599.0000\n",
            "Epoch 864/1000\n",
            "5/5 [==============================] - 0s 6ms/step - loss: 2280017.0000\n",
            "Epoch 865/1000\n",
            "5/5 [==============================] - 0s 6ms/step - loss: 2278368.5000\n",
            "Epoch 866/1000\n",
            "5/5 [==============================] - 0s 5ms/step - loss: 2271949.7500\n",
            "Epoch 867/1000\n",
            "5/5 [==============================] - 0s 5ms/step - loss: 2267518.7500\n",
            "Epoch 868/1000\n",
            "5/5 [==============================] - 0s 6ms/step - loss: 2263357.5000\n",
            "Epoch 869/1000\n",
            "5/5 [==============================] - 0s 8ms/step - loss: 2260454.2500\n",
            "Epoch 870/1000\n",
            "5/5 [==============================] - 0s 9ms/step - loss: 2255178.0000\n",
            "Epoch 871/1000\n",
            "5/5 [==============================] - 0s 8ms/step - loss: 2253719.0000\n",
            "Epoch 872/1000\n",
            "5/5 [==============================] - 0s 6ms/step - loss: 2248449.2500\n",
            "Epoch 873/1000\n",
            "5/5 [==============================] - 0s 6ms/step - loss: 2245309.2500\n",
            "Epoch 874/1000\n",
            "5/5 [==============================] - 0s 5ms/step - loss: 2241169.2500\n",
            "Epoch 875/1000\n",
            "5/5 [==============================] - 0s 4ms/step - loss: 2239099.7500\n",
            "Epoch 876/1000\n",
            "5/5 [==============================] - 0s 4ms/step - loss: 2236556.5000\n",
            "Epoch 877/1000\n",
            "5/5 [==============================] - 0s 4ms/step - loss: 2232567.0000\n",
            "Epoch 878/1000\n",
            "5/5 [==============================] - 0s 4ms/step - loss: 2229117.5000\n",
            "Epoch 879/1000\n",
            "5/5 [==============================] - 0s 4ms/step - loss: 2228158.5000\n",
            "Epoch 880/1000\n",
            "5/5 [==============================] - 0s 5ms/step - loss: 2223543.5000\n",
            "Epoch 881/1000\n",
            "5/5 [==============================] - 0s 5ms/step - loss: 2218071.0000\n",
            "Epoch 882/1000\n",
            "5/5 [==============================] - 0s 4ms/step - loss: 2215588.7500\n",
            "Epoch 883/1000\n",
            "5/5 [==============================] - 0s 4ms/step - loss: 2215102.2500\n",
            "Epoch 884/1000\n",
            "5/5 [==============================] - 0s 5ms/step - loss: 2209740.5000\n",
            "Epoch 885/1000\n",
            "5/5 [==============================] - 0s 4ms/step - loss: 2205433.7500\n",
            "Epoch 886/1000\n",
            "5/5 [==============================] - 0s 4ms/step - loss: 2203495.7500\n",
            "Epoch 887/1000\n",
            "5/5 [==============================] - 0s 5ms/step - loss: 2198708.2500\n",
            "Epoch 888/1000\n",
            "5/5 [==============================] - 0s 5ms/step - loss: 2194837.7500\n",
            "Epoch 889/1000\n",
            "5/5 [==============================] - 0s 5ms/step - loss: 2191156.0000\n",
            "Epoch 890/1000\n",
            "5/5 [==============================] - 0s 4ms/step - loss: 2191587.0000\n",
            "Epoch 891/1000\n",
            "5/5 [==============================] - 0s 4ms/step - loss: 2184933.0000\n",
            "Epoch 892/1000\n",
            "5/5 [==============================] - 0s 4ms/step - loss: 2183434.7500\n",
            "Epoch 893/1000\n",
            "5/5 [==============================] - 0s 5ms/step - loss: 2187155.2500\n",
            "Epoch 894/1000\n",
            "5/5 [==============================] - 0s 6ms/step - loss: 2176110.7500\n",
            "Epoch 895/1000\n",
            "5/5 [==============================] - 0s 5ms/step - loss: 2171886.2500\n",
            "Epoch 896/1000\n",
            "5/5 [==============================] - 0s 4ms/step - loss: 2168161.0000\n",
            "Epoch 897/1000\n",
            "5/5 [==============================] - 0s 5ms/step - loss: 2169893.2500\n",
            "Epoch 898/1000\n",
            "5/5 [==============================] - 0s 5ms/step - loss: 2163935.7500\n",
            "Epoch 899/1000\n",
            "5/5 [==============================] - 0s 5ms/step - loss: 2159871.7500\n",
            "Epoch 900/1000\n",
            "5/5 [==============================] - 0s 5ms/step - loss: 2157906.5000\n",
            "Epoch 901/1000\n",
            "5/5 [==============================] - 0s 4ms/step - loss: 2152926.0000\n",
            "Epoch 902/1000\n",
            "5/5 [==============================] - 0s 4ms/step - loss: 2153820.5000\n",
            "Epoch 903/1000\n",
            "5/5 [==============================] - 0s 5ms/step - loss: 2148390.2500\n",
            "Epoch 904/1000\n",
            "5/5 [==============================] - 0s 5ms/step - loss: 2144502.0000\n",
            "Epoch 905/1000\n",
            "5/5 [==============================] - 0s 5ms/step - loss: 2143164.5000\n",
            "Epoch 906/1000\n",
            "5/5 [==============================] - 0s 4ms/step - loss: 2137721.2500\n",
            "Epoch 907/1000\n",
            "5/5 [==============================] - 0s 4ms/step - loss: 2146031.7500\n",
            "Epoch 908/1000\n",
            "5/5 [==============================] - 0s 4ms/step - loss: 2130619.2500\n",
            "Epoch 909/1000\n",
            "5/5 [==============================] - 0s 4ms/step - loss: 2128144.5000\n",
            "Epoch 910/1000\n",
            "5/5 [==============================] - 0s 4ms/step - loss: 2125549.2500\n",
            "Epoch 911/1000\n",
            "5/5 [==============================] - 0s 5ms/step - loss: 2125673.7500\n",
            "Epoch 912/1000\n",
            "5/5 [==============================] - 0s 4ms/step - loss: 2119349.5000\n",
            "Epoch 913/1000\n",
            "5/5 [==============================] - 0s 4ms/step - loss: 2117899.0000\n",
            "Epoch 914/1000\n",
            "5/5 [==============================] - 0s 3ms/step - loss: 2111415.0000\n",
            "Epoch 915/1000\n",
            "5/5 [==============================] - 0s 4ms/step - loss: 2110296.7500\n",
            "Epoch 916/1000\n",
            "5/5 [==============================] - 0s 3ms/step - loss: 2108884.0000\n",
            "Epoch 917/1000\n",
            "5/5 [==============================] - 0s 4ms/step - loss: 2104022.7500\n",
            "Epoch 918/1000\n",
            "5/5 [==============================] - 0s 4ms/step - loss: 2101950.7500\n",
            "Epoch 919/1000\n",
            "5/5 [==============================] - 0s 3ms/step - loss: 2099077.0000\n",
            "Epoch 920/1000\n",
            "5/5 [==============================] - 0s 3ms/step - loss: 2097635.0000\n",
            "Epoch 921/1000\n",
            "5/5 [==============================] - 0s 4ms/step - loss: 2095701.0000\n",
            "Epoch 922/1000\n",
            "5/5 [==============================] - 0s 5ms/step - loss: 2090287.1250\n",
            "Epoch 923/1000\n",
            "5/5 [==============================] - 0s 5ms/step - loss: 2085789.1250\n",
            "Epoch 924/1000\n",
            "5/5 [==============================] - 0s 4ms/step - loss: 2083426.1250\n",
            "Epoch 925/1000\n",
            "5/5 [==============================] - 0s 3ms/step - loss: 2081059.7500\n",
            "Epoch 926/1000\n",
            "5/5 [==============================] - 0s 5ms/step - loss: 2077455.0000\n",
            "Epoch 927/1000\n",
            "5/5 [==============================] - 0s 6ms/step - loss: 2076991.8750\n",
            "Epoch 928/1000\n",
            "5/5 [==============================] - 0s 5ms/step - loss: 2072070.2500\n",
            "Epoch 929/1000\n",
            "5/5 [==============================] - 0s 5ms/step - loss: 2070106.6250\n",
            "Epoch 930/1000\n",
            "5/5 [==============================] - 0s 5ms/step - loss: 2067154.3750\n",
            "Epoch 931/1000\n",
            "5/5 [==============================] - 0s 5ms/step - loss: 2066477.1250\n",
            "Epoch 932/1000\n",
            "5/5 [==============================] - 0s 5ms/step - loss: 2060342.0000\n",
            "Epoch 933/1000\n",
            "5/5 [==============================] - 0s 4ms/step - loss: 2059336.7500\n",
            "Epoch 934/1000\n",
            "5/5 [==============================] - 0s 5ms/step - loss: 2055210.6250\n",
            "Epoch 935/1000\n",
            "5/5 [==============================] - 0s 4ms/step - loss: 2053472.6250\n",
            "Epoch 936/1000\n",
            "5/5 [==============================] - 0s 4ms/step - loss: 2051751.8750\n",
            "Epoch 937/1000\n",
            "5/5 [==============================] - 0s 4ms/step - loss: 2046801.2500\n",
            "Epoch 938/1000\n",
            "5/5 [==============================] - 0s 4ms/step - loss: 2044748.6250\n",
            "Epoch 939/1000\n",
            "5/5 [==============================] - 0s 4ms/step - loss: 2040937.2500\n",
            "Epoch 940/1000\n",
            "5/5 [==============================] - 0s 4ms/step - loss: 2039255.8750\n",
            "Epoch 941/1000\n",
            "5/5 [==============================] - 0s 5ms/step - loss: 2036625.3750\n",
            "Epoch 942/1000\n",
            "5/5 [==============================] - 0s 4ms/step - loss: 2033493.6250\n",
            "Epoch 943/1000\n",
            "5/5 [==============================] - 0s 4ms/step - loss: 2030798.5000\n",
            "Epoch 944/1000\n",
            "5/5 [==============================] - 0s 4ms/step - loss: 2028173.6250\n",
            "Epoch 945/1000\n",
            "5/5 [==============================] - 0s 4ms/step - loss: 2027196.5000\n",
            "Epoch 946/1000\n",
            "5/5 [==============================] - 0s 4ms/step - loss: 2021880.6250\n",
            "Epoch 947/1000\n",
            "5/5 [==============================] - 0s 4ms/step - loss: 2029275.6250\n",
            "Epoch 948/1000\n",
            "5/5 [==============================] - 0s 5ms/step - loss: 2017227.8750\n",
            "Epoch 949/1000\n",
            "5/5 [==============================] - 0s 4ms/step - loss: 2014516.8750\n",
            "Epoch 950/1000\n",
            "5/5 [==============================] - 0s 4ms/step - loss: 2011481.7500\n",
            "Epoch 951/1000\n",
            "5/5 [==============================] - 0s 5ms/step - loss: 2011069.8750\n",
            "Epoch 952/1000\n",
            "5/5 [==============================] - 0s 5ms/step - loss: 2007625.0000\n",
            "Epoch 953/1000\n",
            "5/5 [==============================] - 0s 4ms/step - loss: 2003200.7500\n",
            "Epoch 954/1000\n",
            "5/5 [==============================] - 0s 5ms/step - loss: 2000574.2500\n",
            "Epoch 955/1000\n",
            "5/5 [==============================] - 0s 4ms/step - loss: 1999270.0000\n",
            "Epoch 956/1000\n",
            "5/5 [==============================] - 0s 6ms/step - loss: 1996409.5000\n",
            "Epoch 957/1000\n",
            "5/5 [==============================] - 0s 5ms/step - loss: 1994841.0000\n",
            "Epoch 958/1000\n",
            "5/5 [==============================] - 0s 5ms/step - loss: 1991080.1250\n",
            "Epoch 959/1000\n",
            "5/5 [==============================] - 0s 6ms/step - loss: 1988241.2500\n",
            "Epoch 960/1000\n",
            "5/5 [==============================] - 0s 5ms/step - loss: 1987868.6250\n",
            "Epoch 961/1000\n",
            "5/5 [==============================] - 0s 5ms/step - loss: 1983930.3750\n",
            "Epoch 962/1000\n",
            "5/5 [==============================] - 0s 5ms/step - loss: 1980866.8750\n",
            "Epoch 963/1000\n",
            "5/5 [==============================] - 0s 5ms/step - loss: 1977712.1250\n",
            "Epoch 964/1000\n",
            "5/5 [==============================] - 0s 5ms/step - loss: 1976119.5000\n",
            "Epoch 965/1000\n",
            "5/5 [==============================] - 0s 5ms/step - loss: 1972734.7500\n",
            "Epoch 966/1000\n",
            "5/5 [==============================] - 0s 4ms/step - loss: 1975070.7500\n",
            "Epoch 967/1000\n",
            "5/5 [==============================] - 0s 4ms/step - loss: 1968133.8750\n",
            "Epoch 968/1000\n",
            "5/5 [==============================] - 0s 4ms/step - loss: 1965758.0000\n",
            "Epoch 969/1000\n",
            "5/5 [==============================] - 0s 5ms/step - loss: 1962898.1250\n",
            "Epoch 970/1000\n",
            "5/5 [==============================] - 0s 6ms/step - loss: 1961674.6250\n",
            "Epoch 971/1000\n",
            "5/5 [==============================] - 0s 5ms/step - loss: 1958156.5000\n",
            "Epoch 972/1000\n",
            "5/5 [==============================] - 0s 6ms/step - loss: 1953542.0000\n",
            "Epoch 973/1000\n",
            "5/5 [==============================] - 0s 5ms/step - loss: 1957214.5000\n",
            "Epoch 974/1000\n",
            "5/5 [==============================] - 0s 4ms/step - loss: 1949323.1250\n",
            "Epoch 975/1000\n",
            "5/5 [==============================] - 0s 4ms/step - loss: 1947453.2500\n",
            "Epoch 976/1000\n",
            "5/5 [==============================] - 0s 5ms/step - loss: 1945901.2500\n",
            "Epoch 977/1000\n",
            "5/5 [==============================] - 0s 4ms/step - loss: 1942969.7500\n",
            "Epoch 978/1000\n",
            "5/5 [==============================] - 0s 4ms/step - loss: 1940696.7500\n",
            "Epoch 979/1000\n",
            "5/5 [==============================] - 0s 5ms/step - loss: 1935864.5000\n",
            "Epoch 980/1000\n",
            "5/5 [==============================] - 0s 4ms/step - loss: 1937876.5000\n",
            "Epoch 981/1000\n",
            "5/5 [==============================] - 0s 4ms/step - loss: 1933139.5000\n",
            "Epoch 982/1000\n",
            "5/5 [==============================] - 0s 4ms/step - loss: 1928584.8750\n",
            "Epoch 983/1000\n",
            "5/5 [==============================] - 0s 4ms/step - loss: 1927011.7500\n",
            "Epoch 984/1000\n",
            "5/5 [==============================] - 0s 5ms/step - loss: 1924576.7500\n",
            "Epoch 985/1000\n",
            "5/5 [==============================] - 0s 4ms/step - loss: 1921227.7500\n",
            "Epoch 986/1000\n",
            "5/5 [==============================] - 0s 4ms/step - loss: 1920892.3750\n",
            "Epoch 987/1000\n",
            "5/5 [==============================] - 0s 4ms/step - loss: 1918027.6250\n",
            "Epoch 988/1000\n",
            "5/5 [==============================] - 0s 4ms/step - loss: 1919058.8750\n",
            "Epoch 989/1000\n",
            "5/5 [==============================] - 0s 4ms/step - loss: 1913213.6250\n",
            "Epoch 990/1000\n",
            "5/5 [==============================] - 0s 4ms/step - loss: 1909911.1250\n",
            "Epoch 991/1000\n",
            "5/5 [==============================] - 0s 4ms/step - loss: 1909893.2500\n",
            "Epoch 992/1000\n",
            "5/5 [==============================] - 0s 4ms/step - loss: 1906058.1250\n",
            "Epoch 993/1000\n",
            "5/5 [==============================] - 0s 4ms/step - loss: 1902603.6250\n",
            "Epoch 994/1000\n",
            "5/5 [==============================] - 0s 4ms/step - loss: 1901020.3750\n",
            "Epoch 995/1000\n",
            "5/5 [==============================] - 0s 5ms/step - loss: 1898629.3750\n",
            "Epoch 996/1000\n",
            "5/5 [==============================] - 0s 6ms/step - loss: 1894826.2500\n",
            "Epoch 997/1000\n",
            "5/5 [==============================] - 0s 4ms/step - loss: 1897913.0000\n",
            "Epoch 998/1000\n",
            "5/5 [==============================] - 0s 6ms/step - loss: 1890598.7500\n",
            "Epoch 999/1000\n",
            "5/5 [==============================] - 0s 4ms/step - loss: 1888250.0000\n",
            "Epoch 1000/1000\n",
            "5/5 [==============================] - 0s 4ms/step - loss: 1885876.2500\n"
          ]
        }
      ]
    },
    {
      "cell_type": "code",
      "source": [
        "# Evaluamos el modelo en los datos de entrenamiento\n",
        "mse = model.evaluate(X_train, y_train)\n",
        "print('Error cuadrático medio (MSE): %.2f' % (mse))"
      ],
      "metadata": {
        "colab": {
          "base_uri": "https://localhost:8080/"
        },
        "id": "wVealaEqOO_l",
        "outputId": "cc27c72c-bc30-4afc-f95b-0dbccf2ce851"
      },
      "execution_count": null,
      "outputs": [
        {
          "output_type": "stream",
          "name": "stdout",
          "text": [
            "4/4 [==============================] - 0s 5ms/step - loss: 1881853.2500\n",
            "Error cuadrático medio (MSE): 1881853.25\n"
          ]
        }
      ]
    },
    {
      "cell_type": "code",
      "source": [
        "# Graficar la evolución de la función de pérdida\n",
        "plt.plot(history.history['loss'])\n",
        "plt.title('Función de Pérdida')\n",
        "plt.xlabel('Época')\n",
        "plt.ylabel('Pérdida')\n",
        "plt.show()"
      ],
      "metadata": {
        "colab": {
          "base_uri": "https://localhost:8080/",
          "height": 297
        },
        "id": "Y86phuapkKSa",
        "outputId": "412294f6-acbe-4753-df37-37b27701284a"
      },
      "execution_count": null,
      "outputs": [
        {
          "output_type": "display_data",
          "data": {
            "text/plain": [
              "<Figure size 432x288 with 1 Axes>"
            ],
            "image/png": "[encoded data removed]"
          },
          "metadata": {
            "needs_background": "light"
          }
        }
      ]
    },
    {
      "cell_type": "code",
      "source": [
        "# Graficar la evolución de la métrica de evaluación (en este caso, precisión)\n",
        "plt.plot(history.history['loss'])\n",
        "plt.title('loss')\n",
        "plt.xlabel('Época')\n",
        "plt.ylabel('loss')\n",
        "plt.show()"
      ],
      "metadata": {
        "colab": {
          "base_uri": "https://localhost:8080/",
          "height": 297
        },
        "id": "q__yWHwXkKxR",
        "outputId": "5bca6c66-f8f3-457d-d20f-4d85366f4eaf"
      },
      "execution_count": null,
      "outputs": [
        {
          "output_type": "display_data",
          "data": {
            "text/plain": [
              "<Figure size 432x288 with 1 Axes>"
            ],
            "image/png": "[encoded data removed]"
          },
          "metadata": {
            "needs_background": "light"
          }
        }
      ]
    }
  ]
}